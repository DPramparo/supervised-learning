{
  "cells": [
    {
      "cell_type": "markdown",
      "metadata": {
        "id": "view-in-github",
        "colab_type": "text"
      },
      "source": [
        "<a href=\"https://colab.research.google.com/github/DPramparo/supervised-learning/blob/Master/3_Intro_al_aprendizaje_supervisado_(clasificaci%C3%B3n_I)_Damian_Pramparo.ipynb\" target=\"_parent\"><img src=\"https://colab.research.google.com/assets/colab-badge.svg\" alt=\"Open In Colab\"/></a>"
      ]
    },
    {
      "cell_type": "markdown",
      "metadata": {
        "id": "aucKELQ-hSkg"
      },
      "source": [
        "#Trabajo Práctico 1\n",
        "Utilizando de tu elección para clasificación (o regresión), realizar la mejora iterativa de un modelo de predicción para dicho dataset. Realizar un informe (estilo bitácora, puede ser un notebook, un pdf/doc o incluso estar junto con el código) en donde se especifiquen las distintas etapas de iteración del mismo, comentando lo que se intentó, lo que funcionó, lo que no, citando las fuentes consultadas.\n",
        "\n",
        "Las consignas son las siguientes:\n",
        "\n",
        "1-Seleccionar un dataset de interés. Puede ser público (ver algunos links de ejemplo debajo) o propio. Cargarlo en un notebook, pre-procesarlo si es necesario y obtener visualizaciones/sumarizaciones del mismo que ayuden a entenderlo. Dadas las técnicas que vimos hasta ahora, se sugiere que el dataset sea estructurado.\n",
        "\n",
        "2-Sugerencia: empezar con un dataset simple (se adjunta código para comenzar con el dataset breast cancer), priorizando entender las librerías y métodos utilizados por sobre la complejidad de los datos. Una vez hecho eso, pasar a conjuntos de datos más complejos, si así se lo desea. Si se empieza por un dataset simple y se pasa a uno complejo, se sugiere incluir ambos análisis en el informe.\n",
        "\n",
        "3-Entrenar en el mismo modelos de clasificación (o regresión, si aplica), probando modelos más flexibles como random forest o support vector machines (para repaso: link a notebook con resumen rápido de algunos modelos). Si se usa Kaggle y es una competencia abierta: Se alienta a realizar envíos a Kaggle y especificar cuáles fueron los puntajes en la tabla de posiciones tras la(s) submission(s). Si no se usa Kaggle, especificar la métrica alcanzada en las distintas iteraciones del modelo.\n",
        "\n",
        "4-Realizar algún tipo de normalización en los datos. Decidir si la misma es incluída (o no) en el modelo, y justificar brevemente por qué (se lo puede ir viendo en la primera parte del notebook de Clasificación II.ipynb)).\n",
        "\n",
        "5- Buscar buenos híper-parámetros haciendo búsqueda en grilla o algún otro método, utilizando un subconjunto de validación. Puede hacerse manualmente, utilizando k-folds (ver plantilla debajo), mediante la librería de Sklearn, o alguna otra forma.\n",
        "\n",
        "Si se realiza clasificación, mostrar métricas de tasa de aciertos, precision, recall y matriz de confusión. Si se usara regresión mostrar métricas como el error cuadrático medio.\n",
        "\n",
        "Fecha de entrega: 28/05/2021 23:59\n"
      ]
    },
    {
      "cell_type": "code",
      "execution_count": null,
      "metadata": {
        "colab": {
          "base_uri": "https://localhost:8080/"
        },
        "id": "AQOiVTmyDMim",
        "outputId": "01a39a81-aa25-43b7-b38f-5247d42f1adf"
      },
      "outputs": [
        {
          "name": "stdout",
          "output_type": "stream",
          "text": [
            "--2021-05-11 17:12:12--  https://docs.google.com/uc?export=download&id=1SFmFhNUWCVI6SodT3JUh74im9UhjPix2\n",
            "Resolving docs.google.com (docs.google.com)... 142.250.65.78, 2607:f8b0:4004:837::200e\n",
            "Connecting to docs.google.com (docs.google.com)|142.250.65.78|:443... connected.\n",
            "HTTP request sent, awaiting response... 302 Moved Temporarily\n",
            "Location: https://doc-0c-94-docs.googleusercontent.com/docs/securesc/ha0ro937gcuc7l7deffksulhg5h7mbp1/lct05th17sj6g2ktdbtpvvbnfhoqsb35/1620753075000/13582079848658458518/*/1SFmFhNUWCVI6SodT3JUh74im9UhjPix2?e=download [following]\n",
            "Warning: wildcards not supported in HTTP.\n",
            "--2021-05-11 17:12:13--  https://doc-0c-94-docs.googleusercontent.com/docs/securesc/ha0ro937gcuc7l7deffksulhg5h7mbp1/lct05th17sj6g2ktdbtpvvbnfhoqsb35/1620753075000/13582079848658458518/*/1SFmFhNUWCVI6SodT3JUh74im9UhjPix2?e=download\n",
            "Resolving doc-0c-94-docs.googleusercontent.com (doc-0c-94-docs.googleusercontent.com)... 172.217.15.65, 2607:f8b0:4004:810::2001\n",
            "Connecting to doc-0c-94-docs.googleusercontent.com (doc-0c-94-docs.googleusercontent.com)|172.217.15.65|:443... connected.\n",
            "HTTP request sent, awaiting response... 200 OK\n",
            "Length: 1065381 (1.0M) [text/csv]\n",
            "Saving to: ‘voice.csv’\n",
            "\n",
            "voice.csv           100%[===================>]   1.02M  --.-KB/s    in 0.05s   \n",
            "\n",
            "2021-05-11 17:12:13 (19.6 MB/s) - ‘voice.csv’ saved [1065381/1065381]\n",
            "\n"
          ]
        }
      ],
      "source": [
        "#El dataset elegido es el de reconocimiento de genero por voz https://www.kaggle.com/primaryobjects/voicegender\n",
        "!wget --no-check-certificate 'https://docs.google.com/uc?export=download&id=1SFmFhNUWCVI6SodT3JUh74im9UhjPix2' -O \"voice.csv\""
      ]
    },
    {
      "cell_type": "code",
      "execution_count": null,
      "metadata": {
        "colab": {
          "base_uri": "https://localhost:8080/"
        },
        "id": "sozlompckotq",
        "outputId": "ada1653a-536a-43b1-fa5a-cbf651ce90c7"
      },
      "outputs": [
        {
          "name": "stdout",
          "output_type": "stream",
          "text": [
            "      meanfreq        sd    median  ...   dfrange   modindx   label\n",
            "0     0.059781  0.064241  0.032027  ...  0.000000  0.000000    male\n",
            "1     0.066009  0.067310  0.040229  ...  0.046875  0.052632    male\n",
            "2     0.077316  0.083829  0.036718  ...  0.007812  0.046512    male\n",
            "3     0.151228  0.072111  0.158011  ...  0.554688  0.247119    male\n",
            "4     0.135120  0.079146  0.124656  ...  5.476562  0.208274    male\n",
            "...        ...       ...       ...  ...       ...       ...     ...\n",
            "3163  0.131884  0.084734  0.153707  ...  4.203125  0.161929  female\n",
            "3164  0.116221  0.089221  0.076758  ...  3.640625  0.277897  female\n",
            "3165  0.142056  0.095798  0.183731  ...  2.929688  0.194759  female\n",
            "3166  0.143659  0.090628  0.184976  ...  3.585938  0.311002  female\n",
            "3167  0.165509  0.092884  0.183044  ...  0.546875  0.350000  female\n",
            "\n",
            "[3168 rows x 21 columns]\n"
          ]
        }
      ],
      "source": [
        "#Imports necesarios\n",
        "import pandas as pd\n",
        "df_voice = pd.read_csv('voice.csv')\n",
        "print(df_voice)"
      ]
    },
    {
      "cell_type": "code",
      "execution_count": null,
      "metadata": {
        "colab": {
          "base_uri": "https://localhost:8080/"
        },
        "id": "-ZNz4kuNk4_B",
        "outputId": "32921c0c-6f35-45c9-8a5a-a2939e9f6d1c"
      },
      "outputs": [
        {
          "name": "stdout",
          "output_type": "stream",
          "text": [
            "Index(['meanfreq', 'sd', 'median', 'Q25', 'Q75', 'IQR', 'skew', 'kurt',\n",
            "       'sp.ent', 'sfm', 'mode', 'centroid', 'meanfun', 'minfun', 'maxfun',\n",
            "       'meandom', 'mindom', 'maxdom', 'dfrange', 'modindx', 'label'],\n",
            "      dtype='object')\n"
          ]
        }
      ],
      "source": [
        "# Detalle de las columnas\n",
        "print(df_voice.columns)"
      ]
    },
    {
      "cell_type": "code",
      "execution_count": null,
      "metadata": {
        "colab": {
          "base_uri": "https://localhost:8080/",
          "height": 224
        },
        "id": "TA_X_WyvEPxd",
        "outputId": "f4d22158-ec56-40d4-9736-a5cace714777"
      },
      "outputs": [
        {
          "data": {
            "text/html": [
              "<div>\n",
              "<style scoped>\n",
              "    .dataframe tbody tr th:only-of-type {\n",
              "        vertical-align: middle;\n",
              "    }\n",
              "\n",
              "    .dataframe tbody tr th {\n",
              "        vertical-align: top;\n",
              "    }\n",
              "\n",
              "    .dataframe thead th {\n",
              "        text-align: right;\n",
              "    }\n",
              "</style>\n",
              "<table border=\"1\" class=\"dataframe\">\n",
              "  <thead>\n",
              "    <tr style=\"text-align: right;\">\n",
              "      <th></th>\n",
              "      <th>meanfreq</th>\n",
              "      <th>sd</th>\n",
              "      <th>median</th>\n",
              "      <th>Q25</th>\n",
              "      <th>Q75</th>\n",
              "      <th>IQR</th>\n",
              "      <th>skew</th>\n",
              "      <th>kurt</th>\n",
              "      <th>sp.ent</th>\n",
              "      <th>sfm</th>\n",
              "      <th>mode</th>\n",
              "      <th>centroid</th>\n",
              "      <th>meanfun</th>\n",
              "      <th>minfun</th>\n",
              "      <th>maxfun</th>\n",
              "      <th>meandom</th>\n",
              "      <th>mindom</th>\n",
              "      <th>maxdom</th>\n",
              "      <th>dfrange</th>\n",
              "      <th>modindx</th>\n",
              "      <th>label</th>\n",
              "    </tr>\n",
              "  </thead>\n",
              "  <tbody>\n",
              "    <tr>\n",
              "      <th>0</th>\n",
              "      <td>0.059781</td>\n",
              "      <td>0.064241</td>\n",
              "      <td>0.032027</td>\n",
              "      <td>0.015071</td>\n",
              "      <td>0.090193</td>\n",
              "      <td>0.075122</td>\n",
              "      <td>12.863462</td>\n",
              "      <td>274.402906</td>\n",
              "      <td>0.893369</td>\n",
              "      <td>0.491918</td>\n",
              "      <td>0.000000</td>\n",
              "      <td>0.059781</td>\n",
              "      <td>0.084279</td>\n",
              "      <td>0.015702</td>\n",
              "      <td>0.275862</td>\n",
              "      <td>0.007812</td>\n",
              "      <td>0.007812</td>\n",
              "      <td>0.007812</td>\n",
              "      <td>0.000000</td>\n",
              "      <td>0.000000</td>\n",
              "      <td>male</td>\n",
              "    </tr>\n",
              "    <tr>\n",
              "      <th>1</th>\n",
              "      <td>0.066009</td>\n",
              "      <td>0.067310</td>\n",
              "      <td>0.040229</td>\n",
              "      <td>0.019414</td>\n",
              "      <td>0.092666</td>\n",
              "      <td>0.073252</td>\n",
              "      <td>22.423285</td>\n",
              "      <td>634.613855</td>\n",
              "      <td>0.892193</td>\n",
              "      <td>0.513724</td>\n",
              "      <td>0.000000</td>\n",
              "      <td>0.066009</td>\n",
              "      <td>0.107937</td>\n",
              "      <td>0.015826</td>\n",
              "      <td>0.250000</td>\n",
              "      <td>0.009014</td>\n",
              "      <td>0.007812</td>\n",
              "      <td>0.054688</td>\n",
              "      <td>0.046875</td>\n",
              "      <td>0.052632</td>\n",
              "      <td>male</td>\n",
              "    </tr>\n",
              "    <tr>\n",
              "      <th>2</th>\n",
              "      <td>0.077316</td>\n",
              "      <td>0.083829</td>\n",
              "      <td>0.036718</td>\n",
              "      <td>0.008701</td>\n",
              "      <td>0.131908</td>\n",
              "      <td>0.123207</td>\n",
              "      <td>30.757155</td>\n",
              "      <td>1024.927705</td>\n",
              "      <td>0.846389</td>\n",
              "      <td>0.478905</td>\n",
              "      <td>0.000000</td>\n",
              "      <td>0.077316</td>\n",
              "      <td>0.098706</td>\n",
              "      <td>0.015656</td>\n",
              "      <td>0.271186</td>\n",
              "      <td>0.007990</td>\n",
              "      <td>0.007812</td>\n",
              "      <td>0.015625</td>\n",
              "      <td>0.007812</td>\n",
              "      <td>0.046512</td>\n",
              "      <td>male</td>\n",
              "    </tr>\n",
              "    <tr>\n",
              "      <th>3</th>\n",
              "      <td>0.151228</td>\n",
              "      <td>0.072111</td>\n",
              "      <td>0.158011</td>\n",
              "      <td>0.096582</td>\n",
              "      <td>0.207955</td>\n",
              "      <td>0.111374</td>\n",
              "      <td>1.232831</td>\n",
              "      <td>4.177296</td>\n",
              "      <td>0.963322</td>\n",
              "      <td>0.727232</td>\n",
              "      <td>0.083878</td>\n",
              "      <td>0.151228</td>\n",
              "      <td>0.088965</td>\n",
              "      <td>0.017798</td>\n",
              "      <td>0.250000</td>\n",
              "      <td>0.201497</td>\n",
              "      <td>0.007812</td>\n",
              "      <td>0.562500</td>\n",
              "      <td>0.554688</td>\n",
              "      <td>0.247119</td>\n",
              "      <td>male</td>\n",
              "    </tr>\n",
              "    <tr>\n",
              "      <th>4</th>\n",
              "      <td>0.135120</td>\n",
              "      <td>0.079146</td>\n",
              "      <td>0.124656</td>\n",
              "      <td>0.078720</td>\n",
              "      <td>0.206045</td>\n",
              "      <td>0.127325</td>\n",
              "      <td>1.101174</td>\n",
              "      <td>4.333713</td>\n",
              "      <td>0.971955</td>\n",
              "      <td>0.783568</td>\n",
              "      <td>0.104261</td>\n",
              "      <td>0.135120</td>\n",
              "      <td>0.106398</td>\n",
              "      <td>0.016931</td>\n",
              "      <td>0.266667</td>\n",
              "      <td>0.712812</td>\n",
              "      <td>0.007812</td>\n",
              "      <td>5.484375</td>\n",
              "      <td>5.476562</td>\n",
              "      <td>0.208274</td>\n",
              "      <td>male</td>\n",
              "    </tr>\n",
              "  </tbody>\n",
              "</table>\n",
              "</div>"
            ],
            "text/plain": [
              "   meanfreq        sd    median       Q25  ...    maxdom   dfrange   modindx  label\n",
              "0  0.059781  0.064241  0.032027  0.015071  ...  0.007812  0.000000  0.000000   male\n",
              "1  0.066009  0.067310  0.040229  0.019414  ...  0.054688  0.046875  0.052632   male\n",
              "2  0.077316  0.083829  0.036718  0.008701  ...  0.015625  0.007812  0.046512   male\n",
              "3  0.151228  0.072111  0.158011  0.096582  ...  0.562500  0.554688  0.247119   male\n",
              "4  0.135120  0.079146  0.124656  0.078720  ...  5.484375  5.476562  0.208274   male\n",
              "\n",
              "[5 rows x 21 columns]"
            ]
          },
          "execution_count": 176,
          "metadata": {
            "tags": []
          },
          "output_type": "execute_result"
        }
      ],
      "source": [
        "#Visualizacion de los datos y conocer que se encuentra en cada una de las columnas\n",
        "df_voice.head()"
      ]
    },
    {
      "cell_type": "code",
      "execution_count": null,
      "metadata": {
        "colab": {
          "base_uri": "https://localhost:8080/",
          "height": 317
        },
        "id": "sftD7h5tEXeh",
        "outputId": "609ce54f-fd3f-4897-c65c-461853a26955"
      },
      "outputs": [
        {
          "data": {
            "text/html": [
              "<div>\n",
              "<style scoped>\n",
              "    .dataframe tbody tr th:only-of-type {\n",
              "        vertical-align: middle;\n",
              "    }\n",
              "\n",
              "    .dataframe tbody tr th {\n",
              "        vertical-align: top;\n",
              "    }\n",
              "\n",
              "    .dataframe thead th {\n",
              "        text-align: right;\n",
              "    }\n",
              "</style>\n",
              "<table border=\"1\" class=\"dataframe\">\n",
              "  <thead>\n",
              "    <tr style=\"text-align: right;\">\n",
              "      <th></th>\n",
              "      <th>meanfreq</th>\n",
              "      <th>sd</th>\n",
              "      <th>median</th>\n",
              "      <th>Q25</th>\n",
              "      <th>Q75</th>\n",
              "      <th>IQR</th>\n",
              "      <th>skew</th>\n",
              "      <th>kurt</th>\n",
              "      <th>sp.ent</th>\n",
              "      <th>sfm</th>\n",
              "      <th>mode</th>\n",
              "      <th>centroid</th>\n",
              "      <th>meanfun</th>\n",
              "      <th>minfun</th>\n",
              "      <th>maxfun</th>\n",
              "      <th>meandom</th>\n",
              "      <th>mindom</th>\n",
              "      <th>maxdom</th>\n",
              "      <th>dfrange</th>\n",
              "      <th>modindx</th>\n",
              "    </tr>\n",
              "  </thead>\n",
              "  <tbody>\n",
              "    <tr>\n",
              "      <th>count</th>\n",
              "      <td>3168.000000</td>\n",
              "      <td>3168.000000</td>\n",
              "      <td>3168.000000</td>\n",
              "      <td>3168.000000</td>\n",
              "      <td>3168.000000</td>\n",
              "      <td>3168.000000</td>\n",
              "      <td>3168.000000</td>\n",
              "      <td>3168.000000</td>\n",
              "      <td>3168.000000</td>\n",
              "      <td>3168.000000</td>\n",
              "      <td>3168.000000</td>\n",
              "      <td>3168.000000</td>\n",
              "      <td>3168.000000</td>\n",
              "      <td>3168.000000</td>\n",
              "      <td>3168.000000</td>\n",
              "      <td>3168.000000</td>\n",
              "      <td>3168.000000</td>\n",
              "      <td>3168.000000</td>\n",
              "      <td>3168.000000</td>\n",
              "      <td>3168.000000</td>\n",
              "    </tr>\n",
              "    <tr>\n",
              "      <th>mean</th>\n",
              "      <td>0.180907</td>\n",
              "      <td>0.057126</td>\n",
              "      <td>0.185621</td>\n",
              "      <td>0.140456</td>\n",
              "      <td>0.224765</td>\n",
              "      <td>0.084309</td>\n",
              "      <td>3.140168</td>\n",
              "      <td>36.568461</td>\n",
              "      <td>0.895127</td>\n",
              "      <td>0.408216</td>\n",
              "      <td>0.165282</td>\n",
              "      <td>0.180907</td>\n",
              "      <td>0.142807</td>\n",
              "      <td>0.036802</td>\n",
              "      <td>0.258842</td>\n",
              "      <td>0.829211</td>\n",
              "      <td>0.052647</td>\n",
              "      <td>5.047277</td>\n",
              "      <td>4.994630</td>\n",
              "      <td>0.173752</td>\n",
              "    </tr>\n",
              "    <tr>\n",
              "      <th>std</th>\n",
              "      <td>0.029918</td>\n",
              "      <td>0.016652</td>\n",
              "      <td>0.036360</td>\n",
              "      <td>0.048680</td>\n",
              "      <td>0.023639</td>\n",
              "      <td>0.042783</td>\n",
              "      <td>4.240529</td>\n",
              "      <td>134.928661</td>\n",
              "      <td>0.044980</td>\n",
              "      <td>0.177521</td>\n",
              "      <td>0.077203</td>\n",
              "      <td>0.029918</td>\n",
              "      <td>0.032304</td>\n",
              "      <td>0.019220</td>\n",
              "      <td>0.030077</td>\n",
              "      <td>0.525205</td>\n",
              "      <td>0.063299</td>\n",
              "      <td>3.521157</td>\n",
              "      <td>3.520039</td>\n",
              "      <td>0.119454</td>\n",
              "    </tr>\n",
              "    <tr>\n",
              "      <th>min</th>\n",
              "      <td>0.039363</td>\n",
              "      <td>0.018363</td>\n",
              "      <td>0.010975</td>\n",
              "      <td>0.000229</td>\n",
              "      <td>0.042946</td>\n",
              "      <td>0.014558</td>\n",
              "      <td>0.141735</td>\n",
              "      <td>2.068455</td>\n",
              "      <td>0.738651</td>\n",
              "      <td>0.036876</td>\n",
              "      <td>0.000000</td>\n",
              "      <td>0.039363</td>\n",
              "      <td>0.055565</td>\n",
              "      <td>0.009775</td>\n",
              "      <td>0.103093</td>\n",
              "      <td>0.007812</td>\n",
              "      <td>0.004883</td>\n",
              "      <td>0.007812</td>\n",
              "      <td>0.000000</td>\n",
              "      <td>0.000000</td>\n",
              "    </tr>\n",
              "    <tr>\n",
              "      <th>25%</th>\n",
              "      <td>0.163662</td>\n",
              "      <td>0.041954</td>\n",
              "      <td>0.169593</td>\n",
              "      <td>0.111087</td>\n",
              "      <td>0.208747</td>\n",
              "      <td>0.042560</td>\n",
              "      <td>1.649569</td>\n",
              "      <td>5.669547</td>\n",
              "      <td>0.861811</td>\n",
              "      <td>0.258041</td>\n",
              "      <td>0.118016</td>\n",
              "      <td>0.163662</td>\n",
              "      <td>0.116998</td>\n",
              "      <td>0.018223</td>\n",
              "      <td>0.253968</td>\n",
              "      <td>0.419828</td>\n",
              "      <td>0.007812</td>\n",
              "      <td>2.070312</td>\n",
              "      <td>2.044922</td>\n",
              "      <td>0.099766</td>\n",
              "    </tr>\n",
              "    <tr>\n",
              "      <th>50%</th>\n",
              "      <td>0.184838</td>\n",
              "      <td>0.059155</td>\n",
              "      <td>0.190032</td>\n",
              "      <td>0.140286</td>\n",
              "      <td>0.225684</td>\n",
              "      <td>0.094280</td>\n",
              "      <td>2.197101</td>\n",
              "      <td>8.318463</td>\n",
              "      <td>0.901767</td>\n",
              "      <td>0.396335</td>\n",
              "      <td>0.186599</td>\n",
              "      <td>0.184838</td>\n",
              "      <td>0.140519</td>\n",
              "      <td>0.046110</td>\n",
              "      <td>0.271186</td>\n",
              "      <td>0.765795</td>\n",
              "      <td>0.023438</td>\n",
              "      <td>4.992188</td>\n",
              "      <td>4.945312</td>\n",
              "      <td>0.139357</td>\n",
              "    </tr>\n",
              "    <tr>\n",
              "      <th>75%</th>\n",
              "      <td>0.199146</td>\n",
              "      <td>0.067020</td>\n",
              "      <td>0.210618</td>\n",
              "      <td>0.175939</td>\n",
              "      <td>0.243660</td>\n",
              "      <td>0.114175</td>\n",
              "      <td>2.931694</td>\n",
              "      <td>13.648905</td>\n",
              "      <td>0.928713</td>\n",
              "      <td>0.533676</td>\n",
              "      <td>0.221104</td>\n",
              "      <td>0.199146</td>\n",
              "      <td>0.169581</td>\n",
              "      <td>0.047904</td>\n",
              "      <td>0.277457</td>\n",
              "      <td>1.177166</td>\n",
              "      <td>0.070312</td>\n",
              "      <td>7.007812</td>\n",
              "      <td>6.992188</td>\n",
              "      <td>0.209183</td>\n",
              "    </tr>\n",
              "    <tr>\n",
              "      <th>max</th>\n",
              "      <td>0.251124</td>\n",
              "      <td>0.115273</td>\n",
              "      <td>0.261224</td>\n",
              "      <td>0.247347</td>\n",
              "      <td>0.273469</td>\n",
              "      <td>0.252225</td>\n",
              "      <td>34.725453</td>\n",
              "      <td>1309.612887</td>\n",
              "      <td>0.981997</td>\n",
              "      <td>0.842936</td>\n",
              "      <td>0.280000</td>\n",
              "      <td>0.251124</td>\n",
              "      <td>0.237636</td>\n",
              "      <td>0.204082</td>\n",
              "      <td>0.279114</td>\n",
              "      <td>2.957682</td>\n",
              "      <td>0.458984</td>\n",
              "      <td>21.867188</td>\n",
              "      <td>21.843750</td>\n",
              "      <td>0.932374</td>\n",
              "    </tr>\n",
              "  </tbody>\n",
              "</table>\n",
              "</div>"
            ],
            "text/plain": [
              "          meanfreq           sd  ...      dfrange      modindx\n",
              "count  3168.000000  3168.000000  ...  3168.000000  3168.000000\n",
              "mean      0.180907     0.057126  ...     4.994630     0.173752\n",
              "std       0.029918     0.016652  ...     3.520039     0.119454\n",
              "min       0.039363     0.018363  ...     0.000000     0.000000\n",
              "25%       0.163662     0.041954  ...     2.044922     0.099766\n",
              "50%       0.184838     0.059155  ...     4.945312     0.139357\n",
              "75%       0.199146     0.067020  ...     6.992188     0.209183\n",
              "max       0.251124     0.115273  ...    21.843750     0.932374\n",
              "\n",
              "[8 rows x 20 columns]"
            ]
          },
          "execution_count": 177,
          "metadata": {
            "tags": []
          },
          "output_type": "execute_result"
        }
      ],
      "source": [
        "#Describe de los datos para conocer mejor como se comportan\n",
        "df_voice.describe()"
      ]
    },
    {
      "cell_type": "code",
      "execution_count": null,
      "metadata": {
        "colab": {
          "base_uri": "https://localhost:8080/"
        },
        "id": "JzU-ZuSoZ4SG",
        "outputId": "23840ebb-b587-423d-87e5-583be0b54c8e"
      },
      "outputs": [
        {
          "name": "stdout",
          "output_type": "stream",
          "text": [
            "[array([0.03936334, 0.04825408, 0.05964549, ..., 0.24704068, 0.24963659,\n",
            "       0.25112376]), array(['female', 'male'], dtype=object)]\n"
          ]
        }
      ],
      "source": [
        "#Primero, debemos cambiar los string por datos que puedan ser utilizado.\n",
        "#Procesar label a 0 y 1\n",
        "#Haciendo uso de OneHotEncoder, podemos convertir los datos a 0 y 1, sin perder la relacion por categoria.\n",
        "####SACADO DEL GITHUB DE LA CLASE###\n",
        "from sklearn.preprocessing import OneHotEncoder\n",
        "\n",
        "encoder = OneHotEncoder()\n",
        "df_voice_ohe = encoder.fit(df_voice[['meanfreq', 'label']])\n",
        "print(df_voice_ohe.categories_)"
      ]
    },
    {
      "cell_type": "code",
      "execution_count": null,
      "metadata": {
        "colab": {
          "base_uri": "https://localhost:8080/"
        },
        "id": "4ks1NqvIcobB",
        "outputId": "85cbcbb7-d8aa-4373-b7c2-5c5722b5f0f0"
      },
      "outputs": [
        {
          "name": "stdout",
          "output_type": "stream",
          "text": [
            "['meanfreq_0.0393633425835608' 'meanfreq_0.0482540751859225'\n",
            " 'meanfreq_0.0596454867381567' ... 'meanfreq_0.251123758720282'\n",
            " 'label_female' 'label_male']\n",
            "[[0. 0. 0. ... 0. 0. 1.]\n",
            " [0. 0. 0. ... 0. 0. 1.]\n",
            " [0. 0. 0. ... 0. 0. 1.]\n",
            " ...\n",
            " [0. 0. 0. ... 0. 1. 0.]\n",
            " [0. 0. 0. ... 0. 1. 0.]\n",
            " [0. 0. 0. ... 0. 1. 0.]]\n"
          ]
        }
      ],
      "source": [
        "#Revision de los features para ver como quedan.\n",
        "features_transformados = df_voice_ohe.transform(df_voice[['meanfreq', 'label']]).toarray()\n",
        "\n",
        "print(df_voice_ohe.get_feature_names(['meanfreq', 'label']))\n",
        "print(features_transformados)"
      ]
    },
    {
      "cell_type": "code",
      "execution_count": null,
      "metadata": {
        "id": "koKZm4tReK9_"
      },
      "outputs": [],
      "source": [
        "#Luego agregamos los datos al dataset original para poder trabajar\n",
        "import numpy as np\n",
        "\n",
        "datos_numericos = df_voice[['meanfreq']]\n",
        "datos_completos = np.hstack((datos_numericos, features_transformados))\n",
        "\n",
        "\n",
        "####FIN - SACADO DEL GITHUB DE LA CLASE###"
      ]
    },
    {
      "cell_type": "code",
      "execution_count": null,
      "metadata": {
        "colab": {
          "base_uri": "https://localhost:8080/"
        },
        "id": "t0nvCBfvfCA7",
        "outputId": "c3879e8c-1301-42ce-ce05-79ba0b46a9fa"
      },
      "outputs": [
        {
          "name": "stdout",
          "output_type": "stream",
          "text": [
            "[[0.05978098 0.         0.         ... 0.         0.         1.        ]\n",
            " [0.06600874 0.         0.         ... 0.         0.         1.        ]\n",
            " [0.0773155  0.         0.         ... 0.         0.         1.        ]\n",
            " ...\n",
            " [0.14205626 0.         0.         ... 0.         1.         0.        ]\n",
            " [0.14365874 0.         0.         ... 0.         1.         0.        ]\n",
            " [0.16550895 0.         0.         ... 0.         1.         0.        ]]\n"
          ]
        }
      ],
      "source": [
        "#Revisamos como quedaron los datos\n",
        "print(datos_completos)\n",
        "#Los datos no quedan como yo queria, entonces investigando vi que puedo usar LabelEncoder de sklearn"
      ]
    },
    {
      "cell_type": "code",
      "execution_count": null,
      "metadata": {
        "colab": {
          "base_uri": "https://localhost:8080/"
        },
        "id": "QJvMQxiQpmrd",
        "outputId": "a4a513cd-ad51-43ad-e689-5cbf104ba53a"
      },
      "outputs": [
        {
          "name": "stdout",
          "output_type": "stream",
          "text": [
            "LabelEncoder()\n",
            "0         male\n",
            "1         male\n",
            "2         male\n",
            "3         male\n",
            "4         male\n",
            "         ...  \n",
            "3163    female\n",
            "3164    female\n",
            "3165    female\n",
            "3166    female\n",
            "3167    female\n",
            "Name: label, Length: 3168, dtype: object\n",
            "0       1\n",
            "1       1\n",
            "2       1\n",
            "3       1\n",
            "4       1\n",
            "       ..\n",
            "3163    0\n",
            "3164    0\n",
            "3165    0\n",
            "3166    0\n",
            "3167    0\n",
            "Name: label, Length: 3168, dtype: int64\n"
          ]
        }
      ],
      "source": [
        "###Empiezo a probar con label encoder para ver como se comporta\n",
        "#Ya que OneHotEnconder agrandaba demasiado el dataset por la cantidad de datos que hay.\n",
        "from sklearn import preprocessing\n",
        "label_encoder = preprocessing.LabelEncoder()\n",
        "labels_fit = label_encoder.fit(df_voice['label'])\n",
        "print(labels_fit)\n",
        "#label_encoder.transform(df_voice['label'])\n",
        "print(df_voice['label'])\n",
        "df_voice['label']=label_encoder.transform(df_voice['label'])\n",
        "print(df_voice['label'])"
      ]
    },
    {
      "cell_type": "code",
      "execution_count": null,
      "metadata": {
        "id": "kPw2w9g9EwAd"
      },
      "outputs": [],
      "source": [
        "#Division de los datos en train / test\n",
        "##70 train 30 test\n",
        "from sklearn.model_selection import train_test_split\n",
        "\n",
        "#X = df_voice['meanfreq']\n",
        "#X = np.hstack((df_voice['meanfreq'], df_voice['label']))\n",
        "X=df_voice.drop(['label'], axis=1).values\n",
        "#X = df_voice\n",
        "y = df_voice['label'].values\n",
        "\n",
        "# Dividimos el conjunto en train, test\n",
        "X_train, X_test, y_train, y_test = train_test_split(X, y, random_state=80, test_size=0.3)"
      ]
    },
    {
      "cell_type": "code",
      "execution_count": null,
      "metadata": {
        "colab": {
          "base_uri": "https://localhost:8080/"
        },
        "id": "SWYe7P4Mgpg0",
        "outputId": "5f16c984-d979-4498-902f-467a284f35cd"
      },
      "outputs": [
        {
          "name": "stdout",
          "output_type": "stream",
          "text": [
            "[[1.98524035e-01 6.28371230e-02 2.19962049e-01 ... 9.00000000e+00\n",
            "  8.97656250e+00 1.15839861e-01]\n",
            " [1.64784249e-01 1.07549057e-01 2.19729944e-01 ... 7.81250000e-03\n",
            "  0.00000000e+00 0.00000000e+00]\n",
            " [2.08139028e-01 5.79507414e-02 2.32753108e-01 ... 6.09375000e+00\n",
            "  6.07031250e+00 9.16282136e-02]\n",
            " ...\n",
            " [1.77195443e-01 6.76690861e-02 1.62105263e-01 ... 3.88671875e+00\n",
            "  3.88183594e+00 3.01600915e-01]\n",
            " [1.94216906e-01 6.57052948e-02 1.91339648e-01 ... 5.01562500e+00\n",
            "  4.99218750e+00 1.84319249e-01]\n",
            " [2.04714748e-01 6.25602366e-02 2.40104575e-01 ... 9.09375000e+00\n",
            "  9.07031250e+00 5.62466198e-02]]\n"
          ]
        }
      ],
      "source": [
        "print(X_train)"
      ]
    },
    {
      "cell_type": "code",
      "execution_count": null,
      "metadata": {
        "colab": {
          "base_uri": "https://localhost:8080/"
        },
        "id": "943Js_Khgw9t",
        "outputId": "555ec1fe-8026-4162-f352-267005ae1491"
      },
      "outputs": [
        {
          "name": "stdout",
          "output_type": "stream",
          "text": [
            "[1 0 1 ... 0 1 1]\n"
          ]
        }
      ],
      "source": [
        "print(y_train)"
      ]
    },
    {
      "cell_type": "code",
      "execution_count": null,
      "metadata": {
        "colab": {
          "background_save": true,
          "base_uri": "https://localhost:8080/"
        },
        "id": "vm6a9F46h6CZ",
        "outputId": "208ce5c8-b7ac-4c2f-9df4-e9913718d072"
      },
      "outputs": [
        {
          "data": {
            "text/plain": [
              "SVC(C=1.0, break_ties=False, cache_size=200, class_weight=None, coef0=0.0,\n",
              "    decision_function_shape='ovr', degree=3, gamma='scale', kernel='rbf',\n",
              "    max_iter=-1, probability=False, random_state=None, shrinking=True,\n",
              "    tol=0.001, verbose=False)"
            ]
          },
          "execution_count": null,
          "metadata": {},
          "output_type": "execute_result"
        }
      ],
      "source": [
        "#Primero, voy a intentar con support vector machine, con los datos sin curar.\n",
        "from sklearn import svm\n",
        "\n",
        "clf_svm = svm.SVC()\n",
        "clf_svm.fit(X_train, y_train)"
      ]
    },
    {
      "cell_type": "code",
      "execution_count": null,
      "metadata": {
        "colab": {
          "background_save": true,
          "base_uri": "https://localhost:8080/"
        },
        "id": "o_FFneRMm9ac",
        "outputId": "8a37a334-152a-45af-f2fc-2c58f45b9411"
      },
      "outputs": [
        {
          "name": "stdout",
          "output_type": "stream",
          "text": [
            "[0 0 0 1 1 0 1 1 1 1 0 0 1 1 1 1 1 1 0 1 0 1 1 1 1 1 1 0 1 0 0 1 0 1 0 0 0\n",
            " 1 1 1 1 1 1 1 1 1 0 1 1 1 0 1 0 0 1 0 0 1 0 0 1 1 1 1 1 0 1 0 1 1 1 1 0 1\n",
            " 1 1 0 0 0 1 1 0 1 0 0 1 0 1 1 1 1 1 1 1 0 1 1 0 1 1 0 1 0 0 1 1 1 0 0 1 1\n",
            " 1 1 0 0 0 1 1 1 1 1 0 1 1 0 1 1 1 0 1 1 1 1 1 1 0 0 1 1 1 0 0 0 0 0 0 0 0\n",
            " 0 0 1 0 1 1 1 1 1 0 1 1 1 1 1 0 1 0 1 0 1 1 1 1 1 0 0 1 0 1 0 1 1 1 1 1 1\n",
            " 0 1 0 0 0 1 0 1 0 1 1 1 0 1 1 1 0 1 0 1 1 0 1 0 1 1 1 1 1 1 1 1 1 0 0 1 1\n",
            " 0 0 1 1 1 1 1 0 0 0 1 1 1 1 0 1 1 1 1 1 0 1 0 1 1 1 0 1 1 1 1 1 0 1 1 1 1\n",
            " 1 1 0 1 0 0 1 0 1 0 1 1 0 0 1 1 1 1 0 0 1 1 0 1 0 1 1 1 1 1 1 1 1 1 1 0 0\n",
            " 0 1 0 1 0 1 1 0 1 1 1 0 0 0 0 1 0 1 0 1 0 1 1 1 1 0 0 0 1 0 0 0 1 1 1 1 1\n",
            " 1 1 0 1 1 1 1 0 1 0 1 1 0 0 0 0 0 1 1 0 1 1 1 1 1 1 0 1 0 0 0 1 0 0 1 0 1\n",
            " 0 0 0 0 1 1 1 1 1 0 1 1 1 1 0 0 1 1 1 1 1 1 0 0 1 0 1 1 1 1 1 0 1 0 0 0 1\n",
            " 1 1 1 1 1 1 1 1 1 1 1 0 0 1 0 0 1 1 0 1 1 0 0 1 1 0 1 1 0 1 0 0 1 0 1 1 1\n",
            " 0 1 0 0 1 1 0 0 1 1 1 0 1 0 1 1 0 0 1 1 1 1 0 0 0 0 1 0 0 0 1 0 1 1 1 1 1\n",
            " 0 0 1 1 1 0 1 1 1 1 0 0 0 1 0 1 0 0 0 1 0 1 1 0 1 1 1 1 1 1 1 0 1 1 1 0 1\n",
            " 0 1 1 1 0 1 1 1 1 1 1 0 0 1 0 0 1 1 0 0 0 1 1 0 1 1 0 0 0 0 1 1 1 1 1 0 0\n",
            " 1 1 1 1 1 1 1 0 0 0 0 0 0 1 0 1 1 1 0 0 1 0 1 0 0 1 0 1 1 1 0 0 1 1 1 1 1\n",
            " 1 1 1 1 1 1 0 0 1 1 0 0 1 0 1 1 0 1 1 1 1 0 1 1 0 1 0 1 1 1 0 0 0 1 1 0 1\n",
            " 0 1 1 1 1 1 1 1 0 0 1 0 0 1 1 1 1 1 1 1 0 0 1 0 1 0 0 1 1 0 1 1 1 0 1 1 1\n",
            " 0 1 0 1 1 1 0 1 0 1 0 1 0 0 1 1 0 1 1 0 1 1 0 1 0 0 1 1 1 1 1 1 1 1 0 1 1\n",
            " 0 1 1 1 1 1 0 0 0 1 0 1 1 1 1 1 1 1 1 0 1 0 0 1 1 1 1 1 1 0 1 1 0 0 0 1 0\n",
            " 0 1 1 0 1 1 0 1 1 0 1 1 0 1 1 0 1 0 1 1 0 0 1 1 0 0 0 1 1 0 1 0 1 1 0 1 1\n",
            " 1 0 0 1 1 1 1 1 1 0 0 1 0 1 1 0 0 1 0 0 1 0 1 1 0 1 1 0 1 0 1 0 1 0 1 0 0\n",
            " 1 1 0 1 0 0 0 1 1 1 0 0 1 1 1 1 1 1 1 1 1 1 0 1 1 1 1 0 0 0 1 1 1 1 1 0 0\n",
            " 1 0 1 1 0 1 0 1 1 1 0 1 1 1 1 1 0 0 1 1 0 1 0 1 0 1 0 1 1 1 1 1 0 1 0 0 1\n",
            " 1 0 0 1 1 1 1 0 0 1 0 0 1 1 1 0 0 0 0 0 0 0 1 1 1 0 0 1 1 1 0 0 1 1 1 0 0\n",
            " 0 0 0 1 1 1 0 1 0 0 1 1 1 0 0 0 1 0 0 1 1 0 0 1 0 1]\n"
          ]
        }
      ],
      "source": [
        "#Con support vector machine\n",
        "y_hat = clf_svm.predict(X_test)\n",
        "print(y_hat)"
      ]
    },
    {
      "cell_type": "code",
      "execution_count": null,
      "metadata": {
        "colab": {
          "background_save": true,
          "base_uri": "https://localhost:8080/"
        },
        "id": "BV_YSDCSnofR",
        "outputId": "0a56d473-13c1-44d3-de08-cb518dd6f959"
      },
      "outputs": [
        {
          "name": "stdout",
          "output_type": "stream",
          "text": [
            "Porcentaje de aciertos en la clasificación:  0.6782334384858044\n"
          ]
        }
      ],
      "source": [
        "print('Porcentaje de aciertos en la clasificación: ', clf_svm.score(X_test,y_test))"
      ]
    },
    {
      "cell_type": "code",
      "execution_count": null,
      "metadata": {
        "colab": {
          "background_save": true,
          "base_uri": "https://localhost:8080/"
        },
        "id": "gNMWYv71oOy0",
        "outputId": "089ab482-ab28-4379-8bb9-c7f7316f0617"
      },
      "outputs": [
        {
          "data": {
            "text/plain": [
              "RandomForestClassifier(bootstrap=True, ccp_alpha=0.0, class_weight=None,\n",
              "                       criterion='gini', max_depth=2, max_features='auto',\n",
              "                       max_leaf_nodes=None, max_samples=None,\n",
              "                       min_impurity_decrease=0.0, min_impurity_split=None,\n",
              "                       min_samples_leaf=1, min_samples_split=2,\n",
              "                       min_weight_fraction_leaf=0.0, n_estimators=100,\n",
              "                       n_jobs=None, oob_score=False, random_state=80, verbose=0,\n",
              "                       warm_start=False)"
            ]
          },
          "execution_count": null,
          "metadata": {},
          "output_type": "execute_result"
        }
      ],
      "source": [
        "##Por curiosidad, quiero probar como se comporta con random forest\n",
        "##Sacado de sklearn\n",
        "from sklearn.ensemble import RandomForestClassifier\n",
        "#Misma semilla que antes en la division (por cabala (?))\n",
        "clf_random_f = RandomForestClassifier(max_depth=2, random_state=80)\n",
        "clf_random_f.fit(X_train, y_train)"
      ]
    },
    {
      "cell_type": "code",
      "execution_count": null,
      "metadata": {
        "colab": {
          "background_save": true,
          "base_uri": "https://localhost:8080/"
        },
        "id": "C8rP5mEJpd5Q",
        "outputId": "cc068b63-14ec-4ddd-eb2c-891809c9f4a1"
      },
      "outputs": [
        {
          "name": "stdout",
          "output_type": "stream",
          "text": [
            "[0 0 0 1 0 0 1 1 1 1 0 1 1 0 1 1 0 1 0 1 0 1 1 1 1 1 1 0 1 1 0 1 0 0 1 1 0\n",
            " 0 0 1 1 1 1 0 0 1 0 1 1 1 1 0 0 0 1 0 0 0 0 0 1 1 1 1 1 0 0 0 1 0 1 1 0 1\n",
            " 1 1 1 0 0 0 1 1 1 1 0 0 0 1 0 1 1 0 0 1 1 0 0 0 1 1 1 0 0 0 0 1 1 0 1 1 1\n",
            " 0 1 0 1 0 1 1 1 1 0 0 0 1 1 1 0 0 0 0 1 1 1 1 1 0 0 0 0 1 0 0 0 0 0 0 1 0\n",
            " 0 1 1 0 0 1 0 1 1 1 1 1 0 1 1 0 1 1 0 0 1 1 0 1 0 0 1 1 0 1 0 1 0 1 1 1 0\n",
            " 0 1 0 0 0 1 1 1 0 1 0 0 0 1 1 1 0 1 0 0 1 1 1 0 0 1 1 0 1 1 1 1 1 0 0 1 1\n",
            " 0 0 1 0 1 1 1 0 0 0 1 0 1 1 1 1 0 1 0 0 0 1 0 0 1 1 0 1 1 0 0 1 1 0 0 0 1\n",
            " 1 1 0 1 1 0 0 0 0 0 1 1 0 0 1 0 1 1 0 0 0 1 1 0 0 1 1 1 1 1 1 1 1 0 0 1 1\n",
            " 1 1 0 1 1 1 1 0 1 1 0 1 1 0 0 1 0 1 0 1 0 0 1 1 1 0 0 0 1 1 0 0 0 1 1 0 1\n",
            " 1 0 0 1 1 1 1 0 1 1 1 0 1 0 0 0 1 1 1 0 0 1 1 0 0 0 1 1 1 0 1 0 0 0 0 0 0\n",
            " 0 0 0 0 0 0 1 0 1 1 0 0 1 1 0 0 0 0 1 1 1 1 0 0 1 1 1 1 1 1 1 1 1 0 0 0 1\n",
            " 0 0 1 1 0 1 1 1 1 1 1 0 1 1 1 0 0 1 0 1 1 0 1 0 1 1 1 1 1 1 0 1 1 1 1 0 1\n",
            " 1 0 0 0 1 0 0 0 1 1 1 1 0 0 1 1 0 1 1 1 1 1 1 1 0 1 1 1 0 1 1 0 0 1 0 1 1\n",
            " 1 0 1 0 0 0 1 1 0 1 0 0 0 0 0 0 0 0 0 1 0 1 1 1 0 1 1 1 0 1 1 0 1 1 0 0 1\n",
            " 1 1 1 1 0 0 1 0 0 1 1 1 0 1 0 0 1 0 1 0 0 0 1 0 0 1 1 0 0 0 0 1 1 0 0 0 1\n",
            " 1 1 1 0 1 1 1 0 0 0 0 0 0 1 0 0 0 1 0 0 0 0 0 0 0 1 0 1 0 1 0 0 0 1 1 1 1\n",
            " 1 0 1 0 0 1 1 0 0 1 0 0 0 0 1 1 0 1 1 1 0 0 1 1 0 1 0 1 1 1 1 0 0 0 1 0 0\n",
            " 1 0 1 0 0 1 0 1 1 1 0 0 0 0 1 1 0 1 1 1 1 0 1 0 0 0 1 1 1 1 0 1 0 0 1 1 1\n",
            " 0 1 0 1 1 0 0 1 0 1 0 1 0 0 0 0 1 1 1 0 1 0 1 1 0 0 0 0 1 0 1 1 0 0 0 1 0\n",
            " 0 1 1 0 0 0 0 1 0 0 1 1 1 1 1 1 1 1 0 0 1 0 1 1 0 1 1 1 1 0 1 1 0 0 1 1 0\n",
            " 1 0 1 1 1 0 0 1 1 0 1 1 1 1 1 1 0 0 1 1 0 0 1 1 0 0 1 1 0 1 0 0 1 1 1 0 0\n",
            " 1 0 0 1 1 0 1 0 0 0 0 0 1 1 0 0 0 1 0 0 1 0 1 1 0 1 1 0 1 1 1 1 1 0 1 0 1\n",
            " 1 1 1 0 0 0 0 1 0 0 0 0 1 1 1 1 1 0 0 1 0 0 0 1 1 1 0 0 1 0 1 0 1 1 0 0 0\n",
            " 0 0 1 1 0 1 0 1 0 1 0 1 0 1 1 0 1 0 1 1 1 1 0 1 0 1 1 1 0 1 0 0 0 1 0 0 1\n",
            " 1 1 0 0 1 1 0 1 0 1 0 0 0 0 1 1 0 1 1 1 1 1 0 1 1 0 0 1 1 1 0 0 0 1 1 1 0\n",
            " 0 0 1 0 1 1 0 1 0 0 0 0 1 0 1 0 0 0 0 0 0 1 0 1 0 1]\n"
          ]
        }
      ],
      "source": [
        "y_forest_hat = clf_random_f.predict(X_test)\n",
        "print(y_forest_hat)"
      ]
    },
    {
      "cell_type": "code",
      "execution_count": null,
      "metadata": {
        "colab": {
          "background_save": true,
          "base_uri": "https://localhost:8080/"
        },
        "id": "l1s14_xwpw-3",
        "outputId": "dc007af6-d7a6-4a0d-f58b-1773cac75100"
      },
      "outputs": [
        {
          "name": "stdout",
          "output_type": "stream",
          "text": [
            "Porcentaje de aciertos en la clasificación:  0.9474237644584648\n"
          ]
        }
      ],
      "source": [
        "print('Porcentaje de aciertos en la clasificación: ', clf_random_f.score(X_test,y_test))"
      ]
    },
    {
      "cell_type": "markdown",
      "metadata": {
        "id": "el4auJwDCqlf"
      },
      "source": [
        "## Hasta aca los resultados fueron con los datos crudos, sin procesarlos ni nada\n",
        "### En las proximas lineas voy a procesarlos y trabajar según la guia"
      ]
    },
    {
      "cell_type": "code",
      "execution_count": null,
      "metadata": {
        "colab": {
          "background_save": true,
          "base_uri": "https://localhost:8080/",
          "height": 720
        },
        "id": "8t4httNbDhJ5",
        "outputId": "34b93b96-918f-462f-9b84-7a352a37b489"
      },
      "outputs": [
        {
          "data": {
            "text/html": [
              "<div>\n",
              "<style scoped>\n",
              "    .dataframe tbody tr th:only-of-type {\n",
              "        vertical-align: middle;\n",
              "    }\n",
              "\n",
              "    .dataframe tbody tr th {\n",
              "        vertical-align: top;\n",
              "    }\n",
              "\n",
              "    .dataframe thead th {\n",
              "        text-align: right;\n",
              "    }\n",
              "</style>\n",
              "<table border=\"1\" class=\"dataframe\">\n",
              "  <thead>\n",
              "    <tr style=\"text-align: right;\">\n",
              "      <th></th>\n",
              "      <th>meanfreq</th>\n",
              "      <th>sd</th>\n",
              "      <th>median</th>\n",
              "      <th>Q25</th>\n",
              "      <th>Q75</th>\n",
              "      <th>IQR</th>\n",
              "      <th>skew</th>\n",
              "      <th>kurt</th>\n",
              "      <th>sp.ent</th>\n",
              "      <th>sfm</th>\n",
              "      <th>mode</th>\n",
              "      <th>centroid</th>\n",
              "      <th>meanfun</th>\n",
              "      <th>minfun</th>\n",
              "      <th>maxfun</th>\n",
              "      <th>meandom</th>\n",
              "      <th>mindom</th>\n",
              "      <th>maxdom</th>\n",
              "      <th>dfrange</th>\n",
              "      <th>modindx</th>\n",
              "      <th>label</th>\n",
              "    </tr>\n",
              "  </thead>\n",
              "  <tbody>\n",
              "    <tr>\n",
              "      <th>meanfreq</th>\n",
              "      <td>1.000000</td>\n",
              "      <td>-0.739039</td>\n",
              "      <td>0.925445</td>\n",
              "      <td>0.911416</td>\n",
              "      <td>0.740997</td>\n",
              "      <td>-0.627605</td>\n",
              "      <td>-0.322327</td>\n",
              "      <td>-0.316036</td>\n",
              "      <td>-0.601203</td>\n",
              "      <td>-0.784332</td>\n",
              "      <td>0.687715</td>\n",
              "      <td>1.000000</td>\n",
              "      <td>0.460844</td>\n",
              "      <td>0.383937</td>\n",
              "      <td>0.274004</td>\n",
              "      <td>0.536666</td>\n",
              "      <td>0.229261</td>\n",
              "      <td>0.519528</td>\n",
              "      <td>0.515570</td>\n",
              "      <td>-0.216979</td>\n",
              "      <td>-0.337415</td>\n",
              "    </tr>\n",
              "    <tr>\n",
              "      <th>sd</th>\n",
              "      <td>-0.739039</td>\n",
              "      <td>1.000000</td>\n",
              "      <td>-0.562603</td>\n",
              "      <td>-0.846931</td>\n",
              "      <td>-0.161076</td>\n",
              "      <td>0.874660</td>\n",
              "      <td>0.314597</td>\n",
              "      <td>0.346241</td>\n",
              "      <td>0.716620</td>\n",
              "      <td>0.838086</td>\n",
              "      <td>-0.529150</td>\n",
              "      <td>-0.739039</td>\n",
              "      <td>-0.466281</td>\n",
              "      <td>-0.345609</td>\n",
              "      <td>-0.129662</td>\n",
              "      <td>-0.482726</td>\n",
              "      <td>-0.357667</td>\n",
              "      <td>-0.482278</td>\n",
              "      <td>-0.475999</td>\n",
              "      <td>0.122660</td>\n",
              "      <td>0.479539</td>\n",
              "    </tr>\n",
              "    <tr>\n",
              "      <th>median</th>\n",
              "      <td>0.925445</td>\n",
              "      <td>-0.562603</td>\n",
              "      <td>1.000000</td>\n",
              "      <td>0.774922</td>\n",
              "      <td>0.731849</td>\n",
              "      <td>-0.477352</td>\n",
              "      <td>-0.257407</td>\n",
              "      <td>-0.243382</td>\n",
              "      <td>-0.502005</td>\n",
              "      <td>-0.661690</td>\n",
              "      <td>0.677433</td>\n",
              "      <td>0.925445</td>\n",
              "      <td>0.414909</td>\n",
              "      <td>0.337602</td>\n",
              "      <td>0.251328</td>\n",
              "      <td>0.455943</td>\n",
              "      <td>0.191169</td>\n",
              "      <td>0.438919</td>\n",
              "      <td>0.435621</td>\n",
              "      <td>-0.213298</td>\n",
              "      <td>-0.283919</td>\n",
              "    </tr>\n",
              "    <tr>\n",
              "      <th>Q25</th>\n",
              "      <td>0.911416</td>\n",
              "      <td>-0.846931</td>\n",
              "      <td>0.774922</td>\n",
              "      <td>1.000000</td>\n",
              "      <td>0.477140</td>\n",
              "      <td>-0.874189</td>\n",
              "      <td>-0.319475</td>\n",
              "      <td>-0.350182</td>\n",
              "      <td>-0.648126</td>\n",
              "      <td>-0.766875</td>\n",
              "      <td>0.591277</td>\n",
              "      <td>0.911416</td>\n",
              "      <td>0.545035</td>\n",
              "      <td>0.320994</td>\n",
              "      <td>0.199841</td>\n",
              "      <td>0.467403</td>\n",
              "      <td>0.302255</td>\n",
              "      <td>0.459683</td>\n",
              "      <td>0.454394</td>\n",
              "      <td>-0.141377</td>\n",
              "      <td>-0.511455</td>\n",
              "    </tr>\n",
              "    <tr>\n",
              "      <th>Q75</th>\n",
              "      <td>0.740997</td>\n",
              "      <td>-0.161076</td>\n",
              "      <td>0.731849</td>\n",
              "      <td>0.477140</td>\n",
              "      <td>1.000000</td>\n",
              "      <td>0.009636</td>\n",
              "      <td>-0.206339</td>\n",
              "      <td>-0.148881</td>\n",
              "      <td>-0.174905</td>\n",
              "      <td>-0.378198</td>\n",
              "      <td>0.486857</td>\n",
              "      <td>0.740997</td>\n",
              "      <td>0.155091</td>\n",
              "      <td>0.258002</td>\n",
              "      <td>0.285584</td>\n",
              "      <td>0.359181</td>\n",
              "      <td>-0.023750</td>\n",
              "      <td>0.335114</td>\n",
              "      <td>0.335648</td>\n",
              "      <td>-0.216475</td>\n",
              "      <td>0.066906</td>\n",
              "    </tr>\n",
              "    <tr>\n",
              "      <th>IQR</th>\n",
              "      <td>-0.627605</td>\n",
              "      <td>0.874660</td>\n",
              "      <td>-0.477352</td>\n",
              "      <td>-0.874189</td>\n",
              "      <td>0.009636</td>\n",
              "      <td>1.000000</td>\n",
              "      <td>0.249497</td>\n",
              "      <td>0.316185</td>\n",
              "      <td>0.640813</td>\n",
              "      <td>0.663601</td>\n",
              "      <td>-0.403764</td>\n",
              "      <td>-0.627605</td>\n",
              "      <td>-0.534462</td>\n",
              "      <td>-0.222680</td>\n",
              "      <td>-0.069588</td>\n",
              "      <td>-0.333362</td>\n",
              "      <td>-0.357037</td>\n",
              "      <td>-0.337877</td>\n",
              "      <td>-0.331563</td>\n",
              "      <td>0.041252</td>\n",
              "      <td>0.618916</td>\n",
              "    </tr>\n",
              "    <tr>\n",
              "      <th>skew</th>\n",
              "      <td>-0.322327</td>\n",
              "      <td>0.314597</td>\n",
              "      <td>-0.257407</td>\n",
              "      <td>-0.319475</td>\n",
              "      <td>-0.206339</td>\n",
              "      <td>0.249497</td>\n",
              "      <td>1.000000</td>\n",
              "      <td>0.977020</td>\n",
              "      <td>-0.195459</td>\n",
              "      <td>0.079694</td>\n",
              "      <td>-0.434859</td>\n",
              "      <td>-0.322327</td>\n",
              "      <td>-0.167668</td>\n",
              "      <td>-0.216954</td>\n",
              "      <td>-0.080861</td>\n",
              "      <td>-0.336848</td>\n",
              "      <td>-0.061608</td>\n",
              "      <td>-0.305651</td>\n",
              "      <td>-0.304640</td>\n",
              "      <td>-0.169325</td>\n",
              "      <td>0.036627</td>\n",
              "    </tr>\n",
              "    <tr>\n",
              "      <th>kurt</th>\n",
              "      <td>-0.316036</td>\n",
              "      <td>0.346241</td>\n",
              "      <td>-0.243382</td>\n",
              "      <td>-0.350182</td>\n",
              "      <td>-0.148881</td>\n",
              "      <td>0.316185</td>\n",
              "      <td>0.977020</td>\n",
              "      <td>1.000000</td>\n",
              "      <td>-0.127644</td>\n",
              "      <td>0.109884</td>\n",
              "      <td>-0.406722</td>\n",
              "      <td>-0.316036</td>\n",
              "      <td>-0.194560</td>\n",
              "      <td>-0.203201</td>\n",
              "      <td>-0.045667</td>\n",
              "      <td>-0.303234</td>\n",
              "      <td>-0.103313</td>\n",
              "      <td>-0.274500</td>\n",
              "      <td>-0.272729</td>\n",
              "      <td>-0.205539</td>\n",
              "      <td>0.087195</td>\n",
              "    </tr>\n",
              "    <tr>\n",
              "      <th>sp.ent</th>\n",
              "      <td>-0.601203</td>\n",
              "      <td>0.716620</td>\n",
              "      <td>-0.502005</td>\n",
              "      <td>-0.648126</td>\n",
              "      <td>-0.174905</td>\n",
              "      <td>0.640813</td>\n",
              "      <td>-0.195459</td>\n",
              "      <td>-0.127644</td>\n",
              "      <td>1.000000</td>\n",
              "      <td>0.866411</td>\n",
              "      <td>-0.325298</td>\n",
              "      <td>-0.601203</td>\n",
              "      <td>-0.513194</td>\n",
              "      <td>-0.305826</td>\n",
              "      <td>-0.120738</td>\n",
              "      <td>-0.293562</td>\n",
              "      <td>-0.294869</td>\n",
              "      <td>-0.324253</td>\n",
              "      <td>-0.319054</td>\n",
              "      <td>0.198074</td>\n",
              "      <td>0.490552</td>\n",
              "    </tr>\n",
              "    <tr>\n",
              "      <th>sfm</th>\n",
              "      <td>-0.784332</td>\n",
              "      <td>0.838086</td>\n",
              "      <td>-0.661690</td>\n",
              "      <td>-0.766875</td>\n",
              "      <td>-0.378198</td>\n",
              "      <td>0.663601</td>\n",
              "      <td>0.079694</td>\n",
              "      <td>0.109884</td>\n",
              "      <td>0.866411</td>\n",
              "      <td>1.000000</td>\n",
              "      <td>-0.485913</td>\n",
              "      <td>-0.784332</td>\n",
              "      <td>-0.421066</td>\n",
              "      <td>-0.362100</td>\n",
              "      <td>-0.192369</td>\n",
              "      <td>-0.428442</td>\n",
              "      <td>-0.289593</td>\n",
              "      <td>-0.436649</td>\n",
              "      <td>-0.431580</td>\n",
              "      <td>0.211477</td>\n",
              "      <td>0.357499</td>\n",
              "    </tr>\n",
              "    <tr>\n",
              "      <th>mode</th>\n",
              "      <td>0.687715</td>\n",
              "      <td>-0.529150</td>\n",
              "      <td>0.677433</td>\n",
              "      <td>0.591277</td>\n",
              "      <td>0.486857</td>\n",
              "      <td>-0.403764</td>\n",
              "      <td>-0.434859</td>\n",
              "      <td>-0.406722</td>\n",
              "      <td>-0.325298</td>\n",
              "      <td>-0.485913</td>\n",
              "      <td>1.000000</td>\n",
              "      <td>0.687715</td>\n",
              "      <td>0.324771</td>\n",
              "      <td>0.385467</td>\n",
              "      <td>0.172329</td>\n",
              "      <td>0.491479</td>\n",
              "      <td>0.198150</td>\n",
              "      <td>0.477187</td>\n",
              "      <td>0.473775</td>\n",
              "      <td>-0.182344</td>\n",
              "      <td>-0.171775</td>\n",
              "    </tr>\n",
              "    <tr>\n",
              "      <th>centroid</th>\n",
              "      <td>1.000000</td>\n",
              "      <td>-0.739039</td>\n",
              "      <td>0.925445</td>\n",
              "      <td>0.911416</td>\n",
              "      <td>0.740997</td>\n",
              "      <td>-0.627605</td>\n",
              "      <td>-0.322327</td>\n",
              "      <td>-0.316036</td>\n",
              "      <td>-0.601203</td>\n",
              "      <td>-0.784332</td>\n",
              "      <td>0.687715</td>\n",
              "      <td>1.000000</td>\n",
              "      <td>0.460844</td>\n",
              "      <td>0.383937</td>\n",
              "      <td>0.274004</td>\n",
              "      <td>0.536666</td>\n",
              "      <td>0.229261</td>\n",
              "      <td>0.519528</td>\n",
              "      <td>0.515570</td>\n",
              "      <td>-0.216979</td>\n",
              "      <td>-0.337415</td>\n",
              "    </tr>\n",
              "    <tr>\n",
              "      <th>meanfun</th>\n",
              "      <td>0.460844</td>\n",
              "      <td>-0.466281</td>\n",
              "      <td>0.414909</td>\n",
              "      <td>0.545035</td>\n",
              "      <td>0.155091</td>\n",
              "      <td>-0.534462</td>\n",
              "      <td>-0.167668</td>\n",
              "      <td>-0.194560</td>\n",
              "      <td>-0.513194</td>\n",
              "      <td>-0.421066</td>\n",
              "      <td>0.324771</td>\n",
              "      <td>0.460844</td>\n",
              "      <td>1.000000</td>\n",
              "      <td>0.339387</td>\n",
              "      <td>0.311950</td>\n",
              "      <td>0.270840</td>\n",
              "      <td>0.162163</td>\n",
              "      <td>0.277982</td>\n",
              "      <td>0.275154</td>\n",
              "      <td>-0.054858</td>\n",
              "      <td>-0.833921</td>\n",
              "    </tr>\n",
              "    <tr>\n",
              "      <th>minfun</th>\n",
              "      <td>0.383937</td>\n",
              "      <td>-0.345609</td>\n",
              "      <td>0.337602</td>\n",
              "      <td>0.320994</td>\n",
              "      <td>0.258002</td>\n",
              "      <td>-0.222680</td>\n",
              "      <td>-0.216954</td>\n",
              "      <td>-0.203201</td>\n",
              "      <td>-0.305826</td>\n",
              "      <td>-0.362100</td>\n",
              "      <td>0.385467</td>\n",
              "      <td>0.383937</td>\n",
              "      <td>0.339387</td>\n",
              "      <td>1.000000</td>\n",
              "      <td>0.213987</td>\n",
              "      <td>0.375979</td>\n",
              "      <td>0.082015</td>\n",
              "      <td>0.317860</td>\n",
              "      <td>0.316486</td>\n",
              "      <td>0.002042</td>\n",
              "      <td>-0.136692</td>\n",
              "    </tr>\n",
              "    <tr>\n",
              "      <th>maxfun</th>\n",
              "      <td>0.274004</td>\n",
              "      <td>-0.129662</td>\n",
              "      <td>0.251328</td>\n",
              "      <td>0.199841</td>\n",
              "      <td>0.285584</td>\n",
              "      <td>-0.069588</td>\n",
              "      <td>-0.080861</td>\n",
              "      <td>-0.045667</td>\n",
              "      <td>-0.120738</td>\n",
              "      <td>-0.192369</td>\n",
              "      <td>0.172329</td>\n",
              "      <td>0.274004</td>\n",
              "      <td>0.311950</td>\n",
              "      <td>0.213987</td>\n",
              "      <td>1.000000</td>\n",
              "      <td>0.337553</td>\n",
              "      <td>-0.243426</td>\n",
              "      <td>0.355390</td>\n",
              "      <td>0.359880</td>\n",
              "      <td>-0.363029</td>\n",
              "      <td>-0.166461</td>\n",
              "    </tr>\n",
              "    <tr>\n",
              "      <th>meandom</th>\n",
              "      <td>0.536666</td>\n",
              "      <td>-0.482726</td>\n",
              "      <td>0.455943</td>\n",
              "      <td>0.467403</td>\n",
              "      <td>0.359181</td>\n",
              "      <td>-0.333362</td>\n",
              "      <td>-0.336848</td>\n",
              "      <td>-0.303234</td>\n",
              "      <td>-0.293562</td>\n",
              "      <td>-0.428442</td>\n",
              "      <td>0.491479</td>\n",
              "      <td>0.536666</td>\n",
              "      <td>0.270840</td>\n",
              "      <td>0.375979</td>\n",
              "      <td>0.337553</td>\n",
              "      <td>1.000000</td>\n",
              "      <td>0.099656</td>\n",
              "      <td>0.812838</td>\n",
              "      <td>0.811304</td>\n",
              "      <td>-0.180954</td>\n",
              "      <td>-0.191067</td>\n",
              "    </tr>\n",
              "    <tr>\n",
              "      <th>mindom</th>\n",
              "      <td>0.229261</td>\n",
              "      <td>-0.357667</td>\n",
              "      <td>0.191169</td>\n",
              "      <td>0.302255</td>\n",
              "      <td>-0.023750</td>\n",
              "      <td>-0.357037</td>\n",
              "      <td>-0.061608</td>\n",
              "      <td>-0.103313</td>\n",
              "      <td>-0.294869</td>\n",
              "      <td>-0.289593</td>\n",
              "      <td>0.198150</td>\n",
              "      <td>0.229261</td>\n",
              "      <td>0.162163</td>\n",
              "      <td>0.082015</td>\n",
              "      <td>-0.243426</td>\n",
              "      <td>0.099656</td>\n",
              "      <td>1.000000</td>\n",
              "      <td>0.026640</td>\n",
              "      <td>0.008666</td>\n",
              "      <td>0.200212</td>\n",
              "      <td>-0.194974</td>\n",
              "    </tr>\n",
              "    <tr>\n",
              "      <th>maxdom</th>\n",
              "      <td>0.519528</td>\n",
              "      <td>-0.482278</td>\n",
              "      <td>0.438919</td>\n",
              "      <td>0.459683</td>\n",
              "      <td>0.335114</td>\n",
              "      <td>-0.337877</td>\n",
              "      <td>-0.305651</td>\n",
              "      <td>-0.274500</td>\n",
              "      <td>-0.324253</td>\n",
              "      <td>-0.436649</td>\n",
              "      <td>0.477187</td>\n",
              "      <td>0.519528</td>\n",
              "      <td>0.277982</td>\n",
              "      <td>0.317860</td>\n",
              "      <td>0.355390</td>\n",
              "      <td>0.812838</td>\n",
              "      <td>0.026640</td>\n",
              "      <td>1.000000</td>\n",
              "      <td>0.999838</td>\n",
              "      <td>-0.425531</td>\n",
              "      <td>-0.195657</td>\n",
              "    </tr>\n",
              "    <tr>\n",
              "      <th>dfrange</th>\n",
              "      <td>0.515570</td>\n",
              "      <td>-0.475999</td>\n",
              "      <td>0.435621</td>\n",
              "      <td>0.454394</td>\n",
              "      <td>0.335648</td>\n",
              "      <td>-0.331563</td>\n",
              "      <td>-0.304640</td>\n",
              "      <td>-0.272729</td>\n",
              "      <td>-0.319054</td>\n",
              "      <td>-0.431580</td>\n",
              "      <td>0.473775</td>\n",
              "      <td>0.515570</td>\n",
              "      <td>0.275154</td>\n",
              "      <td>0.316486</td>\n",
              "      <td>0.359880</td>\n",
              "      <td>0.811304</td>\n",
              "      <td>0.008666</td>\n",
              "      <td>0.999838</td>\n",
              "      <td>1.000000</td>\n",
              "      <td>-0.429266</td>\n",
              "      <td>-0.192213</td>\n",
              "    </tr>\n",
              "    <tr>\n",
              "      <th>modindx</th>\n",
              "      <td>-0.216979</td>\n",
              "      <td>0.122660</td>\n",
              "      <td>-0.213298</td>\n",
              "      <td>-0.141377</td>\n",
              "      <td>-0.216475</td>\n",
              "      <td>0.041252</td>\n",
              "      <td>-0.169325</td>\n",
              "      <td>-0.205539</td>\n",
              "      <td>0.198074</td>\n",
              "      <td>0.211477</td>\n",
              "      <td>-0.182344</td>\n",
              "      <td>-0.216979</td>\n",
              "      <td>-0.054858</td>\n",
              "      <td>0.002042</td>\n",
              "      <td>-0.363029</td>\n",
              "      <td>-0.180954</td>\n",
              "      <td>0.200212</td>\n",
              "      <td>-0.425531</td>\n",
              "      <td>-0.429266</td>\n",
              "      <td>1.000000</td>\n",
              "      <td>0.030801</td>\n",
              "    </tr>\n",
              "    <tr>\n",
              "      <th>label</th>\n",
              "      <td>-0.337415</td>\n",
              "      <td>0.479539</td>\n",
              "      <td>-0.283919</td>\n",
              "      <td>-0.511455</td>\n",
              "      <td>0.066906</td>\n",
              "      <td>0.618916</td>\n",
              "      <td>0.036627</td>\n",
              "      <td>0.087195</td>\n",
              "      <td>0.490552</td>\n",
              "      <td>0.357499</td>\n",
              "      <td>-0.171775</td>\n",
              "      <td>-0.337415</td>\n",
              "      <td>-0.833921</td>\n",
              "      <td>-0.136692</td>\n",
              "      <td>-0.166461</td>\n",
              "      <td>-0.191067</td>\n",
              "      <td>-0.194974</td>\n",
              "      <td>-0.195657</td>\n",
              "      <td>-0.192213</td>\n",
              "      <td>0.030801</td>\n",
              "      <td>1.000000</td>\n",
              "    </tr>\n",
              "  </tbody>\n",
              "</table>\n",
              "</div>"
            ],
            "text/plain": [
              "          meanfreq        sd    median  ...   dfrange   modindx     label\n",
              "meanfreq  1.000000 -0.739039  0.925445  ...  0.515570 -0.216979 -0.337415\n",
              "sd       -0.739039  1.000000 -0.562603  ... -0.475999  0.122660  0.479539\n",
              "median    0.925445 -0.562603  1.000000  ...  0.435621 -0.213298 -0.283919\n",
              "Q25       0.911416 -0.846931  0.774922  ...  0.454394 -0.141377 -0.511455\n",
              "Q75       0.740997 -0.161076  0.731849  ...  0.335648 -0.216475  0.066906\n",
              "IQR      -0.627605  0.874660 -0.477352  ... -0.331563  0.041252  0.618916\n",
              "skew     -0.322327  0.314597 -0.257407  ... -0.304640 -0.169325  0.036627\n",
              "kurt     -0.316036  0.346241 -0.243382  ... -0.272729 -0.205539  0.087195\n",
              "sp.ent   -0.601203  0.716620 -0.502005  ... -0.319054  0.198074  0.490552\n",
              "sfm      -0.784332  0.838086 -0.661690  ... -0.431580  0.211477  0.357499\n",
              "mode      0.687715 -0.529150  0.677433  ...  0.473775 -0.182344 -0.171775\n",
              "centroid  1.000000 -0.739039  0.925445  ...  0.515570 -0.216979 -0.337415\n",
              "meanfun   0.460844 -0.466281  0.414909  ...  0.275154 -0.054858 -0.833921\n",
              "minfun    0.383937 -0.345609  0.337602  ...  0.316486  0.002042 -0.136692\n",
              "maxfun    0.274004 -0.129662  0.251328  ...  0.359880 -0.363029 -0.166461\n",
              "meandom   0.536666 -0.482726  0.455943  ...  0.811304 -0.180954 -0.191067\n",
              "mindom    0.229261 -0.357667  0.191169  ...  0.008666  0.200212 -0.194974\n",
              "maxdom    0.519528 -0.482278  0.438919  ...  0.999838 -0.425531 -0.195657\n",
              "dfrange   0.515570 -0.475999  0.435621  ...  1.000000 -0.429266 -0.192213\n",
              "modindx  -0.216979  0.122660 -0.213298  ... -0.429266  1.000000  0.030801\n",
              "label    -0.337415  0.479539 -0.283919  ... -0.192213  0.030801  1.000000\n",
              "\n",
              "[21 rows x 21 columns]"
            ]
          },
          "execution_count": null,
          "metadata": {},
          "output_type": "execute_result"
        }
      ],
      "source": [
        "#Analisis de correlacion de los datos\n",
        "df_voice.corr()"
      ]
    },
    {
      "cell_type": "code",
      "execution_count": null,
      "metadata": {
        "colab": {
          "background_save": true,
          "base_uri": "https://localhost:8080/",
          "height": 317
        },
        "id": "XDSS2JddE6c2",
        "outputId": "210db103-7940-4794-e81d-f6b86f75ccf9"
      },
      "outputs": [
        {
          "data": {
            "text/html": [
              "<div>\n",
              "<style scoped>\n",
              "    .dataframe tbody tr th:only-of-type {\n",
              "        vertical-align: middle;\n",
              "    }\n",
              "\n",
              "    .dataframe tbody tr th {\n",
              "        vertical-align: top;\n",
              "    }\n",
              "\n",
              "    .dataframe thead th {\n",
              "        text-align: right;\n",
              "    }\n",
              "</style>\n",
              "<table border=\"1\" class=\"dataframe\">\n",
              "  <thead>\n",
              "    <tr style=\"text-align: right;\">\n",
              "      <th></th>\n",
              "      <th>meanfreq</th>\n",
              "      <th>sd</th>\n",
              "      <th>median</th>\n",
              "      <th>Q25</th>\n",
              "      <th>Q75</th>\n",
              "      <th>IQR</th>\n",
              "      <th>skew</th>\n",
              "      <th>kurt</th>\n",
              "      <th>sp.ent</th>\n",
              "      <th>sfm</th>\n",
              "      <th>mode</th>\n",
              "      <th>centroid</th>\n",
              "      <th>meanfun</th>\n",
              "      <th>minfun</th>\n",
              "      <th>maxfun</th>\n",
              "      <th>meandom</th>\n",
              "      <th>mindom</th>\n",
              "      <th>maxdom</th>\n",
              "      <th>dfrange</th>\n",
              "      <th>modindx</th>\n",
              "      <th>label</th>\n",
              "    </tr>\n",
              "  </thead>\n",
              "  <tbody>\n",
              "    <tr>\n",
              "      <th>count</th>\n",
              "      <td>3168.000000</td>\n",
              "      <td>3168.000000</td>\n",
              "      <td>3168.000000</td>\n",
              "      <td>3168.000000</td>\n",
              "      <td>3168.000000</td>\n",
              "      <td>3168.000000</td>\n",
              "      <td>3168.000000</td>\n",
              "      <td>3168.000000</td>\n",
              "      <td>3168.000000</td>\n",
              "      <td>3168.000000</td>\n",
              "      <td>3168.000000</td>\n",
              "      <td>3168.000000</td>\n",
              "      <td>3168.000000</td>\n",
              "      <td>3168.000000</td>\n",
              "      <td>3168.000000</td>\n",
              "      <td>3168.000000</td>\n",
              "      <td>3168.000000</td>\n",
              "      <td>3168.000000</td>\n",
              "      <td>3168.000000</td>\n",
              "      <td>3168.000000</td>\n",
              "      <td>3168.000000</td>\n",
              "    </tr>\n",
              "    <tr>\n",
              "      <th>mean</th>\n",
              "      <td>0.180907</td>\n",
              "      <td>0.057126</td>\n",
              "      <td>0.185621</td>\n",
              "      <td>0.140456</td>\n",
              "      <td>0.224765</td>\n",
              "      <td>0.084309</td>\n",
              "      <td>3.140168</td>\n",
              "      <td>36.568461</td>\n",
              "      <td>0.895127</td>\n",
              "      <td>0.408216</td>\n",
              "      <td>0.165282</td>\n",
              "      <td>0.180907</td>\n",
              "      <td>0.142807</td>\n",
              "      <td>0.036802</td>\n",
              "      <td>0.258842</td>\n",
              "      <td>0.829211</td>\n",
              "      <td>0.052647</td>\n",
              "      <td>5.047277</td>\n",
              "      <td>4.994630</td>\n",
              "      <td>0.173752</td>\n",
              "      <td>0.500000</td>\n",
              "    </tr>\n",
              "    <tr>\n",
              "      <th>std</th>\n",
              "      <td>0.029918</td>\n",
              "      <td>0.016652</td>\n",
              "      <td>0.036360</td>\n",
              "      <td>0.048680</td>\n",
              "      <td>0.023639</td>\n",
              "      <td>0.042783</td>\n",
              "      <td>4.240529</td>\n",
              "      <td>134.928661</td>\n",
              "      <td>0.044980</td>\n",
              "      <td>0.177521</td>\n",
              "      <td>0.077203</td>\n",
              "      <td>0.029918</td>\n",
              "      <td>0.032304</td>\n",
              "      <td>0.019220</td>\n",
              "      <td>0.030077</td>\n",
              "      <td>0.525205</td>\n",
              "      <td>0.063299</td>\n",
              "      <td>3.521157</td>\n",
              "      <td>3.520039</td>\n",
              "      <td>0.119454</td>\n",
              "      <td>0.500079</td>\n",
              "    </tr>\n",
              "    <tr>\n",
              "      <th>min</th>\n",
              "      <td>0.039363</td>\n",
              "      <td>0.018363</td>\n",
              "      <td>0.010975</td>\n",
              "      <td>0.000229</td>\n",
              "      <td>0.042946</td>\n",
              "      <td>0.014558</td>\n",
              "      <td>0.141735</td>\n",
              "      <td>2.068455</td>\n",
              "      <td>0.738651</td>\n",
              "      <td>0.036876</td>\n",
              "      <td>0.000000</td>\n",
              "      <td>0.039363</td>\n",
              "      <td>0.055565</td>\n",
              "      <td>0.009775</td>\n",
              "      <td>0.103093</td>\n",
              "      <td>0.007812</td>\n",
              "      <td>0.004883</td>\n",
              "      <td>0.007812</td>\n",
              "      <td>0.000000</td>\n",
              "      <td>0.000000</td>\n",
              "      <td>0.000000</td>\n",
              "    </tr>\n",
              "    <tr>\n",
              "      <th>25%</th>\n",
              "      <td>0.163662</td>\n",
              "      <td>0.041954</td>\n",
              "      <td>0.169593</td>\n",
              "      <td>0.111087</td>\n",
              "      <td>0.208747</td>\n",
              "      <td>0.042560</td>\n",
              "      <td>1.649569</td>\n",
              "      <td>5.669547</td>\n",
              "      <td>0.861811</td>\n",
              "      <td>0.258041</td>\n",
              "      <td>0.118016</td>\n",
              "      <td>0.163662</td>\n",
              "      <td>0.116998</td>\n",
              "      <td>0.018223</td>\n",
              "      <td>0.253968</td>\n",
              "      <td>0.419828</td>\n",
              "      <td>0.007812</td>\n",
              "      <td>2.070312</td>\n",
              "      <td>2.044922</td>\n",
              "      <td>0.099766</td>\n",
              "      <td>0.000000</td>\n",
              "    </tr>\n",
              "    <tr>\n",
              "      <th>50%</th>\n",
              "      <td>0.184838</td>\n",
              "      <td>0.059155</td>\n",
              "      <td>0.190032</td>\n",
              "      <td>0.140286</td>\n",
              "      <td>0.225684</td>\n",
              "      <td>0.094280</td>\n",
              "      <td>2.197101</td>\n",
              "      <td>8.318463</td>\n",
              "      <td>0.901767</td>\n",
              "      <td>0.396335</td>\n",
              "      <td>0.186599</td>\n",
              "      <td>0.184838</td>\n",
              "      <td>0.140519</td>\n",
              "      <td>0.046110</td>\n",
              "      <td>0.271186</td>\n",
              "      <td>0.765795</td>\n",
              "      <td>0.023438</td>\n",
              "      <td>4.992188</td>\n",
              "      <td>4.945312</td>\n",
              "      <td>0.139357</td>\n",
              "      <td>0.500000</td>\n",
              "    </tr>\n",
              "    <tr>\n",
              "      <th>75%</th>\n",
              "      <td>0.199146</td>\n",
              "      <td>0.067020</td>\n",
              "      <td>0.210618</td>\n",
              "      <td>0.175939</td>\n",
              "      <td>0.243660</td>\n",
              "      <td>0.114175</td>\n",
              "      <td>2.931694</td>\n",
              "      <td>13.648905</td>\n",
              "      <td>0.928713</td>\n",
              "      <td>0.533676</td>\n",
              "      <td>0.221104</td>\n",
              "      <td>0.199146</td>\n",
              "      <td>0.169581</td>\n",
              "      <td>0.047904</td>\n",
              "      <td>0.277457</td>\n",
              "      <td>1.177166</td>\n",
              "      <td>0.070312</td>\n",
              "      <td>7.007812</td>\n",
              "      <td>6.992188</td>\n",
              "      <td>0.209183</td>\n",
              "      <td>1.000000</td>\n",
              "    </tr>\n",
              "    <tr>\n",
              "      <th>max</th>\n",
              "      <td>0.251124</td>\n",
              "      <td>0.115273</td>\n",
              "      <td>0.261224</td>\n",
              "      <td>0.247347</td>\n",
              "      <td>0.273469</td>\n",
              "      <td>0.252225</td>\n",
              "      <td>34.725453</td>\n",
              "      <td>1309.612887</td>\n",
              "      <td>0.981997</td>\n",
              "      <td>0.842936</td>\n",
              "      <td>0.280000</td>\n",
              "      <td>0.251124</td>\n",
              "      <td>0.237636</td>\n",
              "      <td>0.204082</td>\n",
              "      <td>0.279114</td>\n",
              "      <td>2.957682</td>\n",
              "      <td>0.458984</td>\n",
              "      <td>21.867188</td>\n",
              "      <td>21.843750</td>\n",
              "      <td>0.932374</td>\n",
              "      <td>1.000000</td>\n",
              "    </tr>\n",
              "  </tbody>\n",
              "</table>\n",
              "</div>"
            ],
            "text/plain": [
              "          meanfreq           sd  ...      modindx        label\n",
              "count  3168.000000  3168.000000  ...  3168.000000  3168.000000\n",
              "mean      0.180907     0.057126  ...     0.173752     0.500000\n",
              "std       0.029918     0.016652  ...     0.119454     0.500079\n",
              "min       0.039363     0.018363  ...     0.000000     0.000000\n",
              "25%       0.163662     0.041954  ...     0.099766     0.000000\n",
              "50%       0.184838     0.059155  ...     0.139357     0.500000\n",
              "75%       0.199146     0.067020  ...     0.209183     1.000000\n",
              "max       0.251124     0.115273  ...     0.932374     1.000000\n",
              "\n",
              "[8 rows x 21 columns]"
            ]
          },
          "execution_count": null,
          "metadata": {},
          "output_type": "execute_result"
        }
      ],
      "source": [
        "#Analisis de sumarizadas\n",
        "df_voice.describe()"
      ]
    },
    {
      "cell_type": "code",
      "execution_count": null,
      "metadata": {
        "colab": {
          "background_save": true,
          "base_uri": "https://localhost:8080/",
          "height": 327
        },
        "id": "6NT4ePCyFQRc",
        "outputId": "aa0334e8-d356-424d-84ed-5a49b8a3b938"
      },
      "outputs": [
        {
          "data": {
            "text/plain": [
              "[]"
            ]
          },
          "execution_count": null,
          "metadata": {},
          "output_type": "execute_result"
        },
        {
          "data": {
            "image/png": "[encoded data removed]",
            "text/plain": [
              "<Figure size 432x288 with 2 Axes>"
            ]
          },
          "metadata": {},
          "output_type": "display_data"
        }
      ],
      "source": [
        "#Puedo usar el ejemplo de clases para realizar las graficas par el analisis de correlacion\n",
        "import seaborn as sns\n",
        "import matplotlib.pyplot as plt\n",
        "\n",
        "sns.heatmap(round(df_voice.corr(),1), cmap='Blues', annot=True)\n",
        "plt.plot()"
      ]
    },
    {
      "cell_type": "code",
      "execution_count": null,
      "metadata": {
        "colab": {
          "background_save": true,
          "base_uri": "https://localhost:8080/",
          "height": 316
        },
        "id": "WvcqvmCpI0qv",
        "outputId": "7b99b4ca-7c33-4c44-fcff-a3a2d0a29fdc"
      },
      "outputs": [
        {
          "name": "stderr",
          "output_type": "stream",
          "text": [
            "/usr/local/lib/python3.7/dist-packages/ipykernel_launcher.py:2: FutureWarning: Indexing with multiple keys (implicitly converted to a tuple of keys) will be deprecated, use a list instead.\n",
            "  \n"
          ]
        },
        {
          "data": {
            "text/plain": [
              "<matplotlib.collections.PathCollection at 0x7f363cc75550>"
            ]
          },
          "execution_count": null,
          "metadata": {},
          "output_type": "execute_result"
        },
        {
          "data": {
            "image/png": "[encoded data removed]",
            "text/plain": [
              "<Figure size 432x288 with 1 Axes>"
            ]
          },
          "metadata": {},
          "output_type": "display_data"
        }
      ],
      "source": [
        "#Scatter de los datos con frequency mean y genero\n",
        "df_voice_agrupado = df_voice.groupby('meanfreq')['label','meanfreq'].max()\n",
        "plt.scatter(df_voice_agrupado['label'] ,df_voice_agrupado['meanfreq'])"
      ]
    },
    {
      "cell_type": "code",
      "execution_count": null,
      "metadata": {
        "colab": {
          "background_save": true,
          "base_uri": "https://localhost:8080/"
        },
        "id": "kbgVM3M0SvuO",
        "outputId": "cffad66c-a773-4c46-88d9-1b76c96a38bd"
      },
      "outputs": [
        {
          "name": "stdout",
          "output_type": "stream",
          "text": [
            "[[0.05978098 0.06424127 0.03202691 ... 0.0078125  0.         0.        ]\n",
            " [0.06600874 0.06731003 0.04022873 ... 0.0546875  0.046875   0.05263158]\n",
            " [0.0773155  0.08382942 0.03671846 ... 0.015625   0.0078125  0.04651163]\n",
            " ...\n",
            " [0.14205626 0.09579843 0.18373124 ... 2.9375     2.9296875  0.19475862]\n",
            " [0.14365874 0.09062826 0.18497617 ... 3.59375    3.5859375  0.31100218]\n",
            " [0.16550895 0.09288354 0.18304392 ... 0.5546875  0.546875   0.35      ]]\n"
          ]
        }
      ],
      "source": [
        "#Procesado de los datos limpiandono\n",
        "X = df_voice.dropna(subset=['meanfreq', 'sd', 'median', 'Q25', 'Q75', 'IQR', 'skew', 'kurt',\n",
        "       'sp.ent', 'sfm', 'mode', 'centroid', 'meanfun', 'minfun', 'maxfun',\n",
        "       'meandom', 'mindom', 'maxdom', 'dfrange', 'modindx', 'label'])\n",
        "#print(X)\n",
        "X.describe()\n",
        "x=df_voice.drop(['label'], axis=1).values\n",
        "print(x)\n",
        "#x.describe()"
      ]
    },
    {
      "cell_type": "code",
      "execution_count": null,
      "metadata": {
        "colab": {
          "background_save": true
        },
        "id": "jc2D3axqK4LE"
      },
      "outputs": [],
      "source": [
        "#Division de los datos para poder trabajar\n",
        "from sklearn.model_selection import train_test_split\n",
        "\n",
        "y = df_voice['label'].values"
      ]
    },
    {
      "cell_type": "code",
      "execution_count": null,
      "metadata": {
        "colab": {
          "background_save": true
        },
        "id": "-HI5mohbUZ8i"
      },
      "outputs": [],
      "source": [
        "#En esta ocacion, cambio el random state y el tamaño del state, en donde es 60 y 20%\n",
        "X_train, X_test, y_train, y_test = train_test_split(x, y, random_state=60, test_size=0.2)"
      ]
    },
    {
      "cell_type": "code",
      "execution_count": null,
      "metadata": {
        "colab": {
          "background_save": true,
          "base_uri": "https://localhost:8080/"
        },
        "id": "2gFaVC0CJd2E",
        "outputId": "04ade39d-5f5f-4286-da82-7cb90e9dd183"
      },
      "outputs": [
        {
          "name": "stdout",
          "output_type": "stream",
          "text": [
            "[[0.09791506 0.08550825 0.07815341 ... 0.5234375  0.515625   0.05263158]\n",
            " [0.17872069 0.05859404 0.1865124  ... 7.96875    7.9453125  0.13633102]\n",
            " [0.14793662 0.05807756 0.13751613 ... 0.80566406 0.70800781 0.83344828]\n",
            " ...\n",
            " [0.18051728 0.05695537 0.19025042 ... 6.234375   6.2109375  0.126185  ]\n",
            " [0.13462555 0.08440291 0.15453076 ... 4.1640625  4.15625    0.10213033]\n",
            " [0.20770932 0.04200552 0.20656863 ... 0.546875   0.5390625  0.15642179]]\n"
          ]
        }
      ],
      "source": [
        "print(X_train)"
      ]
    },
    {
      "cell_type": "code",
      "execution_count": null,
      "metadata": {
        "colab": {
          "background_save": true,
          "base_uri": "https://localhost:8080/"
        },
        "id": "hFnBB1XVUtvG",
        "outputId": "b0b220e3-ff0d-4d1a-802e-122142aae00b"
      },
      "outputs": [
        {
          "name": "stdout",
          "output_type": "stream",
          "text": [
            "[[0.14585924 0.06670802 0.12540135 ... 0.74707031 0.67382812 0.38969404]\n",
            " [0.20321819 0.05075136 0.21677419 ... 9.140625   9.1171875  0.1318065 ]\n",
            " [0.21379548 0.05923263 0.23509002 ... 4.96875    4.9453125  0.08796671]\n",
            " ...\n",
            " [0.18526983 0.05897891 0.16821918 ... 6.375      6.3515625  0.13591636]\n",
            " [0.15972284 0.0580449  0.13540984 ... 3.34960938 3.25683594 0.31100075]\n",
            " [0.17489232 0.05503225 0.18388715 ... 7.03125    7.0078125  0.0874846 ]]\n"
          ]
        }
      ],
      "source": [
        "print(X_test)"
      ]
    },
    {
      "cell_type": "code",
      "execution_count": null,
      "metadata": {
        "colab": {
          "background_save": true,
          "base_uri": "https://localhost:8080/"
        },
        "id": "J2xg_AKIL3Cv",
        "outputId": "5cfcaf68-c086-422e-fef2-1e119751f27f"
      },
      "outputs": [
        {
          "name": "stdout",
          "output_type": "stream",
          "text": [
            "[1 1 1 ... 1 0 0]\n"
          ]
        }
      ],
      "source": [
        "print(y_train)"
      ]
    },
    {
      "cell_type": "code",
      "execution_count": null,
      "metadata": {
        "colab": {
          "background_save": true,
          "base_uri": "https://localhost:8080/"
        },
        "id": "BWQdpYS2VeOy",
        "outputId": "6cf5fb28-2a81-4621-ce5c-4da2412210e9"
      },
      "outputs": [
        {
          "name": "stdout",
          "output_type": "stream",
          "text": [
            "[1 1 1 ... 1 0 0]\n"
          ]
        }
      ],
      "source": [
        "print(y_train)"
      ]
    },
    {
      "cell_type": "code",
      "execution_count": null,
      "metadata": {
        "colab": {
          "background_save": true,
          "base_uri": "https://localhost:8080/"
        },
        "id": "0NzjjC97VPsM",
        "outputId": "f5f1f98f-3130-4277-a5a8-c3701b42db10"
      },
      "outputs": [
        {
          "data": {
            "text/plain": [
              "RandomForestClassifier(bootstrap=True, ccp_alpha=0.0, class_weight=None,\n",
              "                       criterion='gini', max_depth=2, max_features='auto',\n",
              "                       max_leaf_nodes=None, max_samples=None,\n",
              "                       min_impurity_decrease=0.0, min_impurity_split=None,\n",
              "                       min_samples_leaf=1, min_samples_split=2,\n",
              "                       min_weight_fraction_leaf=0.0, n_estimators=100,\n",
              "                       n_jobs=None, oob_score=False, random_state=0, verbose=0,\n",
              "                       warm_start=False)"
            ]
          },
          "execution_count": null,
          "metadata": {},
          "output_type": "execute_result"
        }
      ],
      "source": [
        "##Al igual que antes voy a usar los dos clasificadores, SVM y Random Forest\n",
        "#En esta caja cargo el Random Forest\n",
        "from sklearn.ensemble import RandomForestClassifier\n",
        "clf2_random_f = RandomForestClassifier(max_depth=2, random_state=0)\n",
        "clf2_random_f.fit(X_train, y_train)"
      ]
    },
    {
      "cell_type": "code",
      "execution_count": null,
      "metadata": {
        "colab": {
          "background_save": true,
          "base_uri": "https://localhost:8080/"
        },
        "id": "ohios0F2ZU4Y",
        "outputId": "d296aa76-df7c-4e7d-adba-d015aac15a30"
      },
      "outputs": [
        {
          "name": "stdout",
          "output_type": "stream",
          "text": [
            "[1 0 1 0 0 0 0 0 1 1 1 1 0 1 0 0 0 0 1 1 0 0 1 1 0 0 1 0 1 0 0 0 1 0 0 0 0\n",
            " 1 1 0 0 0 1 1 0 1 1 1 1 0 1 0 0 0 0 0 1 0 0 0 1 0 0 1 0 0 1 1 1 0 1 1 0 0\n",
            " 0 0 0 1 0 1 1 1 1 1 0 1 0 0 0 1 0 1 0 1 0 0 0 0 0 0 1 1 0 0 1 0 1 1 1 1 1\n",
            " 1 1 1 1 0 1 0 0 1 0 1 0 0 0 0 1 0 1 0 0 0 1 0 1 0 1 0 1 1 1 0 0 0 0 1 0 0\n",
            " 1 1 1 1 0 1 0 0 0 0 1 0 0 0 1 0 1 1 1 0 1 1 1 0 1 1 1 1 0 1 0 0 0 1 0 0 1\n",
            " 0 0 1 0 0 0 0 1 0 1 0 1 1 0 0 1 1 0 1 1 0 0 1 1 0 1 1 0 1 1 1 1 1 1 0 1 0\n",
            " 1 1 1 0 1 0 0 1 0 1 1 0 1 0 1 0 0 1 1 0 1 0 0 1 1 1 0 0 1 1 0 1 1 0 1 1 0\n",
            " 0 0 1 0 1 0 0 0 0 0 1 1 0 1 0 0 1 0 0 1 0 1 0 1 1 1 0 0 1 1 0 0 0 1 1 0 1\n",
            " 1 1 0 1 0 1 0 0 0 1 1 0 1 0 0 1 1 1 0 0 1 1 0 1 1 0 0 0 0 0 0 1 0 1 0 0 1\n",
            " 1 0 0 0 0 0 1 1 1 0 0 1 0 1 0 1 0 1 0 1 0 0 0 0 1 0 1 1 0 0 0 1 1 1 0 1 0\n",
            " 0 1 0 0 0 1 1 0 0 0 1 1 0 1 0 0 1 1 0 1 1 0 1 0 1 0 1 0 1 0 1 0 1 0 0 1 0\n",
            " 1 0 0 1 0 1 1 1 1 0 0 0 0 1 1 1 1 0 0 1 0 1 0 1 1 1 1 1 0 1 0 0 1 1 1 0 1\n",
            " 0 1 0 0 1 1 0 0 0 1 1 0 1 0 0 0 1 0 1 1 0 0 1 1 0 1 1 0 1 1 0 1 1 0 0 0 0\n",
            " 0 0 1 0 1 1 1 0 1 1 1 1 0 0 0 1 1 1 0 1 1 1 1 1 0 0 1 0 1 0 1 0 0 1 1 1 0\n",
            " 0 0 1 1 1 1 0 0 1 0 0 1 1 0 0 1 1 0 1 0 1 1 1 1 0 1 0 0 1 1 1 1 0 0 1 1 1\n",
            " 1 1 1 1 1 1 0 0 0 0 0 1 1 1 0 1 0 0 1 1 1 1 1 1 0 0 1 1 0 0 1 0 1 1 0 0 1\n",
            " 1 0 0 1 1 0 0 1 1 1 0 0 0 1 1 0 1 0 1 0 1 0 0 1 0 0 0 0 1 1 1 0 0 1 0 0 0\n",
            " 0 0 1 1 1]\n"
          ]
        }
      ],
      "source": [
        "y_forest_hat_2 = clf2_random_f.predict(X_test)\n",
        "print(y_forest_hat_2)"
      ]
    },
    {
      "cell_type": "code",
      "execution_count": null,
      "metadata": {
        "colab": {
          "background_save": true,
          "base_uri": "https://localhost:8080/"
        },
        "id": "Fpf4uKVsZhYG",
        "outputId": "c048970b-633a-4785-a37f-b1d0ccc0f31b"
      },
      "outputs": [
        {
          "name": "stdout",
          "output_type": "stream",
          "text": [
            "Porcentaje de aciertos en la clasificación con los datos limpios:  0.9369085173501577\n"
          ]
        }
      ],
      "source": [
        "#Mido el rendimiento que tiene este clasificador\n",
        "print('Porcentaje de aciertos en la clasificación con los datos limpios: ', clf2_random_f.score(X_test,y_test))"
      ]
    },
    {
      "cell_type": "code",
      "execution_count": null,
      "metadata": {
        "colab": {
          "background_save": true,
          "base_uri": "https://localhost:8080/"
        },
        "id": "d1pTsuQdRLYL",
        "outputId": "4c41fa5b-0fd7-46f1-e347-9f03ef949b60"
      },
      "outputs": [
        {
          "name": "stdout",
          "output_type": "stream",
          "text": [
            "              precision    recall  f1-score   support\n",
            "\n",
            "           0       0.96      0.92      0.94       332\n",
            "           1       0.91      0.96      0.94       302\n",
            "\n",
            "    accuracy                           0.94       634\n",
            "   macro avg       0.94      0.94      0.94       634\n",
            "weighted avg       0.94      0.94      0.94       634\n",
            "\n"
          ]
        }
      ],
      "source": [
        "from sklearn import metrics\n",
        "\n",
        "print(metrics.classification_report(y_test, y_forest_hat_2))"
      ]
    },
    {
      "cell_type": "code",
      "execution_count": null,
      "metadata": {
        "colab": {
          "background_save": true,
          "base_uri": "https://localhost:8080/"
        },
        "id": "x-s7m5xxaDfP",
        "outputId": "83b7e085-7b2f-4763-dce2-8dc7013753ca"
      },
      "outputs": [
        {
          "data": {
            "text/plain": [
              "SVC(C=1.0, break_ties=False, cache_size=200, class_weight=None, coef0=0.0,\n",
              "    decision_function_shape='ovr', degree=3, gamma='scale', kernel='rbf',\n",
              "    max_iter=-1, probability=False, random_state=None, shrinking=True,\n",
              "    tol=0.001, verbose=False)"
            ]
          },
          "execution_count": null,
          "metadata": {},
          "output_type": "execute_result"
        }
      ],
      "source": [
        "###Ahora a probar con SVM\n",
        "from sklearn import svm\n",
        "\n",
        "clf2_svm = svm.SVC()\n",
        "clf2_svm.fit(X_train, y_train)"
      ]
    },
    {
      "cell_type": "code",
      "execution_count": null,
      "metadata": {
        "colab": {
          "background_save": true,
          "base_uri": "https://localhost:8080/"
        },
        "id": "tbO9xu-Hafj1",
        "outputId": "00ee17b6-40fa-45ec-d2df-2fcb526ee035"
      },
      "outputs": [
        {
          "name": "stdout",
          "output_type": "stream",
          "text": [
            "[1 0 1 0 0 1 0 1 1 1 0 1 0 1 1 1 1 0 1 1 1 1 1 1 0 0 1 1 1 0 0 1 1 0 0 0 0\n",
            " 1 0 1 1 0 1 1 0 1 1 1 1 1 1 1 1 0 0 0 0 1 0 1 1 0 0 1 0 0 1 1 0 1 1 1 1 1\n",
            " 1 1 1 1 0 1 1 1 1 1 0 1 1 0 1 0 1 1 1 1 1 1 1 1 0 0 1 1 0 1 1 0 1 1 1 0 0\n",
            " 1 1 1 1 1 1 1 0 1 1 0 0 1 0 0 1 0 1 0 0 0 1 1 1 0 0 0 0 1 0 0 0 1 0 1 1 0\n",
            " 1 1 0 1 0 1 1 1 1 1 1 1 1 1 1 0 1 1 0 1 1 1 1 0 1 1 0 1 0 1 1 1 0 0 1 1 1\n",
            " 0 0 1 1 0 0 1 1 0 0 0 0 1 0 1 0 0 1 1 1 0 0 1 1 1 1 0 1 1 1 1 1 0 1 1 1 1\n",
            " 1 0 1 0 1 1 0 1 1 0 0 0 0 0 1 0 0 1 1 0 1 0 1 1 1 1 1 0 1 1 1 0 0 1 1 1 0\n",
            " 0 0 1 0 1 0 0 0 1 0 0 0 1 1 1 0 0 0 0 1 1 1 0 1 1 1 0 1 1 1 1 0 0 1 1 1 1\n",
            " 1 1 1 1 1 1 1 1 1 0 1 0 1 0 1 1 0 1 0 1 1 1 0 1 0 1 1 0 0 0 1 1 1 1 0 0 1\n",
            " 1 1 1 1 1 0 1 1 1 0 0 1 0 1 1 1 1 1 1 1 1 0 1 1 0 1 1 1 1 0 1 1 1 0 1 0 0\n",
            " 0 0 0 1 0 0 1 1 1 1 0 1 1 0 1 0 1 1 0 1 1 0 1 0 1 0 1 0 0 0 1 0 1 1 1 0 0\n",
            " 1 0 1 1 0 1 1 1 1 1 1 1 1 1 1 1 1 0 1 1 0 1 0 1 1 0 1 1 0 1 1 0 1 1 1 1 1\n",
            " 1 0 1 0 1 1 1 0 1 1 1 1 1 1 0 1 0 0 1 1 0 1 1 1 0 1 1 0 1 1 0 1 1 1 0 0 1\n",
            " 0 0 0 0 1 1 0 0 1 1 1 1 0 1 1 1 0 1 0 0 1 1 1 1 0 1 0 0 1 1 1 1 0 1 1 0 0\n",
            " 0 1 1 0 0 1 0 1 1 1 0 1 1 1 1 0 1 0 1 1 1 1 1 1 1 0 1 0 1 1 0 1 0 0 0 1 1\n",
            " 0 1 1 1 1 1 0 1 1 0 0 1 1 1 0 0 1 1 1 1 1 1 1 0 0 1 1 1 0 1 1 0 1 1 0 0 1\n",
            " 1 0 0 1 1 1 0 1 1 0 0 1 1 1 1 1 1 0 1 0 1 1 0 1 0 1 0 0 1 0 1 0 0 1 0 1 1\n",
            " 1 1 1 1 1]\n"
          ]
        }
      ],
      "source": [
        "y_hat_svm2 = clf2_svm.predict(X_test)\n",
        "print(y_hat_svm2)"
      ]
    },
    {
      "cell_type": "code",
      "execution_count": null,
      "metadata": {
        "colab": {
          "background_save": true,
          "base_uri": "https://localhost:8080/"
        },
        "id": "Ab1_EtgJayq8",
        "outputId": "2944ac6c-0216-4e56-b93a-1d777a0c3c9e"
      },
      "outputs": [
        {
          "name": "stdout",
          "output_type": "stream",
          "text": [
            "Porcentaje de aciertos en la clasificación con los datos limpios SVM:  0.6545741324921136\n"
          ]
        }
      ],
      "source": [
        "#Midiendo perfomance de SVM y comparo frente Random forest\n",
        "print('Porcentaje de aciertos en la clasificación con los datos limpios SVM: ',  clf2_svm.score(X_test,y_test))"
      ]
    },
    {
      "cell_type": "code",
      "execution_count": null,
      "metadata": {
        "colab": {
          "background_save": true,
          "base_uri": "https://localhost:8080/"
        },
        "id": "q2KNTYzcRy0m",
        "outputId": "6a94d01e-18bb-4ef3-9220-53250a32c2b6"
      },
      "outputs": [
        {
          "name": "stdout",
          "output_type": "stream",
          "text": [
            "              precision    recall  f1-score   support\n",
            "\n",
            "           0       0.75      0.52      0.61       332\n",
            "           1       0.60      0.81      0.69       302\n",
            "\n",
            "    accuracy                           0.65       634\n",
            "   macro avg       0.67      0.66      0.65       634\n",
            "weighted avg       0.68      0.65      0.65       634\n",
            "\n"
          ]
        }
      ],
      "source": [
        "from sklearn import metrics\n",
        "\n",
        "print(metrics.classification_report(y_test, y_hat_svm2))"
      ]
    },
    {
      "cell_type": "code",
      "execution_count": null,
      "metadata": {
        "colab": {
          "background_save": true,
          "base_uri": "https://localhost:8080/",
          "height": 279
        },
        "id": "rIwVwfcQ9KMo",
        "outputId": "0499557a-bf66-42a3-d91d-99e4d8d968a1"
      },
      "outputs": [
        {
          "data": {
            "image/png": "[encoded data removed]",
            "text/plain": [
              "<Figure size 432x288 with 2 Axes>"
            ]
          },
          "metadata": {},
          "output_type": "display_data"
        }
      ],
      "source": [
        "#Matriz de confusion para Support Vector Machine\n",
        "import matplotlib.pyplot as plt\n",
        "%matplotlib inline\n",
        "from sklearn.metrics import plot_confusion_matrix\n",
        "\n",
        "plot_confusion_matrix(clf2_svm, X_test, y_test,\n",
        "                      display_labels=df_voice['label'],\n",
        "                      cmap=plt.cm.Blues)\n",
        "plt.show()"
      ]
    },
    {
      "cell_type": "code",
      "execution_count": null,
      "metadata": {
        "colab": {
          "background_save": true,
          "base_uri": "https://localhost:8080/",
          "height": 280
        },
        "id": "IL0LzJ-C9gZK",
        "outputId": "3bd81975-b3e4-43f6-d775-783fca60a97e"
      },
      "outputs": [
        {
          "data": {
            "image/png": "[encoded data removed]",
            "text/plain": [
              "<Figure size 432x288 with 2 Axes>"
            ]
          },
          "metadata": {},
          "output_type": "display_data"
        }
      ],
      "source": [
        "#Matriz de confusion para Random Forest\n",
        "import matplotlib.pyplot as plt\n",
        "%matplotlib inline\n",
        "from sklearn.metrics import plot_confusion_matrix\n",
        "\n",
        "plot_confusion_matrix(clf2_random_f, X_test, y_test,\n",
        "                      display_labels=df_voice['label'],\n",
        "                      cmap=plt.cm.Blues)\n",
        "plt.show()"
      ]
    },
    {
      "cell_type": "markdown",
      "metadata": {
        "id": "-h8XBFVb6R0Z"
      },
      "source": [
        "###Habiendo probado la matriz de confusion en ambos modelos, puedo decir que random forest es el que menor cantidad de falsas clasificaciones tiene, con los datos sin normalizar."
      ]
    },
    {
      "cell_type": "markdown",
      "metadata": {
        "id": "AYkSxzjLGKEI"
      },
      "source": [
        "### Hasta ahora los dos clasificadores funcionan bien, pero como era de esperar Random Forest es el que mas score tuvo"
      ]
    },
    {
      "cell_type": "markdown",
      "metadata": {
        "id": "Q-3iYfvW8xHP"
      },
      "source": [
        "Procedere a normalizar los datos para probar el funcionamiento de los dos clasificadores."
      ]
    },
    {
      "cell_type": "code",
      "execution_count": null,
      "metadata": {
        "colab": {
          "background_save": true
        },
        "id": "QqBhohnK87RA"
      },
      "outputs": [],
      "source": [
        "from sklearn.preprocessing import StandardScaler"
      ]
    },
    {
      "cell_type": "markdown",
      "metadata": {
        "id": "Zxy8JmoW-Jw4"
      },
      "source": [
        "La normalización la llevaré a cabo con Standar Scaler ya que es la mejor opción según lo analizado en la clase.\n",
        "La normalizacion no es llevada acabo dentro del modelo, sino antes y utilizada para todos los que tenemos."
      ]
    },
    {
      "cell_type": "code",
      "execution_count": null,
      "metadata": {
        "colab": {
          "background_save": true,
          "base_uri": "https://localhost:8080/"
        },
        "id": "gsQlZuGr-Sfq",
        "outputId": "b88ccf95-79ee-497f-b52d-505e2ba42274"
      },
      "outputs": [
        {
          "data": {
            "text/plain": [
              "array([ 0.18044156,  0.05727269,  0.18538621,  0.1396256 ,  0.22440265,\n",
              "        0.08477705,  3.13782085, 36.6401589 ,  0.89561185,  0.41137455,\n",
              "        0.16453725,  0.18044156,  0.14231613,  0.03673278,  0.2584852 ,\n",
              "        0.8274692 ,  0.05212254,  5.03259904,  4.9804765 ,  0.17346806])"
            ]
          },
          "execution_count": null,
          "metadata": {},
          "output_type": "execute_result"
        }
      ],
      "source": [
        "scaler= preprocessing.StandardScaler().fit(X_train)\n",
        "\n",
        "scaler.mean_"
      ]
    },
    {
      "cell_type": "code",
      "execution_count": null,
      "metadata": {
        "colab": {
          "background_save": true
        },
        "id": "p3uuWag4AO03"
      },
      "outputs": [],
      "source": [
        "X_train_norm = scaler.transform(X_train)\n",
        "X_test_norm = scaler.transform(X_test)"
      ]
    },
    {
      "cell_type": "code",
      "execution_count": null,
      "metadata": {
        "colab": {
          "background_save": true
        },
        "id": "xdDENIsV-_kE"
      },
      "outputs": [],
      "source": [
        "###Ahora a probar con SVM\n",
        "from sklearn import svm\n",
        "\n",
        "clf2_svm_norm = svm.SVC()\n",
        "clf2_svm_norm.fit(X_train_norm, y_train)\n",
        "\n",
        "y_hat_svm_norm = clf2_svm_norm.predict(X_test_norm)"
      ]
    },
    {
      "cell_type": "code",
      "execution_count": null,
      "metadata": {
        "colab": {
          "background_save": true,
          "base_uri": "https://localhost:8080/"
        },
        "id": "23XJQfcn-mMI",
        "outputId": "bea39465-b0c1-4433-9cb3-cccfe0800f03"
      },
      "outputs": [
        {
          "name": "stdout",
          "output_type": "stream",
          "text": [
            "Porcentaje de aciertos luego de normalizar los datos:  0.9779179810725552\n"
          ]
        }
      ],
      "source": [
        "#Normalizando los datos, SVM aumento muchisimo su perfomance.\n",
        "print(\"Porcentaje de aciertos luego de normalizar los datos: \", clf2_svm_norm.score(X_test_norm,y_test))"
      ]
    },
    {
      "cell_type": "code",
      "execution_count": null,
      "metadata": {
        "colab": {
          "background_save": true,
          "base_uri": "https://localhost:8080/",
          "height": 279
        },
        "id": "EkDL1iNrEnzN",
        "outputId": "7a31e98d-a42b-4ca9-8c7a-0ad53a83752e"
      },
      "outputs": [
        {
          "data": {
            "image/png": "[encoded data removed]",
            "text/plain": [
              "<Figure size 432x288 with 2 Axes>"
            ]
          },
          "metadata": {},
          "output_type": "display_data"
        }
      ],
      "source": [
        "#Matriz de confusion para SVM\n",
        "import matplotlib.pyplot as plt\n",
        "%matplotlib inline\n",
        "from sklearn.metrics import plot_confusion_matrix\n",
        "\n",
        "plot_confusion_matrix(clf2_svm_norm, X_test_norm, y_test,\n",
        "                      display_labels=df_voice['label'],\n",
        "                      cmap=plt.cm.Blues)\n",
        "plt.show()"
      ]
    },
    {
      "cell_type": "markdown",
      "metadata": {
        "id": "j_bnbkuLCLHC"
      },
      "source": [
        "Hasta aca, sin haber probado random forest, puedo observar que se obtiene un score mucho mayor en support vector machine, con los datos ya normalizados, ahora es momento de probar Random Forest con los datos normalizados y ver como se comporta"
      ]
    },
    {
      "cell_type": "code",
      "execution_count": null,
      "metadata": {
        "colab": {
          "background_save": true,
          "base_uri": "https://localhost:8080/"
        },
        "id": "7gb_U6ZPCKP9",
        "outputId": "bd996ee3-1a67-45b8-a12e-21115134af90"
      },
      "outputs": [
        {
          "data": {
            "text/plain": [
              "RandomForestClassifier(bootstrap=True, ccp_alpha=0.0, class_weight=None,\n",
              "                       criterion='gini', max_depth=2, max_features='auto',\n",
              "                       max_leaf_nodes=None, max_samples=None,\n",
              "                       min_impurity_decrease=0.0, min_impurity_split=None,\n",
              "                       min_samples_leaf=1, min_samples_split=2,\n",
              "                       min_weight_fraction_leaf=0.0, n_estimators=100,\n",
              "                       n_jobs=None, oob_score=False, random_state=75, verbose=0,\n",
              "                       warm_start=False)"
            ]
          },
          "execution_count": null,
          "metadata": {},
          "output_type": "execute_result"
        }
      ],
      "source": [
        "from sklearn.ensemble import RandomForestClassifier\n",
        "clf2_random_f_norm = RandomForestClassifier(max_depth=2, random_state=75)\n",
        "clf2_random_f_norm.fit(X_train_norm, y_train)"
      ]
    },
    {
      "cell_type": "code",
      "execution_count": null,
      "metadata": {
        "colab": {
          "background_save": true,
          "base_uri": "https://localhost:8080/"
        },
        "id": "on64Q_vFCyah",
        "outputId": "bb01aa84-9bfc-4172-9e24-674348aa0bed"
      },
      "outputs": [
        {
          "name": "stdout",
          "output_type": "stream",
          "text": [
            "Porcentaje de aciertos luego de normalizar los datos:  0.9574132492113565\n"
          ]
        }
      ],
      "source": [
        "y_forest_hat_norm = clf2_random_f_norm.predict(X_test_norm)\n",
        "#Normalizando los datos, random forest perdio un poco de performance.\n",
        "print(\"Porcentaje de aciertos luego de normalizar los datos: \", clf2_random_f_norm.score(X_test_norm,y_test))"
      ]
    },
    {
      "cell_type": "code",
      "execution_count": null,
      "metadata": {
        "colab": {
          "background_save": true,
          "base_uri": "https://localhost:8080/",
          "height": 279
        },
        "id": "YsHsJS6qE39b",
        "outputId": "d7aab07b-1ca2-4611-f5fc-da307db41bda"
      },
      "outputs": [
        {
          "data": {
            "image/png": "[encoded data removed]",
            "text/plain": [
              "<Figure size 432x288 with 2 Axes>"
            ]
          },
          "metadata": {},
          "output_type": "display_data"
        }
      ],
      "source": [
        "#Matriz de confusion para Random Forest\n",
        "import matplotlib.pyplot as plt\n",
        "%matplotlib inline\n",
        "from sklearn.metrics import plot_confusion_matrix\n",
        "\n",
        "plot_confusion_matrix(clf2_random_f_norm, X_test_norm, y_test,\n",
        "                      display_labels=df_voice['label'],\n",
        "                      cmap=plt.cm.Blues)\n",
        "plt.show()"
      ]
    },
    {
      "cell_type": "markdown",
      "metadata": {
        "id": "uwwll4BNDKLJ"
      },
      "source": [
        "Como conclusión hasta esta parte, se puede ver con claridad que random forest es un metodo muy potente para poder trabajar con datasets sin normalizar, pero a la hora de normalizar, support vector machine se vuelve muy certero, tanto como al nivel de random forest sin normalizar. Aun asi, se obtuvo mayor score con random sin normalizar los datos."
      ]
    },
    {
      "cell_type": "markdown",
      "metadata": {
        "id": "n3dBLj_2Ggkx"
      },
      "source": [
        "Ahora, voy a trabajar en la optimizacion de hiperparametros y luego en KFolds"
      ]
    },
    {
      "cell_type": "code",
      "execution_count": null,
      "metadata": {
        "colab": {
          "background_save": true
        },
        "id": "mR3OwN-XGfgj"
      },
      "outputs": [],
      "source": [
        "#Procedo con la optimizacion de hiperparametros con la utilizacion de busqueda en grilla\n",
        "from sklearn.model_selection import GridSearchCV"
      ]
    },
    {
      "cell_type": "code",
      "execution_count": null,
      "metadata": {
        "colab": {
          "background_save": true,
          "base_uri": "https://localhost:8080/"
        },
        "id": "u3-448xMEDwA",
        "outputId": "6e9e8267-8ac7-4808-bf04-9083be6e7dad"
      },
      "outputs": [
        {
          "data": {
            "text/plain": [
              "GridSearchCV(cv=None, error_score=nan,\n",
              "             estimator=SVC(C=1.0, break_ties=False, cache_size=200,\n",
              "                           class_weight=None, coef0=0.0,\n",
              "                           decision_function_shape='ovr', degree=3,\n",
              "                           gamma='scale', kernel='rbf', max_iter=-1,\n",
              "                           probability=True, random_state=None, shrinking=True,\n",
              "                           tol=0.001, verbose=False),\n",
              "             iid='deprecated', n_jobs=None,\n",
              "             param_grid=[{'C': [0.0001, 0.001, 0.01, 0.01, 1, 2, 3, 100],\n",
              "                          'gamma': [100, 1000, 10000],\n",
              "                          'kernel': ['linear', 'poly', 'rbf']}],\n",
              "             pre_dispatch='2*n_jobs', refit=True, return_train_score=False,\n",
              "             scoring='accuracy', verbose=0)"
            ]
          },
          "execution_count": null,
          "metadata": {},
          "output_type": "execute_result"
        }
      ],
      "source": [
        "#Basandome en la documentacion oficial de sklearn\n",
        "#parameters = {'kernel':('linear','rbf'), 'C':[1, 10,50,100]}\n",
        "parameters = [{\n",
        "'kernel': ['linear', 'poly', 'rbf'], \n",
        "'C': [0.0001,0.001,0.01,0.01,1,2,3,100],\n",
        " 'gamma':[100,1000,10000]\n",
        "}]\n",
        "clf_svm_grid = GridSearchCV(\n",
        "    \n",
        "        svm.SVC(probability=True), parameters, scoring='accuracy'\n",
        "    )\n",
        "\n",
        "\n",
        "clf_svm_grid.fit(X_train_norm, y_train)"
      ]
    },
    {
      "cell_type": "code",
      "execution_count": null,
      "metadata": {
        "colab": {
          "background_save": true,
          "base_uri": "https://localhost:8080/"
        },
        "id": "EV498IVTFy0Z",
        "outputId": "faa7fae9-d331-4499-f30b-66db3ae72152"
      },
      "outputs": [
        {
          "name": "stdout",
          "output_type": "stream",
          "text": [
            "{'C': 100, 'gamma': 100, 'kernel': 'linear'}\n"
          ]
        }
      ],
      "source": [
        "print(clf_svm_grid.best_params_)"
      ]
    },
    {
      "cell_type": "code",
      "execution_count": null,
      "metadata": {
        "colab": {
          "background_save": true,
          "base_uri": "https://localhost:8080/"
        },
        "id": "TRbiG3w7GmnJ",
        "outputId": "24617f84-6a41-450d-a9ab-2c2f369c99c9"
      },
      "outputs": [
        {
          "name": "stdout",
          "output_type": "stream",
          "text": [
            "GridSearchCV(cv=None, error_score=nan,\n",
            "             estimator=SVC(C=1.0, break_ties=False, cache_size=200,\n",
            "                           class_weight=None, coef0=0.0,\n",
            "                           decision_function_shape='ovr', degree=3,\n",
            "                           gamma='scale', kernel='rbf', max_iter=-1,\n",
            "                           probability=True, random_state=None, shrinking=True,\n",
            "                           tol=0.001, verbose=False),\n",
            "             iid='deprecated', n_jobs=None,\n",
            "             param_grid=[{'C': [0.0001, 0.001, 0.01, 0.01, 1, 2, 3, 100],\n",
            "                          'gamma': [100, 1000, 10000],\n",
            "                          'kernel': ['linear', 'poly', 'rbf']}],\n",
            "             pre_dispatch='2*n_jobs', refit=True, return_train_score=False,\n",
            "             scoring='accuracy', verbose=0)\n"
          ]
        }
      ],
      "source": [
        "print(clf_svm_grid)"
      ]
    },
    {
      "cell_type": "code",
      "execution_count": null,
      "metadata": {
        "colab": {
          "background_save": true
        },
        "id": "XiQ7lT5_Gr0i"
      },
      "outputs": [],
      "source": [
        "y_hat_svm_grid = clf_svm_grid.predict(X_test_norm)"
      ]
    },
    {
      "cell_type": "code",
      "execution_count": null,
      "metadata": {
        "colab": {
          "background_save": true,
          "base_uri": "https://localhost:8080/"
        },
        "id": "COdisBEsHBL7",
        "outputId": "58473269-6cb8-49e6-d98e-d653073874ec"
      },
      "outputs": [
        {
          "name": "stdout",
          "output_type": "stream",
          "text": [
            "Porcentaje de aciertos luego de optimizar hiperparametros:  0.9716088328075709\n"
          ]
        }
      ],
      "source": [
        "#En optimizacon de hiperparametros, no hubo camios en SVM.\n",
        "print(\"Porcentaje de aciertos luego de optimizar hiperparametros: \", clf_svm_grid.score(X_test_norm,y_test))"
      ]
    },
    {
      "cell_type": "code",
      "execution_count": null,
      "metadata": {
        "colab": {
          "background_save": true,
          "base_uri": "https://localhost:8080/"
        },
        "id": "M0fIOkEPHn4k",
        "outputId": "f850f27d-b2e3-4b18-ed1e-6a858c094341"
      },
      "outputs": [
        {
          "data": {
            "text/plain": [
              "GridSearchCV(cv=None, error_score=nan,\n",
              "             estimator=RandomForestClassifier(bootstrap=True, ccp_alpha=0.0,\n",
              "                                              class_weight=None,\n",
              "                                              criterion='gini', max_depth=None,\n",
              "                                              max_features='auto',\n",
              "                                              max_leaf_nodes=None,\n",
              "                                              max_samples=None,\n",
              "                                              min_impurity_decrease=0.0,\n",
              "                                              min_impurity_split=None,\n",
              "                                              min_samples_leaf=1,\n",
              "                                              min_samples_split=2,\n",
              "                                              min_weight_fraction_leaf=0.0,\n",
              "                                              n_estimators=100, n_jobs=None,\n",
              "                                              oob_score=False,\n",
              "                                              random_state=None, verbose=0,\n",
              "                                              warm_start=False),\n",
              "             iid='deprecated', n_jobs=None,\n",
              "             param_grid={'max_depth': [3, 4, 6, 10], 'max_features': ['auto'],\n",
              "                         'min_samples_split': [3],\n",
              "                         'n_estimators': [1, 50, 100, 200]},\n",
              "             pre_dispatch='2*n_jobs', refit=True, return_train_score=False,\n",
              "             scoring='accuracy', verbose=0)"
            ]
          },
          "execution_count": null,
          "metadata": {},
          "output_type": "execute_result"
        }
      ],
      "source": [
        "#Para probar con random forest\n",
        "#Me resulta interesante porque mas arriba vi que cambiando el random state, el resultado es diferente\n",
        "\n",
        "parameters = { \"n_estimators\"      : [1,50,100,200],\n",
        "              # \"random_state\": [1,2,50,60,70,80,90],\n",
        "              #No vale la pena cambiar los random satate porque con o sin, me da el mismo score y no vale la pena computacionalmente\n",
        "               \"max_features\"      : ['auto'],\n",
        "               \"max_depth\"         : [3,4,6,10],\n",
        "               \"min_samples_split\"  : [3]\n",
        "         }\n",
        "clf_rf_grid = GridSearchCV(\n",
        "        RandomForestClassifier(), parameters, scoring='accuracy'\n",
        "    )\n",
        "\n",
        "\n",
        "\n",
        "clf_rf_grid.fit(X_train_norm, y_train)"
      ]
    },
    {
      "cell_type": "code",
      "execution_count": null,
      "metadata": {
        "colab": {
          "background_save": true,
          "base_uri": "https://localhost:8080/"
        },
        "id": "BkmbMX9vJA1D",
        "outputId": "c88f9886-ad92-41be-d604-4788b095d3b1"
      },
      "outputs": [
        {
          "data": {
            "text/plain": [
              "0.999605367008682"
            ]
          },
          "execution_count": null,
          "metadata": {},
          "output_type": "execute_result"
        }
      ],
      "source": [
        "clf_rf_grid.score(X_train_norm,y_train)"
      ]
    },
    {
      "cell_type": "markdown",
      "metadata": {
        "id": "-ykhxABtKn6s"
      },
      "source": [
        "Procedo con la validacion de K-Folds - Random Forest"
      ]
    },
    {
      "cell_type": "code",
      "execution_count": null,
      "metadata": {
        "colab": {
          "background_save": true,
          "base_uri": "https://localhost:8080/"
        },
        "id": "iHPjJLsvEzcl",
        "outputId": "3bce8d5c-fb5c-4aa3-bb4a-8925893f92f8"
      },
      "outputs": [
        {
          "name": "stdout",
          "output_type": "stream",
          "text": [
            "Porcentaje de acierto para Fold 1 : 1.0\n",
            "Porcentaje de acierto para Fold 2 : 1.0\n",
            "Porcentaje de acierto para Fold 3 : 1.0\n",
            "Porcentaje de acierto para Fold 4 : 1.0\n",
            "Porcentaje de acierto para Fold 5 : 0.9980237154150198\n",
            "El promedio de los scores que obtuve fue  0.9759251896375641\n"
          ]
        }
      ],
      "source": [
        "##############PLANTILLA SACADA DEL NOTEBOOK DE LA CLASE EN GITHUB\n",
        "####https://github.com/inteligenciafrvm/inteligenciafrvm/blob/master/Clases%20pr%C3%A1cticas/3.%20Intro%20al%20aprendizaje%20supervisado%20(clasificaci%C3%B3n%20I).ipynb\n",
        "# Plantilla inicial de ejemplo para KFolds\n",
        "\n",
        "from sklearn.model_selection import KFold\n",
        "\n",
        "\n",
        "count = 0\n",
        "# n_splits es el numero de divisiones\n",
        "n_splits = 5 #Uso 5 porque es el minimo recomendado, tambien podria usar 10, pero con 5 es suficiente\n",
        "acum_rf = 0\n",
        "kf = KFold(n_splits=n_splits, shuffle=True,random_state=40)\n",
        "\n",
        "# El siguiente for nos abstrae de tener que manejar explicitamente los subindices de los folds, \n",
        "# al dividir el conjunto de entrenamiento iterativamente. En cada una de sus iteraciones\n",
        "# obtenemos los subindices de todos los folds de entrenamiento y del fold de validacion de una\n",
        "# division en particular, de modo tal que todos los k folds sean al menos una vez usados para \n",
        "# entrenar el modelo\n",
        "for train_index, validation_index in kf.split(X_train):\n",
        "    X_train_kf, X_validation_kf = X_train_norm[train_index], X_train_norm[validation_index]\n",
        "    y_train_kf, y_validation_kf = y_train[train_index], y_train[validation_index]\n",
        "    \n",
        "    count +=1\n",
        "    #y_forest_hat_norm = clf2_random_f_norm.predict(X_validation_kf)\n",
        "\n",
        "    print('Porcentaje de acierto para Fold', count, ':', clf_rf_grid.score(X_validation_kf,y_validation_kf))\n",
        "    \n",
        "    acum_rf +=clf_svm_grid.score(X_validation_kf,y_validation_kf)\n",
        "\n",
        "print(\"El promedio de los scores que obtuve fue \", acum_rf/n_splits)\n",
        "    # desde aqui estamos trabajando con una division train-validation en particular\n",
        "    # es decir, por ejemplo, que train_index nos da todos los indices que componen a\n",
        "    # los folds que se usaran para entrenar el modelo en esta division. Usamos estos\n",
        "    # indices para obtener los X_train_kf y los y_train_kf. Lo mismo sucede con los\n",
        "    # indices usados para el fold de validación en esta division. Si se desea ver\n",
        "    # como cambian los indices en cada iteracion, hacer un print(validation_index)"
      ]
    },
    {
      "cell_type": "code",
      "execution_count": null,
      "metadata": {
        "colab": {
          "background_save": true,
          "base_uri": "https://localhost:8080/",
          "height": 279
        },
        "id": "EJX-dICpMYTS",
        "outputId": "68dbabd4-f5c9-4032-e978-ffc84edb1d6f"
      },
      "outputs": [
        {
          "data": {
            "image/png": "[encoded data removed]",
            "text/plain": [
              "<Figure size 432x288 with 2 Axes>"
            ]
          },
          "metadata": {},
          "output_type": "display_data"
        }
      ],
      "source": [
        "#Matriz de confusion para SVM con las optimizaciones realizadas.\n",
        "plot_confusion_matrix(clf_rf_grid, X_test_norm, y_test,\n",
        "                      display_labels=df_voice['label'],\n",
        "                      cmap=plt.cm.Blues)\n",
        "plt.show()"
      ]
    },
    {
      "cell_type": "code",
      "execution_count": null,
      "metadata": {
        "colab": {
          "background_save": true,
          "base_uri": "https://localhost:8080/"
        },
        "id": "JWyjVU-WF-dX",
        "outputId": "45a4af88-21be-4753-ef40-279c6d16c7b9"
      },
      "outputs": [
        {
          "name": "stdout",
          "output_type": "stream",
          "text": [
            "Collecting scikit-plot\n",
            "  Downloading https://files.pythonhosted.org/packages/7c/47/32520e259340c140a4ad27c1b97050dd3254fdc517b1d59974d47037510e/scikit_plot-0.3.7-py3-none-any.whl\n",
            "Requirement already satisfied: scikit-learn>=0.18 in /usr/local/lib/python3.7/dist-packages (from scikit-plot) (0.22.2.post1)\n",
            "Requirement already satisfied: scipy>=0.9 in /usr/local/lib/python3.7/dist-packages (from scikit-plot) (1.4.1)\n",
            "Requirement already satisfied: matplotlib>=1.4.0 in /usr/local/lib/python3.7/dist-packages (from scikit-plot) (3.2.2)\n",
            "Requirement already satisfied: joblib>=0.10 in /usr/local/lib/python3.7/dist-packages (from scikit-plot) (1.0.1)\n",
            "Requirement already satisfied: numpy>=1.11.0 in /usr/local/lib/python3.7/dist-packages (from scikit-learn>=0.18->scikit-plot) (1.19.5)\n",
            "Requirement already satisfied: python-dateutil>=2.1 in /usr/local/lib/python3.7/dist-packages (from matplotlib>=1.4.0->scikit-plot) (2.8.1)\n",
            "Requirement already satisfied: kiwisolver>=1.0.1 in /usr/local/lib/python3.7/dist-packages (from matplotlib>=1.4.0->scikit-plot) (1.3.1)\n",
            "Requirement already satisfied: pyparsing!=2.0.4,!=2.1.2,!=2.1.6,>=2.0.1 in /usr/local/lib/python3.7/dist-packages (from matplotlib>=1.4.0->scikit-plot) (2.4.7)\n",
            "Requirement already satisfied: cycler>=0.10 in /usr/local/lib/python3.7/dist-packages (from matplotlib>=1.4.0->scikit-plot) (0.10.0)\n",
            "Requirement already satisfied: six>=1.5 in /usr/local/lib/python3.7/dist-packages (from python-dateutil>=2.1->matplotlib>=1.4.0->scikit-plot) (1.15.0)\n",
            "Installing collected packages: scikit-plot\n",
            "Successfully installed scikit-plot-0.3.7\n"
          ]
        }
      ],
      "source": [
        "!pip install scikit-plot"
      ]
    },
    {
      "cell_type": "code",
      "execution_count": null,
      "metadata": {
        "colab": {
          "background_save": true,
          "base_uri": "https://localhost:8080/",
          "height": 295
        },
        "id": "9wLBYdEbMvQQ",
        "outputId": "6b3ffdff-67d2-4db4-e0a2-997bc8e6e312"
      },
      "outputs": [
        {
          "data": {
            "image/png": "[encoded data removed]",
            "text/plain": [
              "<Figure size 432x288 with 1 Axes>"
            ]
          },
          "metadata": {},
          "output_type": "display_data"
        }
      ],
      "source": [
        "import scikitplot as skplt\n",
        "\n",
        "y_hat_probas = clf_rf_grid.predict_proba(X_test_norm)\n",
        "\n",
        "# predicted probabilities generated by sklearn classifier\n",
        "# Notar que micro-average ROC curve es el promedio de las áreas de las curvas ROC, \n",
        "# mientras que macro-average ROC curve es el mismo promedio pero ponderado por la \n",
        "# cantidad de observaciones de cada clase.\n",
        "skplt.metrics.plot_roc(y_test, y_hat_probas, plot_micro=False, plot_macro=False)\n",
        "plt.show()"
      ]
    },
    {
      "cell_type": "markdown",
      "metadata": {
        "id": "TdBW2ymFJBKT"
      },
      "source": [
        "Procedo con la validacion de K-Folds - SVM\n"
      ]
    },
    {
      "cell_type": "code",
      "execution_count": null,
      "metadata": {
        "colab": {
          "background_save": true,
          "base_uri": "https://localhost:8080/"
        },
        "id": "S5PhyHsqJJBh",
        "outputId": "098e3708-0d69-44f0-b03e-8d2b62b97601"
      },
      "outputs": [
        {
          "name": "stdout",
          "output_type": "stream",
          "text": [
            "Porcentaje de acierto para Fold 1 : 0.9723865877712031\n",
            "Porcentaje de acierto para Fold 2 : 0.9921104536489151\n",
            "Porcentaje de acierto para Fold 3 : 0.980276134122288\n",
            "Porcentaje de acierto para Fold 4 : 0.9644970414201184\n",
            "Porcentaje de acierto para Fold 5 : 0.9703557312252964\n",
            "El promedio de los scores que obtuve fue  0.9759251896375641\n"
          ]
        }
      ],
      "source": [
        "##############PLANTILLA SACADA DEL NOTEBOOK DE LA CLASE EN GITHUB\n",
        "####https://github.com/inteligenciafrvm/inteligenciafrvm/blob/master/Clases%20pr%C3%A1cticas/3.%20Intro%20al%20aprendizaje%20supervisado%20(clasificaci%C3%B3n%20I).ipynb\n",
        "# Plantilla inicial de ejemplo para KFolds\n",
        "\n",
        "from sklearn.model_selection import KFold\n",
        "\n",
        "\n",
        "count = 0\n",
        "# n_splits es el numero de divisiones\n",
        "n_splits = 5 #Uso 5 porque es el minimo recomendado, tambien podria usar 10, pero con 5 es suficiente\n",
        "acum = 0\n",
        "kf = KFold(n_splits=n_splits, shuffle=True,random_state=40)\n",
        "\n",
        "# El siguiente for nos abstrae de tener que manejar explicitamente los subindices de los folds, \n",
        "# al dividir el conjunto de entrenamiento iterativamente. En cada una de sus iteraciones\n",
        "# obtenemos los subindices de todos los folds de entrenamiento y del fold de validacion de una\n",
        "# division en particular, de modo tal que todos los k folds sean al menos una vez usados para \n",
        "# entrenar el modelo\n",
        "for train_index, validation_index in kf.split(X_train):\n",
        "    X_train_kf, X_validation_kf = X_train_norm[train_index], X_train_norm[validation_index]\n",
        "    y_train_kf, y_validation_kf = y_train[train_index], y_train[validation_index]\n",
        "    \n",
        "    count +=1\n",
        "    #y_forest_hat_norm = clf2_random_f_norm.predict(X_validation_kf)\n",
        "\n",
        "    print('Porcentaje de acierto para Fold', count, ':', clf_svm_grid.score(X_validation_kf,y_validation_kf))\n",
        "    \n",
        "    acum +=clf_svm_grid.score(X_validation_kf,y_validation_kf)\n",
        "\n",
        "print(\"El promedio de los scores que obtuve fue \", acum/n_splits)\n",
        "    # desde aqui estamos trabajando con una division train-validation en particular\n",
        "    # es decir, por ejemplo, que train_index nos da todos los indices que componen a\n",
        "    # los folds que se usaran para entrenar el modelo en esta division. Usamos estos\n",
        "    # indices para obtener los X_train_kf y los y_train_kf. Lo mismo sucede con los\n",
        "    # indices usados para el fold de validación en esta division. Si se desea ver\n",
        "    # como cambian los indices en cada iteracion, hacer un print(validation_index)"
      ]
    },
    {
      "cell_type": "markdown",
      "metadata": {
        "id": "GzWvAHQxOJJR"
      },
      "source": [
        "Hasta los resultados que se obtuvieron anteriormente, tengo diferentes pasos antes que se van acumulando para mejorar la perfomance, en donde, primero normalice los datos (SantandarScaler) y probe, luego realicé la optimizacion de hiperparametros con busqueda en grilla y hasta llegar a k fold con 5 folds diferentes para poder validar y se logro una perfomance en promedio de 98,5% en Support Vector Machine.\n",
        "Se nota bastante la diferencia a la hora realizar algun tipo de procesado al dataset en el caso de SVM"
      ]
    },
    {
      "cell_type": "code",
      "execution_count": null,
      "metadata": {
        "colab": {
          "background_save": true,
          "base_uri": "https://localhost:8080/",
          "height": 279
        },
        "id": "1ir6kyM3OIkt",
        "outputId": "292bab76-fdde-4f48-b895-1f83851ddca2"
      },
      "outputs": [
        {
          "data": {
            "image/png": "[encoded data removed]",
            "text/plain": [
              "<Figure size 432x288 with 2 Axes>"
            ]
          },
          "metadata": {},
          "output_type": "display_data"
        }
      ],
      "source": [
        "#Matriz de confusion para SVM con las optimizaciones realizadas.\n",
        "plot_confusion_matrix(clf_svm_grid, X_test_norm, y_test,\n",
        "                      display_labels=df_voice['label'],\n",
        "                      cmap=plt.cm.Blues)\n",
        "plt.show()"
      ]
    },
    {
      "cell_type": "markdown",
      "metadata": {
        "id": "hqvR8UlgROTy"
      },
      "source": [
        "Realización de curva ROC para poder tener mayor infomación si el clasificador funciona correctamente"
      ]
    },
    {
      "cell_type": "code",
      "execution_count": null,
      "metadata": {
        "colab": {
          "background_save": true,
          "base_uri": "https://localhost:8080/"
        },
        "id": "JDKOJ3WqRNvq",
        "outputId": "2adead17-f4d0-4e69-a333-d3fd95456135"
      },
      "outputs": [
        {
          "name": "stdout",
          "output_type": "stream",
          "text": [
            "Requirement already satisfied: scikit-plot in /usr/local/lib/python3.7/dist-packages (0.3.7)\n",
            "Requirement already satisfied: scipy>=0.9 in /usr/local/lib/python3.7/dist-packages (from scikit-plot) (1.4.1)\n",
            "Requirement already satisfied: matplotlib>=1.4.0 in /usr/local/lib/python3.7/dist-packages (from scikit-plot) (3.2.2)\n",
            "Requirement already satisfied: joblib>=0.10 in /usr/local/lib/python3.7/dist-packages (from scikit-plot) (1.0.1)\n",
            "Requirement already satisfied: scikit-learn>=0.18 in /usr/local/lib/python3.7/dist-packages (from scikit-plot) (0.22.2.post1)\n",
            "Requirement already satisfied: numpy>=1.13.3 in /usr/local/lib/python3.7/dist-packages (from scipy>=0.9->scikit-plot) (1.19.5)\n",
            "Requirement already satisfied: python-dateutil>=2.1 in /usr/local/lib/python3.7/dist-packages (from matplotlib>=1.4.0->scikit-plot) (2.8.1)\n",
            "Requirement already satisfied: kiwisolver>=1.0.1 in /usr/local/lib/python3.7/dist-packages (from matplotlib>=1.4.0->scikit-plot) (1.3.1)\n",
            "Requirement already satisfied: cycler>=0.10 in /usr/local/lib/python3.7/dist-packages (from matplotlib>=1.4.0->scikit-plot) (0.10.0)\n",
            "Requirement already satisfied: pyparsing!=2.0.4,!=2.1.2,!=2.1.6,>=2.0.1 in /usr/local/lib/python3.7/dist-packages (from matplotlib>=1.4.0->scikit-plot) (2.4.7)\n",
            "Requirement already satisfied: six>=1.5 in /usr/local/lib/python3.7/dist-packages (from python-dateutil>=2.1->matplotlib>=1.4.0->scikit-plot) (1.15.0)\n"
          ]
        }
      ],
      "source": [
        "!pip install scikit-plot"
      ]
    },
    {
      "cell_type": "code",
      "execution_count": null,
      "metadata": {
        "colab": {
          "background_save": true,
          "base_uri": "https://localhost:8080/",
          "height": 295
        },
        "id": "59OSHAu0RZvM",
        "outputId": "d5c2378e-09b2-4fba-8738-451392cb09ec"
      },
      "outputs": [
        {
          "data": {
            "image/png": "[encoded data removed]",
            "text/plain": [
              "<Figure size 432x288 with 1 Axes>"
            ]
          },
          "metadata": {},
          "output_type": "display_data"
        }
      ],
      "source": [
        "import scikitplot as skplt\n",
        "\n",
        "y_hat_probas = clf_svm_grid.predict_proba(X_test_norm)\n",
        "\n",
        "# predicted probabilities generated by sklearn classifier\n",
        "# Notar que micro-average ROC curve es el promedio de las áreas de las curvas ROC, \n",
        "# mientras que macro-average ROC curve es el mismo promedio pero ponderado por la \n",
        "# cantidad de observaciones de cada clase.\n",
        "skplt.metrics.plot_roc(y_test, y_hat_probas, plot_micro=False, plot_macro=False)\n",
        "plt.show()"
      ]
    },
    {
      "cell_type": "markdown",
      "metadata": {
        "id": "aWGx6eyiTAnt"
      },
      "source": [
        "Realice la curva roc para tener mucha mas informacion acerca de lo que realizaba el clasificador, porque pense que estaba overfiteando los datos. Pero al ver esta curva, me quedo claro que no. ya que llega a la linea verde pero no de manera inmediata, sino de manera escalonada."
      ]
    },
    {
      "cell_type": "markdown",
      "metadata": {
        "id": "vOwbsCbtq2hy"
      },
      "source": [
        "# Realizare una implementacion completa con otro dataset para afianzar conocimientos\n"
      ]
    },
    {
      "cell_type": "code",
      "execution_count": null,
      "metadata": {
        "colab": {
          "background_save": true,
          "base_uri": "https://localhost:8080/"
        },
        "id": "z9Mt75xVrCYB",
        "outputId": "d755a77e-2c73-45bf-9f05-f0ce6f223646"
      },
      "outputs": [
        {
          "name": "stdout",
          "output_type": "stream",
          "text": [
            "--2021-05-28 13:20:42--  https://docs.google.com/uc?export=download&id=15AfzxVn8IWiBOK_-ZkYu_Y56zSOka58-\n",
            "Resolving docs.google.com (docs.google.com)... 142.250.157.138, 142.250.157.101, 142.250.157.100, ...\n",
            "Connecting to docs.google.com (docs.google.com)|142.250.157.138|:443... connected.\n",
            "HTTP request sent, awaiting response... 302 Moved Temporarily\n",
            "Location: https://doc-0c-94-docs.googleusercontent.com/docs/securesc/ha0ro937gcuc7l7deffksulhg5h7mbp1/l4vukotmv6sjljup09b6j20cn66kv4ct/1622208000000/13582079848658458518/*/15AfzxVn8IWiBOK_-ZkYu_Y56zSOka58-?e=download [following]\n",
            "Warning: wildcards not supported in HTTP.\n",
            "--2021-05-28 13:20:43--  https://doc-0c-94-docs.googleusercontent.com/docs/securesc/ha0ro937gcuc7l7deffksulhg5h7mbp1/l4vukotmv6sjljup09b6j20cn66kv4ct/1622208000000/13582079848658458518/*/15AfzxVn8IWiBOK_-ZkYu_Y56zSOka58-?e=download\n",
            "Resolving doc-0c-94-docs.googleusercontent.com (doc-0c-94-docs.googleusercontent.com)... 74.125.204.132, 2404:6800:4008:c04::84\n",
            "Connecting to doc-0c-94-docs.googleusercontent.com (doc-0c-94-docs.googleusercontent.com)|74.125.204.132|:443... connected.\n",
            "HTTP request sent, awaiting response... 200 OK\n",
            "Length: 70146 (69K) [text/csv]\n",
            "Saving to: ‘autism.csv’\n",
            "\n",
            "autism.csv          100%[===================>]  68.50K  --.-KB/s    in 0.001s  \n",
            "\n",
            "2021-05-28 13:20:43 (88.3 MB/s) - ‘autism.csv’ saved [70146/70146]\n",
            "\n"
          ]
        }
      ],
      "source": [
        "#El dataset elegido es el de Desorden del especto autista https://www.kaggle.com/faizunnabi/autism-screening\n",
        "!wget --no-check-certificate 'https://docs.google.com/uc?export=download&id=15AfzxVn8IWiBOK_-ZkYu_Y56zSOka58-' -O \"autism.csv\""
      ]
    },
    {
      "cell_type": "code",
      "execution_count": null,
      "metadata": {
        "colab": {
          "background_save": true
        },
        "id": "Vt4sxcOCrX3s"
      },
      "outputs": [],
      "source": [
        "df_autism = pd.read_csv('autism.csv')"
      ]
    },
    {
      "cell_type": "code",
      "execution_count": null,
      "metadata": {
        "colab": {
          "background_save": true,
          "base_uri": "https://localhost:8080/"
        },
        "id": "Qv2q9ZywrdLx",
        "outputId": "5013bab3-d707-407f-b25f-feaa84f1d92f"
      },
      "outputs": [
        {
          "name": "stdout",
          "output_type": "stream",
          "text": [
            "      Case_No  A1  ...  Who completed the test  Class/ASD Traits \n",
            "0           1   0  ...           family member                 No\n",
            "1           2   1  ...           family member                Yes\n",
            "2           3   1  ...           family member                Yes\n",
            "3           4   1  ...           family member                Yes\n",
            "4           5   1  ...           family member                Yes\n",
            "...       ...  ..  ...                     ...                ...\n",
            "1049     1050   0  ...           family member                 No\n",
            "1050     1051   0  ...           family member                Yes\n",
            "1051     1052   1  ...           family member                Yes\n",
            "1052     1053   1  ...           family member                 No\n",
            "1053     1054   1  ...           family member                Yes\n",
            "\n",
            "[1054 rows x 19 columns]\n"
          ]
        }
      ],
      "source": [
        "print(df_autism)"
      ]
    },
    {
      "cell_type": "code",
      "execution_count": null,
      "metadata": {
        "colab": {
          "background_save": true,
          "base_uri": "https://localhost:8080/",
          "height": 204
        },
        "id": "DhU8wz-PrhoD",
        "outputId": "55576bd0-5b72-4666-a847-2c2f1d1b6eca"
      },
      "outputs": [
        {
          "data": {
            "text/html": [
              "<div>\n",
              "<style scoped>\n",
              "    .dataframe tbody tr th:only-of-type {\n",
              "        vertical-align: middle;\n",
              "    }\n",
              "\n",
              "    .dataframe tbody tr th {\n",
              "        vertical-align: top;\n",
              "    }\n",
              "\n",
              "    .dataframe thead th {\n",
              "        text-align: right;\n",
              "    }\n",
              "</style>\n",
              "<table border=\"1\" class=\"dataframe\">\n",
              "  <thead>\n",
              "    <tr style=\"text-align: right;\">\n",
              "      <th></th>\n",
              "      <th>Case_No</th>\n",
              "      <th>A1</th>\n",
              "      <th>A2</th>\n",
              "      <th>A3</th>\n",
              "      <th>A4</th>\n",
              "      <th>A5</th>\n",
              "      <th>A6</th>\n",
              "      <th>A7</th>\n",
              "      <th>A8</th>\n",
              "      <th>A9</th>\n",
              "      <th>A10</th>\n",
              "      <th>Age_Mons</th>\n",
              "      <th>Qchat-10-Score</th>\n",
              "      <th>Sex</th>\n",
              "      <th>Ethnicity</th>\n",
              "      <th>Jaundice</th>\n",
              "      <th>Family_mem_with_ASD</th>\n",
              "      <th>Who completed the test</th>\n",
              "      <th>Class/ASD Traits</th>\n",
              "    </tr>\n",
              "  </thead>\n",
              "  <tbody>\n",
              "    <tr>\n",
              "      <th>0</th>\n",
              "      <td>1</td>\n",
              "      <td>0</td>\n",
              "      <td>0</td>\n",
              "      <td>0</td>\n",
              "      <td>0</td>\n",
              "      <td>0</td>\n",
              "      <td>0</td>\n",
              "      <td>1</td>\n",
              "      <td>1</td>\n",
              "      <td>0</td>\n",
              "      <td>1</td>\n",
              "      <td>28</td>\n",
              "      <td>3</td>\n",
              "      <td>f</td>\n",
              "      <td>middle eastern</td>\n",
              "      <td>yes</td>\n",
              "      <td>no</td>\n",
              "      <td>family member</td>\n",
              "      <td>No</td>\n",
              "    </tr>\n",
              "    <tr>\n",
              "      <th>1</th>\n",
              "      <td>2</td>\n",
              "      <td>1</td>\n",
              "      <td>1</td>\n",
              "      <td>0</td>\n",
              "      <td>0</td>\n",
              "      <td>0</td>\n",
              "      <td>1</td>\n",
              "      <td>1</td>\n",
              "      <td>0</td>\n",
              "      <td>0</td>\n",
              "      <td>0</td>\n",
              "      <td>36</td>\n",
              "      <td>4</td>\n",
              "      <td>m</td>\n",
              "      <td>White European</td>\n",
              "      <td>yes</td>\n",
              "      <td>no</td>\n",
              "      <td>family member</td>\n",
              "      <td>Yes</td>\n",
              "    </tr>\n",
              "    <tr>\n",
              "      <th>2</th>\n",
              "      <td>3</td>\n",
              "      <td>1</td>\n",
              "      <td>0</td>\n",
              "      <td>0</td>\n",
              "      <td>0</td>\n",
              "      <td>0</td>\n",
              "      <td>0</td>\n",
              "      <td>1</td>\n",
              "      <td>1</td>\n",
              "      <td>0</td>\n",
              "      <td>1</td>\n",
              "      <td>36</td>\n",
              "      <td>4</td>\n",
              "      <td>m</td>\n",
              "      <td>middle eastern</td>\n",
              "      <td>yes</td>\n",
              "      <td>no</td>\n",
              "      <td>family member</td>\n",
              "      <td>Yes</td>\n",
              "    </tr>\n",
              "    <tr>\n",
              "      <th>3</th>\n",
              "      <td>4</td>\n",
              "      <td>1</td>\n",
              "      <td>1</td>\n",
              "      <td>1</td>\n",
              "      <td>1</td>\n",
              "      <td>1</td>\n",
              "      <td>1</td>\n",
              "      <td>1</td>\n",
              "      <td>1</td>\n",
              "      <td>1</td>\n",
              "      <td>1</td>\n",
              "      <td>24</td>\n",
              "      <td>10</td>\n",
              "      <td>m</td>\n",
              "      <td>Hispanic</td>\n",
              "      <td>no</td>\n",
              "      <td>no</td>\n",
              "      <td>family member</td>\n",
              "      <td>Yes</td>\n",
              "    </tr>\n",
              "    <tr>\n",
              "      <th>4</th>\n",
              "      <td>5</td>\n",
              "      <td>1</td>\n",
              "      <td>1</td>\n",
              "      <td>0</td>\n",
              "      <td>1</td>\n",
              "      <td>1</td>\n",
              "      <td>1</td>\n",
              "      <td>1</td>\n",
              "      <td>1</td>\n",
              "      <td>1</td>\n",
              "      <td>1</td>\n",
              "      <td>20</td>\n",
              "      <td>9</td>\n",
              "      <td>f</td>\n",
              "      <td>White European</td>\n",
              "      <td>no</td>\n",
              "      <td>yes</td>\n",
              "      <td>family member</td>\n",
              "      <td>Yes</td>\n",
              "    </tr>\n",
              "  </tbody>\n",
              "</table>\n",
              "</div>"
            ],
            "text/plain": [
              "   Case_No  A1  A2  ...  Family_mem_with_ASD  Who completed the test  Class/ASD Traits \n",
              "0        1   0   0  ...                   no           family member                 No\n",
              "1        2   1   1  ...                   no           family member                Yes\n",
              "2        3   1   0  ...                   no           family member                Yes\n",
              "3        4   1   1  ...                   no           family member                Yes\n",
              "4        5   1   1  ...                  yes           family member                Yes\n",
              "\n",
              "[5 rows x 19 columns]"
            ]
          },
          "execution_count": null,
          "metadata": {},
          "output_type": "execute_result"
        }
      ],
      "source": [
        "df_autism.head()"
      ]
    },
    {
      "cell_type": "code",
      "execution_count": null,
      "metadata": {
        "colab": {
          "background_save": true,
          "base_uri": "https://localhost:8080/",
          "height": 419
        },
        "id": "OEVhrBaOsYJ9",
        "outputId": "ed989099-9f3d-4f57-aac0-a844908db63d"
      },
      "outputs": [
        {
          "data": {
            "text/html": [
              "<div>\n",
              "<style scoped>\n",
              "    .dataframe tbody tr th:only-of-type {\n",
              "        vertical-align: middle;\n",
              "    }\n",
              "\n",
              "    .dataframe tbody tr th {\n",
              "        vertical-align: top;\n",
              "    }\n",
              "\n",
              "    .dataframe thead th {\n",
              "        text-align: right;\n",
              "    }\n",
              "</style>\n",
              "<table border=\"1\" class=\"dataframe\">\n",
              "  <thead>\n",
              "    <tr style=\"text-align: right;\">\n",
              "      <th></th>\n",
              "      <th>Case_No</th>\n",
              "      <th>A1</th>\n",
              "      <th>A2</th>\n",
              "      <th>A3</th>\n",
              "      <th>A4</th>\n",
              "      <th>A5</th>\n",
              "      <th>A6</th>\n",
              "      <th>A7</th>\n",
              "      <th>A8</th>\n",
              "      <th>A9</th>\n",
              "      <th>A10</th>\n",
              "      <th>Age_Mons</th>\n",
              "      <th>Qchat-10-Score</th>\n",
              "      <th>Sex</th>\n",
              "      <th>Ethnicity</th>\n",
              "      <th>Jaundice</th>\n",
              "      <th>Family_mem_with_ASD</th>\n",
              "      <th>Who completed the test</th>\n",
              "      <th>Class/ASD Traits</th>\n",
              "    </tr>\n",
              "  </thead>\n",
              "  <tbody>\n",
              "    <tr>\n",
              "      <th>0</th>\n",
              "      <td>1</td>\n",
              "      <td>0</td>\n",
              "      <td>0</td>\n",
              "      <td>0</td>\n",
              "      <td>0</td>\n",
              "      <td>0</td>\n",
              "      <td>0</td>\n",
              "      <td>1</td>\n",
              "      <td>1</td>\n",
              "      <td>0</td>\n",
              "      <td>1</td>\n",
              "      <td>28</td>\n",
              "      <td>3</td>\n",
              "      <td>f</td>\n",
              "      <td>middle eastern</td>\n",
              "      <td>yes</td>\n",
              "      <td>no</td>\n",
              "      <td>family member</td>\n",
              "      <td>No</td>\n",
              "    </tr>\n",
              "    <tr>\n",
              "      <th>1</th>\n",
              "      <td>2</td>\n",
              "      <td>1</td>\n",
              "      <td>1</td>\n",
              "      <td>0</td>\n",
              "      <td>0</td>\n",
              "      <td>0</td>\n",
              "      <td>1</td>\n",
              "      <td>1</td>\n",
              "      <td>0</td>\n",
              "      <td>0</td>\n",
              "      <td>0</td>\n",
              "      <td>36</td>\n",
              "      <td>4</td>\n",
              "      <td>m</td>\n",
              "      <td>White European</td>\n",
              "      <td>yes</td>\n",
              "      <td>no</td>\n",
              "      <td>family member</td>\n",
              "      <td>Yes</td>\n",
              "    </tr>\n",
              "    <tr>\n",
              "      <th>2</th>\n",
              "      <td>3</td>\n",
              "      <td>1</td>\n",
              "      <td>0</td>\n",
              "      <td>0</td>\n",
              "      <td>0</td>\n",
              "      <td>0</td>\n",
              "      <td>0</td>\n",
              "      <td>1</td>\n",
              "      <td>1</td>\n",
              "      <td>0</td>\n",
              "      <td>1</td>\n",
              "      <td>36</td>\n",
              "      <td>4</td>\n",
              "      <td>m</td>\n",
              "      <td>middle eastern</td>\n",
              "      <td>yes</td>\n",
              "      <td>no</td>\n",
              "      <td>family member</td>\n",
              "      <td>Yes</td>\n",
              "    </tr>\n",
              "    <tr>\n",
              "      <th>3</th>\n",
              "      <td>4</td>\n",
              "      <td>1</td>\n",
              "      <td>1</td>\n",
              "      <td>1</td>\n",
              "      <td>1</td>\n",
              "      <td>1</td>\n",
              "      <td>1</td>\n",
              "      <td>1</td>\n",
              "      <td>1</td>\n",
              "      <td>1</td>\n",
              "      <td>1</td>\n",
              "      <td>24</td>\n",
              "      <td>10</td>\n",
              "      <td>m</td>\n",
              "      <td>Hispanic</td>\n",
              "      <td>no</td>\n",
              "      <td>no</td>\n",
              "      <td>family member</td>\n",
              "      <td>Yes</td>\n",
              "    </tr>\n",
              "    <tr>\n",
              "      <th>4</th>\n",
              "      <td>5</td>\n",
              "      <td>1</td>\n",
              "      <td>1</td>\n",
              "      <td>0</td>\n",
              "      <td>1</td>\n",
              "      <td>1</td>\n",
              "      <td>1</td>\n",
              "      <td>1</td>\n",
              "      <td>1</td>\n",
              "      <td>1</td>\n",
              "      <td>1</td>\n",
              "      <td>20</td>\n",
              "      <td>9</td>\n",
              "      <td>f</td>\n",
              "      <td>White European</td>\n",
              "      <td>no</td>\n",
              "      <td>yes</td>\n",
              "      <td>family member</td>\n",
              "      <td>Yes</td>\n",
              "    </tr>\n",
              "    <tr>\n",
              "      <th>...</th>\n",
              "      <td>...</td>\n",
              "      <td>...</td>\n",
              "      <td>...</td>\n",
              "      <td>...</td>\n",
              "      <td>...</td>\n",
              "      <td>...</td>\n",
              "      <td>...</td>\n",
              "      <td>...</td>\n",
              "      <td>...</td>\n",
              "      <td>...</td>\n",
              "      <td>...</td>\n",
              "      <td>...</td>\n",
              "      <td>...</td>\n",
              "      <td>...</td>\n",
              "      <td>...</td>\n",
              "      <td>...</td>\n",
              "      <td>...</td>\n",
              "      <td>...</td>\n",
              "      <td>...</td>\n",
              "    </tr>\n",
              "    <tr>\n",
              "      <th>1049</th>\n",
              "      <td>1050</td>\n",
              "      <td>0</td>\n",
              "      <td>0</td>\n",
              "      <td>0</td>\n",
              "      <td>0</td>\n",
              "      <td>0</td>\n",
              "      <td>0</td>\n",
              "      <td>0</td>\n",
              "      <td>0</td>\n",
              "      <td>0</td>\n",
              "      <td>1</td>\n",
              "      <td>24</td>\n",
              "      <td>1</td>\n",
              "      <td>f</td>\n",
              "      <td>White European</td>\n",
              "      <td>no</td>\n",
              "      <td>yes</td>\n",
              "      <td>family member</td>\n",
              "      <td>No</td>\n",
              "    </tr>\n",
              "    <tr>\n",
              "      <th>1050</th>\n",
              "      <td>1051</td>\n",
              "      <td>0</td>\n",
              "      <td>0</td>\n",
              "      <td>1</td>\n",
              "      <td>1</td>\n",
              "      <td>1</td>\n",
              "      <td>0</td>\n",
              "      <td>1</td>\n",
              "      <td>0</td>\n",
              "      <td>1</td>\n",
              "      <td>0</td>\n",
              "      <td>12</td>\n",
              "      <td>5</td>\n",
              "      <td>m</td>\n",
              "      <td>black</td>\n",
              "      <td>yes</td>\n",
              "      <td>no</td>\n",
              "      <td>family member</td>\n",
              "      <td>Yes</td>\n",
              "    </tr>\n",
              "    <tr>\n",
              "      <th>1051</th>\n",
              "      <td>1052</td>\n",
              "      <td>1</td>\n",
              "      <td>0</td>\n",
              "      <td>1</td>\n",
              "      <td>1</td>\n",
              "      <td>1</td>\n",
              "      <td>1</td>\n",
              "      <td>1</td>\n",
              "      <td>1</td>\n",
              "      <td>1</td>\n",
              "      <td>1</td>\n",
              "      <td>18</td>\n",
              "      <td>9</td>\n",
              "      <td>m</td>\n",
              "      <td>middle eastern</td>\n",
              "      <td>yes</td>\n",
              "      <td>no</td>\n",
              "      <td>family member</td>\n",
              "      <td>Yes</td>\n",
              "    </tr>\n",
              "    <tr>\n",
              "      <th>1052</th>\n",
              "      <td>1053</td>\n",
              "      <td>1</td>\n",
              "      <td>0</td>\n",
              "      <td>0</td>\n",
              "      <td>0</td>\n",
              "      <td>0</td>\n",
              "      <td>0</td>\n",
              "      <td>0</td>\n",
              "      <td>1</td>\n",
              "      <td>0</td>\n",
              "      <td>1</td>\n",
              "      <td>19</td>\n",
              "      <td>3</td>\n",
              "      <td>m</td>\n",
              "      <td>White European</td>\n",
              "      <td>no</td>\n",
              "      <td>yes</td>\n",
              "      <td>family member</td>\n",
              "      <td>No</td>\n",
              "    </tr>\n",
              "    <tr>\n",
              "      <th>1053</th>\n",
              "      <td>1054</td>\n",
              "      <td>1</td>\n",
              "      <td>1</td>\n",
              "      <td>0</td>\n",
              "      <td>0</td>\n",
              "      <td>1</td>\n",
              "      <td>1</td>\n",
              "      <td>0</td>\n",
              "      <td>1</td>\n",
              "      <td>1</td>\n",
              "      <td>0</td>\n",
              "      <td>24</td>\n",
              "      <td>6</td>\n",
              "      <td>m</td>\n",
              "      <td>asian</td>\n",
              "      <td>yes</td>\n",
              "      <td>yes</td>\n",
              "      <td>family member</td>\n",
              "      <td>Yes</td>\n",
              "    </tr>\n",
              "  </tbody>\n",
              "</table>\n",
              "<p>1054 rows × 19 columns</p>\n",
              "</div>"
            ],
            "text/plain": [
              "      Case_No  A1  ...  Who completed the test  Class/ASD Traits \n",
              "0           1   0  ...           family member                 No\n",
              "1           2   1  ...           family member                Yes\n",
              "2           3   1  ...           family member                Yes\n",
              "3           4   1  ...           family member                Yes\n",
              "4           5   1  ...           family member                Yes\n",
              "...       ...  ..  ...                     ...                ...\n",
              "1049     1050   0  ...           family member                 No\n",
              "1050     1051   0  ...           family member                Yes\n",
              "1051     1052   1  ...           family member                Yes\n",
              "1052     1053   1  ...           family member                 No\n",
              "1053     1054   1  ...           family member                Yes\n",
              "\n",
              "[1054 rows x 19 columns]"
            ]
          },
          "execution_count": null,
          "metadata": {},
          "output_type": "execute_result"
        }
      ],
      "source": [
        "df_autism.dropna()"
      ]
    },
    {
      "cell_type": "code",
      "execution_count": null,
      "metadata": {
        "colab": {
          "background_save": true,
          "base_uri": "https://localhost:8080/"
        },
        "id": "FxSTWrput9W1",
        "outputId": "c8e0554b-5199-4f30-af67-a9ae647871f2"
      },
      "outputs": [
        {
          "name": "stdout",
          "output_type": "stream",
          "text": [
            "LabelEncoder()\n",
            "0        No\n",
            "1       Yes\n",
            "2       Yes\n",
            "3       Yes\n",
            "4       Yes\n",
            "       ... \n",
            "1049     No\n",
            "1050    Yes\n",
            "1051    Yes\n",
            "1052     No\n",
            "1053    Yes\n",
            "Name: Class/ASD Traits , Length: 1054, dtype: object\n",
            "0       0\n",
            "1       1\n",
            "2       1\n",
            "3       1\n",
            "4       1\n",
            "       ..\n",
            "1049    0\n",
            "1050    1\n",
            "1051    1\n",
            "1052    0\n",
            "1053    1\n",
            "Name: Class/ASD Traits , Length: 1054, dtype: int64\n"
          ]
        }
      ],
      "source": [
        "from sklearn import preprocessing\n",
        "label_encoder = preprocessing.LabelEncoder()\n",
        "labels_fit = label_encoder.fit(df_autism['Class/ASD Traits '])\n",
        "print(labels_fit)\n",
        "#label_encoder.transform(df_voice['label'])\n",
        "print(df_autism['Class/ASD Traits '])\n",
        "df_autism['Class/ASD Traits ']=label_encoder.transform(df_autism['Class/ASD Traits '])\n",
        "print(df_autism['Class/ASD Traits '])"
      ]
    },
    {
      "cell_type": "code",
      "execution_count": null,
      "metadata": {
        "colab": {
          "background_save": true,
          "base_uri": "https://localhost:8080/"
        },
        "id": "ViMlX0Bj36Yc",
        "outputId": "d28e1244-08b5-4af5-84ea-2ff9cb2e13a7"
      },
      "outputs": [
        {
          "name": "stdout",
          "output_type": "stream",
          "text": [
            "LabelEncoder()\n",
            "0        no\n",
            "1        no\n",
            "2        no\n",
            "3        no\n",
            "4       yes\n",
            "       ... \n",
            "1049    yes\n",
            "1050     no\n",
            "1051     no\n",
            "1052    yes\n",
            "1053    yes\n",
            "Name: Family_mem_with_ASD, Length: 1054, dtype: object\n",
            "0       0\n",
            "1       0\n",
            "2       0\n",
            "3       0\n",
            "4       1\n",
            "       ..\n",
            "1049    1\n",
            "1050    0\n",
            "1051    0\n",
            "1052    1\n",
            "1053    1\n",
            "Name: Family_mem_with_ASD, Length: 1054, dtype: int64\n"
          ]
        }
      ],
      "source": [
        "label_encoder = preprocessing.LabelEncoder()\n",
        "labels_fit = label_encoder.fit(df_autism['Family_mem_with_ASD'])\n",
        "print(labels_fit)\n",
        "#label_encoder.transform(df_voice['label'])\n",
        "print(df_autism['Family_mem_with_ASD'])\n",
        "df_autism['Family_mem_with_ASD']=label_encoder.transform(df_autism['Family_mem_with_ASD'])\n",
        "print(df_autism['Family_mem_with_ASD'])"
      ]
    },
    {
      "cell_type": "code",
      "execution_count": null,
      "metadata": {
        "colab": {
          "background_save": true,
          "base_uri": "https://localhost:8080/"
        },
        "id": "6Wyti3ZC4B9k",
        "outputId": "d73b9ab6-1994-47af-a396-dba1fadecfd7"
      },
      "outputs": [
        {
          "name": "stdout",
          "output_type": "stream",
          "text": [
            "LabelEncoder()\n",
            "0       yes\n",
            "1       yes\n",
            "2       yes\n",
            "3        no\n",
            "4        no\n",
            "       ... \n",
            "1049     no\n",
            "1050    yes\n",
            "1051    yes\n",
            "1052     no\n",
            "1053    yes\n",
            "Name: Jaundice, Length: 1054, dtype: object\n",
            "0       1\n",
            "1       1\n",
            "2       1\n",
            "3       0\n",
            "4       0\n",
            "       ..\n",
            "1049    0\n",
            "1050    1\n",
            "1051    1\n",
            "1052    0\n",
            "1053    1\n",
            "Name: Jaundice, Length: 1054, dtype: int64\n"
          ]
        }
      ],
      "source": [
        "label_encoder = preprocessing.LabelEncoder()\n",
        "labels_fit = label_encoder.fit(df_autism['Jaundice'])\n",
        "print(labels_fit)\n",
        "#label_encoder.transform(df_voice['label'])\n",
        "print(df_autism['Jaundice'])\n",
        "df_autism['Jaundice']=label_encoder.transform(df_autism['Jaundice'])\n",
        "print(df_autism['Jaundice'])"
      ]
    },
    {
      "cell_type": "code",
      "execution_count": null,
      "metadata": {
        "colab": {
          "background_save": true,
          "base_uri": "https://localhost:8080/"
        },
        "id": "yC1EGx8O4Qo6",
        "outputId": "6b9cbbe9-affe-4f8d-c100-5dc4f13a0948"
      },
      "outputs": [
        {
          "name": "stdout",
          "output_type": "stream",
          "text": [
            "LabelEncoder()\n",
            "0       f\n",
            "1       m\n",
            "2       m\n",
            "3       m\n",
            "4       f\n",
            "       ..\n",
            "1049    f\n",
            "1050    m\n",
            "1051    m\n",
            "1052    m\n",
            "1053    m\n",
            "Name: Sex, Length: 1054, dtype: object\n",
            "0       0\n",
            "1       1\n",
            "2       1\n",
            "3       1\n",
            "4       0\n",
            "       ..\n",
            "1049    0\n",
            "1050    1\n",
            "1051    1\n",
            "1052    1\n",
            "1053    1\n",
            "Name: Sex, Length: 1054, dtype: int64\n"
          ]
        }
      ],
      "source": [
        "label_encoder = preprocessing.LabelEncoder()\n",
        "labels_fit = label_encoder.fit(df_autism['Sex'])\n",
        "print(labels_fit)\n",
        "#label_encoder.transform(df_voice['label'])\n",
        "print(df_autism['Sex'])\n",
        "df_autism['Sex']=label_encoder.transform(df_autism['Sex'])\n",
        "print(df_autism['Sex'])"
      ]
    },
    {
      "cell_type": "code",
      "execution_count": null,
      "metadata": {
        "colab": {
          "background_save": true,
          "base_uri": "https://localhost:8080/",
          "height": 630
        },
        "id": "k54A00xNvkIO",
        "outputId": "2a98e4ab-21b6-447d-c7b4-b04ac3a85cce"
      },
      "outputs": [
        {
          "data": {
            "text/html": [
              "<div>\n",
              "<style scoped>\n",
              "    .dataframe tbody tr th:only-of-type {\n",
              "        vertical-align: middle;\n",
              "    }\n",
              "\n",
              "    .dataframe tbody tr th {\n",
              "        vertical-align: top;\n",
              "    }\n",
              "\n",
              "    .dataframe thead th {\n",
              "        text-align: right;\n",
              "    }\n",
              "</style>\n",
              "<table border=\"1\" class=\"dataframe\">\n",
              "  <thead>\n",
              "    <tr style=\"text-align: right;\">\n",
              "      <th></th>\n",
              "      <th>Case_No</th>\n",
              "      <th>A1</th>\n",
              "      <th>A2</th>\n",
              "      <th>A3</th>\n",
              "      <th>A4</th>\n",
              "      <th>A5</th>\n",
              "      <th>A6</th>\n",
              "      <th>A7</th>\n",
              "      <th>A8</th>\n",
              "      <th>A9</th>\n",
              "      <th>A10</th>\n",
              "      <th>Age_Mons</th>\n",
              "      <th>Qchat-10-Score</th>\n",
              "      <th>Sex</th>\n",
              "      <th>Jaundice</th>\n",
              "      <th>Family_mem_with_ASD</th>\n",
              "      <th>Class/ASD Traits</th>\n",
              "    </tr>\n",
              "  </thead>\n",
              "  <tbody>\n",
              "    <tr>\n",
              "      <th>Case_No</th>\n",
              "      <td>1.000000</td>\n",
              "      <td>0.050828</td>\n",
              "      <td>-0.002668</td>\n",
              "      <td>0.082087</td>\n",
              "      <td>0.073426</td>\n",
              "      <td>0.055263</td>\n",
              "      <td>0.041315</td>\n",
              "      <td>0.087687</td>\n",
              "      <td>0.023916</td>\n",
              "      <td>0.069870</td>\n",
              "      <td>-0.027257</td>\n",
              "      <td>0.027098</td>\n",
              "      <td>0.077110</td>\n",
              "      <td>0.066949</td>\n",
              "      <td>-0.002757</td>\n",
              "      <td>-0.013243</td>\n",
              "      <td>0.079966</td>\n",
              "    </tr>\n",
              "    <tr>\n",
              "      <th>A1</th>\n",
              "      <td>0.050828</td>\n",
              "      <td>1.000000</td>\n",
              "      <td>0.463227</td>\n",
              "      <td>0.244362</td>\n",
              "      <td>0.247524</td>\n",
              "      <td>0.284808</td>\n",
              "      <td>0.373083</td>\n",
              "      <td>0.332705</td>\n",
              "      <td>0.208197</td>\n",
              "      <td>0.322226</td>\n",
              "      <td>0.130966</td>\n",
              "      <td>0.040508</td>\n",
              "      <td>0.614064</td>\n",
              "      <td>0.111508</td>\n",
              "      <td>-0.005613</td>\n",
              "      <td>0.053020</td>\n",
              "      <td>0.503810</td>\n",
              "    </tr>\n",
              "    <tr>\n",
              "      <th>A2</th>\n",
              "      <td>-0.002668</td>\n",
              "      <td>0.463227</td>\n",
              "      <td>1.000000</td>\n",
              "      <td>0.206927</td>\n",
              "      <td>0.265867</td>\n",
              "      <td>0.259105</td>\n",
              "      <td>0.309461</td>\n",
              "      <td>0.294314</td>\n",
              "      <td>0.251865</td>\n",
              "      <td>0.268784</td>\n",
              "      <td>0.157498</td>\n",
              "      <td>0.037744</td>\n",
              "      <td>0.592424</td>\n",
              "      <td>0.067086</td>\n",
              "      <td>0.046039</td>\n",
              "      <td>0.034800</td>\n",
              "      <td>0.463467</td>\n",
              "    </tr>\n",
              "    <tr>\n",
              "      <th>A3</th>\n",
              "      <td>0.082087</td>\n",
              "      <td>0.244362</td>\n",
              "      <td>0.206927</td>\n",
              "      <td>1.000000</td>\n",
              "      <td>0.547100</td>\n",
              "      <td>0.349086</td>\n",
              "      <td>0.297719</td>\n",
              "      <td>0.211375</td>\n",
              "      <td>0.243758</td>\n",
              "      <td>0.379129</td>\n",
              "      <td>0.003848</td>\n",
              "      <td>-0.109880</td>\n",
              "      <td>0.592885</td>\n",
              "      <td>0.063299</td>\n",
              "      <td>-0.006874</td>\n",
              "      <td>0.040913</td>\n",
              "      <td>0.409701</td>\n",
              "    </tr>\n",
              "    <tr>\n",
              "      <th>A4</th>\n",
              "      <td>0.073426</td>\n",
              "      <td>0.247524</td>\n",
              "      <td>0.265867</td>\n",
              "      <td>0.547100</td>\n",
              "      <td>1.000000</td>\n",
              "      <td>0.348459</td>\n",
              "      <td>0.347693</td>\n",
              "      <td>0.318546</td>\n",
              "      <td>0.251504</td>\n",
              "      <td>0.427683</td>\n",
              "      <td>0.016872</td>\n",
              "      <td>-0.087873</td>\n",
              "      <td>0.642890</td>\n",
              "      <td>0.105087</td>\n",
              "      <td>0.027464</td>\n",
              "      <td>-0.036625</td>\n",
              "      <td>0.505204</td>\n",
              "    </tr>\n",
              "    <tr>\n",
              "      <th>A5</th>\n",
              "      <td>0.055263</td>\n",
              "      <td>0.284808</td>\n",
              "      <td>0.259105</td>\n",
              "      <td>0.349086</td>\n",
              "      <td>0.348459</td>\n",
              "      <td>1.000000</td>\n",
              "      <td>0.415309</td>\n",
              "      <td>0.348913</td>\n",
              "      <td>0.316661</td>\n",
              "      <td>0.441892</td>\n",
              "      <td>0.045347</td>\n",
              "      <td>0.018448</td>\n",
              "      <td>0.649518</td>\n",
              "      <td>0.129724</td>\n",
              "      <td>0.025135</td>\n",
              "      <td>-0.021662</td>\n",
              "      <td>0.563297</td>\n",
              "    </tr>\n",
              "    <tr>\n",
              "      <th>A6</th>\n",
              "      <td>0.041315</td>\n",
              "      <td>0.373083</td>\n",
              "      <td>0.309461</td>\n",
              "      <td>0.297719</td>\n",
              "      <td>0.347693</td>\n",
              "      <td>0.415309</td>\n",
              "      <td>1.000000</td>\n",
              "      <td>0.361758</td>\n",
              "      <td>0.280556</td>\n",
              "      <td>0.416213</td>\n",
              "      <td>0.072162</td>\n",
              "      <td>0.065907</td>\n",
              "      <td>0.659377</td>\n",
              "      <td>0.025144</td>\n",
              "      <td>-0.004882</td>\n",
              "      <td>0.046654</td>\n",
              "      <td>0.569424</td>\n",
              "    </tr>\n",
              "    <tr>\n",
              "      <th>A7</th>\n",
              "      <td>0.087687</td>\n",
              "      <td>0.332705</td>\n",
              "      <td>0.294314</td>\n",
              "      <td>0.211375</td>\n",
              "      <td>0.318546</td>\n",
              "      <td>0.348913</td>\n",
              "      <td>0.361758</td>\n",
              "      <td>1.000000</td>\n",
              "      <td>0.257228</td>\n",
              "      <td>0.360686</td>\n",
              "      <td>0.175114</td>\n",
              "      <td>0.021442</td>\n",
              "      <td>0.619053</td>\n",
              "      <td>0.044680</td>\n",
              "      <td>0.048327</td>\n",
              "      <td>-0.024248</td>\n",
              "      <td>0.563177</td>\n",
              "    </tr>\n",
              "    <tr>\n",
              "      <th>A8</th>\n",
              "      <td>0.023916</td>\n",
              "      <td>0.208197</td>\n",
              "      <td>0.251865</td>\n",
              "      <td>0.243758</td>\n",
              "      <td>0.251504</td>\n",
              "      <td>0.316661</td>\n",
              "      <td>0.280556</td>\n",
              "      <td>0.257228</td>\n",
              "      <td>1.000000</td>\n",
              "      <td>0.293457</td>\n",
              "      <td>0.082004</td>\n",
              "      <td>0.080505</td>\n",
              "      <td>0.543229</td>\n",
              "      <td>0.076609</td>\n",
              "      <td>0.003202</td>\n",
              "      <td>-0.036569</td>\n",
              "      <td>0.427155</td>\n",
              "    </tr>\n",
              "    <tr>\n",
              "      <th>A9</th>\n",
              "      <td>0.069870</td>\n",
              "      <td>0.322226</td>\n",
              "      <td>0.268784</td>\n",
              "      <td>0.379129</td>\n",
              "      <td>0.427683</td>\n",
              "      <td>0.441892</td>\n",
              "      <td>0.416213</td>\n",
              "      <td>0.360686</td>\n",
              "      <td>0.293457</td>\n",
              "      <td>1.000000</td>\n",
              "      <td>0.028710</td>\n",
              "      <td>-0.048650</td>\n",
              "      <td>0.671638</td>\n",
              "      <td>0.087463</td>\n",
              "      <td>0.012801</td>\n",
              "      <td>-0.011486</td>\n",
              "      <td>0.577336</td>\n",
              "    </tr>\n",
              "    <tr>\n",
              "      <th>A10</th>\n",
              "      <td>-0.027257</td>\n",
              "      <td>0.130966</td>\n",
              "      <td>0.157498</td>\n",
              "      <td>0.003848</td>\n",
              "      <td>0.016872</td>\n",
              "      <td>0.045347</td>\n",
              "      <td>0.072162</td>\n",
              "      <td>0.175114</td>\n",
              "      <td>0.082004</td>\n",
              "      <td>0.028710</td>\n",
              "      <td>1.000000</td>\n",
              "      <td>-0.013021</td>\n",
              "      <td>0.290145</td>\n",
              "      <td>-0.050145</td>\n",
              "      <td>0.026521</td>\n",
              "      <td>0.006927</td>\n",
              "      <td>0.179833</td>\n",
              "    </tr>\n",
              "    <tr>\n",
              "      <th>Age_Mons</th>\n",
              "      <td>0.027098</td>\n",
              "      <td>0.040508</td>\n",
              "      <td>0.037744</td>\n",
              "      <td>-0.109880</td>\n",
              "      <td>-0.087873</td>\n",
              "      <td>0.018448</td>\n",
              "      <td>0.065907</td>\n",
              "      <td>0.021442</td>\n",
              "      <td>0.080505</td>\n",
              "      <td>-0.048650</td>\n",
              "      <td>-0.013021</td>\n",
              "      <td>1.000000</td>\n",
              "      <td>0.000849</td>\n",
              "      <td>0.128840</td>\n",
              "      <td>-0.042372</td>\n",
              "      <td>0.032851</td>\n",
              "      <td>0.066831</td>\n",
              "    </tr>\n",
              "    <tr>\n",
              "      <th>Qchat-10-Score</th>\n",
              "      <td>0.077110</td>\n",
              "      <td>0.614064</td>\n",
              "      <td>0.592424</td>\n",
              "      <td>0.592885</td>\n",
              "      <td>0.642890</td>\n",
              "      <td>0.649518</td>\n",
              "      <td>0.659377</td>\n",
              "      <td>0.619053</td>\n",
              "      <td>0.543229</td>\n",
              "      <td>0.671638</td>\n",
              "      <td>0.290145</td>\n",
              "      <td>0.000849</td>\n",
              "      <td>1.000000</td>\n",
              "      <td>0.112853</td>\n",
              "      <td>0.029155</td>\n",
              "      <td>0.008762</td>\n",
              "      <td>0.810423</td>\n",
              "    </tr>\n",
              "    <tr>\n",
              "      <th>Sex</th>\n",
              "      <td>0.066949</td>\n",
              "      <td>0.111508</td>\n",
              "      <td>0.067086</td>\n",
              "      <td>0.063299</td>\n",
              "      <td>0.105087</td>\n",
              "      <td>0.129724</td>\n",
              "      <td>0.025144</td>\n",
              "      <td>0.044680</td>\n",
              "      <td>0.076609</td>\n",
              "      <td>0.087463</td>\n",
              "      <td>-0.050145</td>\n",
              "      <td>0.128840</td>\n",
              "      <td>0.112853</td>\n",
              "      <td>1.000000</td>\n",
              "      <td>0.037840</td>\n",
              "      <td>0.058686</td>\n",
              "      <td>0.117664</td>\n",
              "    </tr>\n",
              "    <tr>\n",
              "      <th>Jaundice</th>\n",
              "      <td>-0.002757</td>\n",
              "      <td>-0.005613</td>\n",
              "      <td>0.046039</td>\n",
              "      <td>-0.006874</td>\n",
              "      <td>0.027464</td>\n",
              "      <td>0.025135</td>\n",
              "      <td>-0.004882</td>\n",
              "      <td>0.048327</td>\n",
              "      <td>0.003202</td>\n",
              "      <td>0.012801</td>\n",
              "      <td>0.026521</td>\n",
              "      <td>-0.042372</td>\n",
              "      <td>0.029155</td>\n",
              "      <td>0.037840</td>\n",
              "      <td>1.000000</td>\n",
              "      <td>0.078427</td>\n",
              "      <td>0.074060</td>\n",
              "    </tr>\n",
              "    <tr>\n",
              "      <th>Family_mem_with_ASD</th>\n",
              "      <td>-0.013243</td>\n",
              "      <td>0.053020</td>\n",
              "      <td>0.034800</td>\n",
              "      <td>0.040913</td>\n",
              "      <td>-0.036625</td>\n",
              "      <td>-0.021662</td>\n",
              "      <td>0.046654</td>\n",
              "      <td>-0.024248</td>\n",
              "      <td>-0.036569</td>\n",
              "      <td>-0.011486</td>\n",
              "      <td>0.006927</td>\n",
              "      <td>0.032851</td>\n",
              "      <td>0.008762</td>\n",
              "      <td>0.058686</td>\n",
              "      <td>0.078427</td>\n",
              "      <td>1.000000</td>\n",
              "      <td>-0.013503</td>\n",
              "    </tr>\n",
              "    <tr>\n",
              "      <th>Class/ASD Traits</th>\n",
              "      <td>0.079966</td>\n",
              "      <td>0.503810</td>\n",
              "      <td>0.463467</td>\n",
              "      <td>0.409701</td>\n",
              "      <td>0.505204</td>\n",
              "      <td>0.563297</td>\n",
              "      <td>0.569424</td>\n",
              "      <td>0.563177</td>\n",
              "      <td>0.427155</td>\n",
              "      <td>0.577336</td>\n",
              "      <td>0.179833</td>\n",
              "      <td>0.066831</td>\n",
              "      <td>0.810423</td>\n",
              "      <td>0.117664</td>\n",
              "      <td>0.074060</td>\n",
              "      <td>-0.013503</td>\n",
              "      <td>1.000000</td>\n",
              "    </tr>\n",
              "  </tbody>\n",
              "</table>\n",
              "</div>"
            ],
            "text/plain": [
              "                      Case_No        A1  ...  Family_mem_with_ASD  Class/ASD Traits \n",
              "Case_No              1.000000  0.050828  ...            -0.013243           0.079966\n",
              "A1                   0.050828  1.000000  ...             0.053020           0.503810\n",
              "A2                  -0.002668  0.463227  ...             0.034800           0.463467\n",
              "A3                   0.082087  0.244362  ...             0.040913           0.409701\n",
              "A4                   0.073426  0.247524  ...            -0.036625           0.505204\n",
              "A5                   0.055263  0.284808  ...            -0.021662           0.563297\n",
              "A6                   0.041315  0.373083  ...             0.046654           0.569424\n",
              "A7                   0.087687  0.332705  ...            -0.024248           0.563177\n",
              "A8                   0.023916  0.208197  ...            -0.036569           0.427155\n",
              "A9                   0.069870  0.322226  ...            -0.011486           0.577336\n",
              "A10                 -0.027257  0.130966  ...             0.006927           0.179833\n",
              "Age_Mons             0.027098  0.040508  ...             0.032851           0.066831\n",
              "Qchat-10-Score       0.077110  0.614064  ...             0.008762           0.810423\n",
              "Sex                  0.066949  0.111508  ...             0.058686           0.117664\n",
              "Jaundice            -0.002757 -0.005613  ...             0.078427           0.074060\n",
              "Family_mem_with_ASD -0.013243  0.053020  ...             1.000000          -0.013503\n",
              "Class/ASD Traits     0.079966  0.503810  ...            -0.013503           1.000000\n",
              "\n",
              "[17 rows x 17 columns]"
            ]
          },
          "execution_count": null,
          "metadata": {},
          "output_type": "execute_result"
        }
      ],
      "source": [
        "df_autism.corr()"
      ]
    },
    {
      "cell_type": "code",
      "execution_count": null,
      "metadata": {
        "colab": {
          "background_save": true,
          "base_uri": "https://localhost:8080/",
          "height": 391
        },
        "id": "Z7nsOYy-vq0K",
        "outputId": "427b81a9-39c8-4556-911b-734fd67887b9"
      },
      "outputs": [
        {
          "data": {
            "text/plain": [
              "[]"
            ]
          },
          "execution_count": null,
          "metadata": {},
          "output_type": "execute_result"
        },
        {
          "data": {
            "image/png": "[encoded data removed]",
            "text/plain": [
              "<Figure size 432x288 with 2 Axes>"
            ]
          },
          "metadata": {},
          "output_type": "display_data"
        }
      ],
      "source": [
        "import seaborn as sns\n",
        "import matplotlib.pyplot as plt\n",
        "\n",
        "sns.heatmap(round(df_autism.corr(),1), cmap='Dark2', annot=True)\n",
        "plt.plot()"
      ]
    },
    {
      "cell_type": "code",
      "execution_count": null,
      "metadata": {
        "colab": {
          "background_save": true,
          "base_uri": "https://localhost:8080/",
          "height": 419
        },
        "id": "CcXsd3K7v6FG",
        "outputId": "17c1d8b8-69ef-4d2f-9901-2d325339b31d"
      },
      "outputs": [
        {
          "data": {
            "text/html": [
              "<div>\n",
              "<style scoped>\n",
              "    .dataframe tbody tr th:only-of-type {\n",
              "        vertical-align: middle;\n",
              "    }\n",
              "\n",
              "    .dataframe tbody tr th {\n",
              "        vertical-align: top;\n",
              "    }\n",
              "\n",
              "    .dataframe thead th {\n",
              "        text-align: right;\n",
              "    }\n",
              "</style>\n",
              "<table border=\"1\" class=\"dataframe\">\n",
              "  <thead>\n",
              "    <tr style=\"text-align: right;\">\n",
              "      <th></th>\n",
              "      <th>Case_No</th>\n",
              "      <th>A1</th>\n",
              "      <th>A2</th>\n",
              "      <th>A3</th>\n",
              "      <th>A4</th>\n",
              "      <th>A5</th>\n",
              "      <th>A6</th>\n",
              "      <th>A7</th>\n",
              "      <th>A8</th>\n",
              "      <th>A9</th>\n",
              "      <th>A10</th>\n",
              "      <th>Age_Mons</th>\n",
              "      <th>Qchat-10-Score</th>\n",
              "      <th>Sex</th>\n",
              "      <th>Jaundice</th>\n",
              "      <th>Family_mem_with_ASD</th>\n",
              "      <th>Class/ASD Traits</th>\n",
              "    </tr>\n",
              "  </thead>\n",
              "  <tbody>\n",
              "    <tr>\n",
              "      <th>0</th>\n",
              "      <td>1</td>\n",
              "      <td>0</td>\n",
              "      <td>0</td>\n",
              "      <td>0</td>\n",
              "      <td>0</td>\n",
              "      <td>0</td>\n",
              "      <td>0</td>\n",
              "      <td>1</td>\n",
              "      <td>1</td>\n",
              "      <td>0</td>\n",
              "      <td>1</td>\n",
              "      <td>28</td>\n",
              "      <td>3</td>\n",
              "      <td>0</td>\n",
              "      <td>1</td>\n",
              "      <td>0</td>\n",
              "      <td>0</td>\n",
              "    </tr>\n",
              "    <tr>\n",
              "      <th>1</th>\n",
              "      <td>2</td>\n",
              "      <td>1</td>\n",
              "      <td>1</td>\n",
              "      <td>0</td>\n",
              "      <td>0</td>\n",
              "      <td>0</td>\n",
              "      <td>1</td>\n",
              "      <td>1</td>\n",
              "      <td>0</td>\n",
              "      <td>0</td>\n",
              "      <td>0</td>\n",
              "      <td>36</td>\n",
              "      <td>4</td>\n",
              "      <td>1</td>\n",
              "      <td>1</td>\n",
              "      <td>0</td>\n",
              "      <td>1</td>\n",
              "    </tr>\n",
              "    <tr>\n",
              "      <th>2</th>\n",
              "      <td>3</td>\n",
              "      <td>1</td>\n",
              "      <td>0</td>\n",
              "      <td>0</td>\n",
              "      <td>0</td>\n",
              "      <td>0</td>\n",
              "      <td>0</td>\n",
              "      <td>1</td>\n",
              "      <td>1</td>\n",
              "      <td>0</td>\n",
              "      <td>1</td>\n",
              "      <td>36</td>\n",
              "      <td>4</td>\n",
              "      <td>1</td>\n",
              "      <td>1</td>\n",
              "      <td>0</td>\n",
              "      <td>1</td>\n",
              "    </tr>\n",
              "    <tr>\n",
              "      <th>3</th>\n",
              "      <td>4</td>\n",
              "      <td>1</td>\n",
              "      <td>1</td>\n",
              "      <td>1</td>\n",
              "      <td>1</td>\n",
              "      <td>1</td>\n",
              "      <td>1</td>\n",
              "      <td>1</td>\n",
              "      <td>1</td>\n",
              "      <td>1</td>\n",
              "      <td>1</td>\n",
              "      <td>24</td>\n",
              "      <td>10</td>\n",
              "      <td>1</td>\n",
              "      <td>0</td>\n",
              "      <td>0</td>\n",
              "      <td>1</td>\n",
              "    </tr>\n",
              "    <tr>\n",
              "      <th>4</th>\n",
              "      <td>5</td>\n",
              "      <td>1</td>\n",
              "      <td>1</td>\n",
              "      <td>0</td>\n",
              "      <td>1</td>\n",
              "      <td>1</td>\n",
              "      <td>1</td>\n",
              "      <td>1</td>\n",
              "      <td>1</td>\n",
              "      <td>1</td>\n",
              "      <td>1</td>\n",
              "      <td>20</td>\n",
              "      <td>9</td>\n",
              "      <td>0</td>\n",
              "      <td>0</td>\n",
              "      <td>1</td>\n",
              "      <td>1</td>\n",
              "    </tr>\n",
              "    <tr>\n",
              "      <th>...</th>\n",
              "      <td>...</td>\n",
              "      <td>...</td>\n",
              "      <td>...</td>\n",
              "      <td>...</td>\n",
              "      <td>...</td>\n",
              "      <td>...</td>\n",
              "      <td>...</td>\n",
              "      <td>...</td>\n",
              "      <td>...</td>\n",
              "      <td>...</td>\n",
              "      <td>...</td>\n",
              "      <td>...</td>\n",
              "      <td>...</td>\n",
              "      <td>...</td>\n",
              "      <td>...</td>\n",
              "      <td>...</td>\n",
              "      <td>...</td>\n",
              "    </tr>\n",
              "    <tr>\n",
              "      <th>1049</th>\n",
              "      <td>1050</td>\n",
              "      <td>0</td>\n",
              "      <td>0</td>\n",
              "      <td>0</td>\n",
              "      <td>0</td>\n",
              "      <td>0</td>\n",
              "      <td>0</td>\n",
              "      <td>0</td>\n",
              "      <td>0</td>\n",
              "      <td>0</td>\n",
              "      <td>1</td>\n",
              "      <td>24</td>\n",
              "      <td>1</td>\n",
              "      <td>0</td>\n",
              "      <td>0</td>\n",
              "      <td>1</td>\n",
              "      <td>0</td>\n",
              "    </tr>\n",
              "    <tr>\n",
              "      <th>1050</th>\n",
              "      <td>1051</td>\n",
              "      <td>0</td>\n",
              "      <td>0</td>\n",
              "      <td>1</td>\n",
              "      <td>1</td>\n",
              "      <td>1</td>\n",
              "      <td>0</td>\n",
              "      <td>1</td>\n",
              "      <td>0</td>\n",
              "      <td>1</td>\n",
              "      <td>0</td>\n",
              "      <td>12</td>\n",
              "      <td>5</td>\n",
              "      <td>1</td>\n",
              "      <td>1</td>\n",
              "      <td>0</td>\n",
              "      <td>1</td>\n",
              "    </tr>\n",
              "    <tr>\n",
              "      <th>1051</th>\n",
              "      <td>1052</td>\n",
              "      <td>1</td>\n",
              "      <td>0</td>\n",
              "      <td>1</td>\n",
              "      <td>1</td>\n",
              "      <td>1</td>\n",
              "      <td>1</td>\n",
              "      <td>1</td>\n",
              "      <td>1</td>\n",
              "      <td>1</td>\n",
              "      <td>1</td>\n",
              "      <td>18</td>\n",
              "      <td>9</td>\n",
              "      <td>1</td>\n",
              "      <td>1</td>\n",
              "      <td>0</td>\n",
              "      <td>1</td>\n",
              "    </tr>\n",
              "    <tr>\n",
              "      <th>1052</th>\n",
              "      <td>1053</td>\n",
              "      <td>1</td>\n",
              "      <td>0</td>\n",
              "      <td>0</td>\n",
              "      <td>0</td>\n",
              "      <td>0</td>\n",
              "      <td>0</td>\n",
              "      <td>0</td>\n",
              "      <td>1</td>\n",
              "      <td>0</td>\n",
              "      <td>1</td>\n",
              "      <td>19</td>\n",
              "      <td>3</td>\n",
              "      <td>1</td>\n",
              "      <td>0</td>\n",
              "      <td>1</td>\n",
              "      <td>0</td>\n",
              "    </tr>\n",
              "    <tr>\n",
              "      <th>1053</th>\n",
              "      <td>1054</td>\n",
              "      <td>1</td>\n",
              "      <td>1</td>\n",
              "      <td>0</td>\n",
              "      <td>0</td>\n",
              "      <td>1</td>\n",
              "      <td>1</td>\n",
              "      <td>0</td>\n",
              "      <td>1</td>\n",
              "      <td>1</td>\n",
              "      <td>0</td>\n",
              "      <td>24</td>\n",
              "      <td>6</td>\n",
              "      <td>1</td>\n",
              "      <td>1</td>\n",
              "      <td>1</td>\n",
              "      <td>1</td>\n",
              "    </tr>\n",
              "  </tbody>\n",
              "</table>\n",
              "<p>1054 rows × 17 columns</p>\n",
              "</div>"
            ],
            "text/plain": [
              "      Case_No  A1  A2  ...  Jaundice  Family_mem_with_ASD  Class/ASD Traits \n",
              "0           1   0   0  ...         1                    0                  0\n",
              "1           2   1   1  ...         1                    0                  1\n",
              "2           3   1   0  ...         1                    0                  1\n",
              "3           4   1   1  ...         0                    0                  1\n",
              "4           5   1   1  ...         0                    1                  1\n",
              "...       ...  ..  ..  ...       ...                  ...                ...\n",
              "1049     1050   0   0  ...         0                    1                  0\n",
              "1050     1051   0   0  ...         1                    0                  1\n",
              "1051     1052   1   0  ...         1                    0                  1\n",
              "1052     1053   1   0  ...         0                    1                  0\n",
              "1053     1054   1   1  ...         1                    1                  1\n",
              "\n",
              "[1054 rows x 17 columns]"
            ]
          },
          "execution_count": null,
          "metadata": {},
          "output_type": "execute_result"
        }
      ],
      "source": [
        "df_autism.drop(['Ethnicity','Who completed the test'],axis=1)"
      ]
    },
    {
      "cell_type": "code",
      "execution_count": null,
      "metadata": {
        "colab": {
          "background_save": true
        },
        "id": "dVQcnzeT-8I9"
      },
      "outputs": [],
      "source": [
        "X=df_autism.drop(['Class/ASD Traits ','Who completed the test', 'Ethnicity'], axis=1).values\n",
        "#X = df_voice\n",
        "y = df_autism['Class/ASD Traits '].values\n",
        "\n",
        "# Dividimos el conjunto en train, test\n",
        "X_train, X_test, y_train, y_test = train_test_split(X, y, random_state=80, test_size=0.3)"
      ]
    },
    {
      "cell_type": "code",
      "execution_count": null,
      "metadata": {
        "colab": {
          "background_save": true,
          "base_uri": "https://localhost:8080/"
        },
        "id": "wEeJqZXt_WlX",
        "outputId": "bf8201a2-7a61-40ca-e0c0-5f5b91df005f"
      },
      "outputs": [
        {
          "name": "stdout",
          "output_type": "stream",
          "text": [
            "[[   1    0    0 ...    0    1    0]\n",
            " [   2    1    1 ...    1    1    0]\n",
            " [   3    1    0 ...    1    1    0]\n",
            " ...\n",
            " [1052    1    0 ...    1    1    0]\n",
            " [1053    1    0 ...    1    0    1]\n",
            " [1054    1    1 ...    1    1    1]]\n"
          ]
        }
      ],
      "source": [
        "print(X)"
      ]
    },
    {
      "cell_type": "code",
      "execution_count": null,
      "metadata": {
        "colab": {
          "background_save": true,
          "base_uri": "https://localhost:8080/"
        },
        "id": "yNpYgnmRwXe3",
        "outputId": "95d00ce5-ed7f-41a1-c8ff-00b7237b832f"
      },
      "outputs": [
        {
          "data": {
            "text/plain": [
              "array([5.25591588e+02, 5.61736771e-01, 4.36906377e-01, 4.11126187e-01,\n",
              "       5.29172320e-01, 5.34599729e-01, 5.82089552e-01, 6.60786974e-01,\n",
              "       4.46404342e-01, 5.00678426e-01, 6.01085482e-01, 2.78480326e+01,\n",
              "       5.26458616e+00, 6.94708277e-01, 2.67299864e-01, 1.64179104e-01])"
            ]
          },
          "execution_count": null,
          "metadata": {},
          "output_type": "execute_result"
        }
      ],
      "source": [
        "scaler_autism= preprocessing.StandardScaler().fit(X_train)\n",
        "\n",
        "scaler_autism.mean_\n",
        "\n"
      ]
    },
    {
      "cell_type": "code",
      "execution_count": null,
      "metadata": {
        "colab": {
          "background_save": true
        },
        "id": "5uXgfg9IA5M2"
      },
      "outputs": [],
      "source": [
        "X_train_norm = scaler_autism.transform(X_train)\n",
        "X_test_norm = scaler_autism.transform(X_test)"
      ]
    },
    {
      "cell_type": "code",
      "execution_count": null,
      "metadata": {
        "colab": {
          "background_save": true,
          "base_uri": "https://localhost:8080/"
        },
        "id": "qHdAfSZIBEp_",
        "outputId": "de7631e1-0d55-40fa-d333-9c246cb9adb1"
      },
      "outputs": [
        {
          "data": {
            "text/plain": [
              "SVC(C=1.0, break_ties=False, cache_size=200, class_weight=None, coef0=0.0,\n",
              "    decision_function_shape='ovr', degree=3, gamma='scale', kernel='rbf',\n",
              "    max_iter=-1, probability=False, random_state=None, shrinking=True,\n",
              "    tol=0.001, verbose=False)"
            ]
          },
          "execution_count": null,
          "metadata": {},
          "output_type": "execute_result"
        }
      ],
      "source": [
        "from sklearn import svm\n",
        "\n",
        "clf_svm_autism = svm.SVC()\n",
        "clf_svm_autism.fit(X_train_norm, y_train)"
      ]
    },
    {
      "cell_type": "code",
      "execution_count": null,
      "metadata": {
        "colab": {
          "background_save": true,
          "base_uri": "https://localhost:8080/"
        },
        "id": "Vrlly0_UBP_q",
        "outputId": "f7810dea-7523-46ce-fd37-cd19ed762d94"
      },
      "outputs": [
        {
          "name": "stdout",
          "output_type": "stream",
          "text": [
            "Suport Vector Classfier en autismo: 0.9905362776025236\n"
          ]
        }
      ],
      "source": [
        " print('Suport Vector Classfier en autismo:', clf_svm_autism.score(X_test_norm,y_test))"
      ]
    },
    {
      "cell_type": "code",
      "execution_count": null,
      "metadata": {
        "colab": {
          "background_save": true,
          "base_uri": "https://localhost:8080/"
        },
        "id": "DkvvsPoSBl0V",
        "outputId": "7410ac01-74f4-4934-e812-f48c9b919546"
      },
      "outputs": [
        {
          "data": {
            "text/plain": [
              "GridSearchCV(cv=None, error_score=nan,\n",
              "             estimator=SVC(C=1.0, break_ties=False, cache_size=200,\n",
              "                           class_weight=None, coef0=0.0,\n",
              "                           decision_function_shape='ovr', degree=3,\n",
              "                           gamma='scale', kernel='rbf', max_iter=-1,\n",
              "                           probability=True, random_state=None, shrinking=True,\n",
              "                           tol=0.001, verbose=False),\n",
              "             iid='deprecated', n_jobs=None,\n",
              "             param_grid=[{'C': [0.0001, 0.001, 0.01, 0.01, 1, 2, 3, 100],\n",
              "                          'gamma': [100, 1000, 10000],\n",
              "                          'kernel': ['linear', 'poly', 'rbf']}],\n",
              "             pre_dispatch='2*n_jobs', refit=True, return_train_score=False,\n",
              "             scoring='accuracy', verbose=0)"
            ]
          },
          "execution_count": null,
          "metadata": {},
          "output_type": "execute_result"
        }
      ],
      "source": [
        "from sklearn.model_selection import GridSearchCV\n",
        "parameters = [{\n",
        "'kernel': ['linear', 'poly', 'rbf'], \n",
        "'C': [0.0001,0.001,0.01,0.01,1,2,3,100],\n",
        " 'gamma':[100,1000,10000]\n",
        "}]\n",
        "clf_svm_grid_autism = GridSearchCV(\n",
        "    \n",
        "        svm.SVC(probability=True), parameters, scoring='accuracy'\n",
        "    )\n",
        "\n",
        "\n",
        "clf_svm_grid_autism.fit(X_train_norm, y_train)"
      ]
    },
    {
      "cell_type": "code",
      "execution_count": null,
      "metadata": {
        "colab": {
          "background_save": true,
          "base_uri": "https://localhost:8080/"
        },
        "id": "6eMEAAl-Cqqu",
        "outputId": "60aadae2-2d87-4d12-d62b-a11ce4c057d5"
      },
      "outputs": [
        {
          "name": "stdout",
          "output_type": "stream",
          "text": [
            "Porcentaje de acierto para Fold 1 : 1.0\n",
            "Porcentaje de acierto para Fold 2 : 1.0\n",
            "Porcentaje de acierto para Fold 3 : 1.0\n",
            "Porcentaje de acierto para Fold 4 : 1.0\n",
            "Porcentaje de acierto para Fold 5 : 1.0\n",
            "El promedio de los scores que obtuve fue  1.0\n"
          ]
        }
      ],
      "source": [
        "from sklearn.model_selection import KFold\n",
        "\n",
        "\n",
        "count = 0\n",
        "\n",
        "n_splits = 5\n",
        "acum = 0\n",
        "kf = KFold(n_splits=n_splits, shuffle=True,random_state=40)\n",
        "\n",
        "for train_index, validation_index in kf.split(X_train):\n",
        "    X_train_kf, X_validation_kf = X_train_norm[train_index], X_train_norm[validation_index]\n",
        "    y_train_kf, y_validation_kf = y_train[train_index], y_train[validation_index]\n",
        "    \n",
        "    count +=1\n",
        "\n",
        "    print('Porcentaje de acierto para Fold', count, ':', clf_svm_grid_autism.score(X_validation_kf,y_validation_kf))\n",
        "    \n",
        "    acum +=clf_svm_grid_autism.score(X_validation_kf,y_validation_kf)\n",
        "\n",
        "print(\"El promedio de los scores que obtuve fue \", acum/n_splits)"
      ]
    },
    {
      "cell_type": "code",
      "execution_count": null,
      "metadata": {
        "colab": {
          "background_save": true,
          "base_uri": "https://localhost:8080/",
          "height": 295
        },
        "id": "IaGntPY9bGlK",
        "outputId": "273bc249-942d-4e7d-b836-be9c0c68b609"
      },
      "outputs": [
        {
          "data": {
            "image/png": "[encoded data removed]",
            "text/plain": [
              "<Figure size 432x288 with 1 Axes>"
            ]
          },
          "metadata": {},
          "output_type": "display_data"
        }
      ],
      "source": [
        "y_hat_probas = clf_svm_grid_autism.predict_proba(X_test_norm)\n",
        "\n",
        "# predicted probabilities generated by sklearn classifier\n",
        "# Notar que micro-average ROC curve es el promedio de las áreas de las curvas ROC, \n",
        "# mientras que macro-average ROC curve es el mismo promedio pero ponderado por la \n",
        "# cantidad de observaciones de cada clase.\n",
        "skplt.metrics.plot_roc(y_test, y_hat_probas, plot_micro=False, plot_macro=False)\n",
        "plt.show()"
      ]
    },
    {
      "cell_type": "code",
      "execution_count": null,
      "metadata": {
        "colab": {
          "background_save": true,
          "base_uri": "https://localhost:8080/",
          "height": 279
        },
        "id": "69qEqDa1bUNG",
        "outputId": "ef8c56a9-f9c4-4c8c-b950-b75862b4698e"
      },
      "outputs": [
        {
          "data": {
            "image/png": "[encoded data removed]",
            "text/plain": [
              "<Figure size 432x288 with 2 Axes>"
            ]
          },
          "metadata": {},
          "output_type": "display_data"
        }
      ],
      "source": [
        "import matplotlib.pyplot as plt\n",
        "%matplotlib inline\n",
        "from sklearn.metrics import plot_confusion_matrix\n",
        "\n",
        "plot_confusion_matrix(clf_svm_grid_autism, X_test, y_test,\n",
        "                      display_labels=df_autism['Class/ASD Traits '],\n",
        "                      cmap=plt.cm.Blues)\n",
        "plt.show()"
      ]
    },
    {
      "cell_type": "code",
      "execution_count": null,
      "metadata": {
        "colab": {
          "background_save": true,
          "base_uri": "https://localhost:8080/"
        },
        "id": "auNl8Qkab98u",
        "outputId": "e650e8fb-94a2-430f-e232-a74f631396b0"
      },
      "outputs": [
        {
          "name": "stdout",
          "output_type": "stream",
          "text": [
            "              precision    recall  f1-score   support\n",
            "\n",
            "           0       1.00      1.00      1.00       110\n",
            "           1       1.00      1.00      1.00       207\n",
            "\n",
            "    accuracy                           1.00       317\n",
            "   macro avg       1.00      1.00      1.00       317\n",
            "weighted avg       1.00      1.00      1.00       317\n",
            "\n"
          ]
        }
      ],
      "source": [
        "from sklearn import metrics\n",
        "y_svm_hat_autism = clf_svm_grid_autism.predict(X_test_norm)\n",
        "print(metrics.classification_report(y_test, y_svm_hat_autism))"
      ]
    }
  ],
  "metadata": {
    "colab": {
      "collapsed_sections": [],
      "provenance": [],
      "mount_file_id": "1wpeohyb95PcokN0K_FgNIODjaqyHnLoB",
      "authorship_tag": "ABX9TyNJkSRgCOLPs71Ogpva0m51",
      "include_colab_link": true
    },
    "kernelspec": {
      "display_name": "Python 3",
      "name": "python3"
    },
    "language_info": {
      "name": "python"
    }
  },
  "nbformat": 4,
  "nbformat_minor": 0
}